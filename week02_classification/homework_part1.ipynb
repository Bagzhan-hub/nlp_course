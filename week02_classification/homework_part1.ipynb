{
 "cells": [
  {
   "cell_type": "code",
   "execution_count": 1,
   "metadata": {
    "pycharm": {
     "name": "#%%\n"
    }
   },
   "outputs": [],
   "source": [
    "import numpy as np\n",
    "import matplotlib.pyplot as plt\n",
    "%matplotlib inline"
   ]
  },
  {
   "cell_type": "markdown",
   "metadata": {
    "pycharm": {
     "name": "#%% md\n"
    }
   },
   "source": [
    "### Homework part I: Prohibited Comment Classification (3 points)\n",
    "\n",
    "![img](https://github.com/yandexdataschool/nlp_course/raw/master/resources/banhammer.jpg)\n",
    "\n",
    "__In this notebook__ you will build an algorithm that classifies social media comments into normal or toxic.\n",
    "Like in many real-world cases, you only have a small (10^3) dataset of hand-labeled examples to work with. We'll tackle this problem using both classical nlp methods and embedding-based approach."
   ]
  },
  {
   "cell_type": "code",
   "execution_count": 2,
   "metadata": {
    "pycharm": {
     "name": "#%%\n"
    }
   },
   "outputs": [
    {
     "data": {
      "text/plain": "     should_ban                                       comment_text\n50            0  \"Those who're in advantageous positions are th...\n250           1          Fartsalot56 says f**k you motherclucker!!\n450           1  Are you a fool? \\n\\nI am sorry, but you seem t...\n650           1    I AM NOT A VANDAL!!!!!!!!!!!!!!!!!!!!!!!!!!!!!!\n850           0  Citing sources\\n\\nCheck out the Wikipedia:Citi...",
      "text/html": "<div>\n<style scoped>\n    .dataframe tbody tr th:only-of-type {\n        vertical-align: middle;\n    }\n\n    .dataframe tbody tr th {\n        vertical-align: top;\n    }\n\n    .dataframe thead th {\n        text-align: right;\n    }\n</style>\n<table border=\"1\" class=\"dataframe\">\n  <thead>\n    <tr style=\"text-align: right;\">\n      <th></th>\n      <th>should_ban</th>\n      <th>comment_text</th>\n    </tr>\n  </thead>\n  <tbody>\n    <tr>\n      <th>50</th>\n      <td>0</td>\n      <td>\"Those who're in advantageous positions are th...</td>\n    </tr>\n    <tr>\n      <th>250</th>\n      <td>1</td>\n      <td>Fartsalot56 says f**k you motherclucker!!</td>\n    </tr>\n    <tr>\n      <th>450</th>\n      <td>1</td>\n      <td>Are you a fool? \\n\\nI am sorry, but you seem t...</td>\n    </tr>\n    <tr>\n      <th>650</th>\n      <td>1</td>\n      <td>I AM NOT A VANDAL!!!!!!!!!!!!!!!!!!!!!!!!!!!!!!</td>\n    </tr>\n    <tr>\n      <th>850</th>\n      <td>0</td>\n      <td>Citing sources\\n\\nCheck out the Wikipedia:Citi...</td>\n    </tr>\n  </tbody>\n</table>\n</div>"
     },
     "execution_count": 2,
     "metadata": {},
     "output_type": "execute_result"
    }
   ],
   "source": [
    "import pandas as pd\n",
    "data = pd.read_csv(\"comments.tsv\", sep='\\t')\n",
    "\n",
    "texts = data['comment_text'].values\n",
    "target = data['should_ban'].values\n",
    "data[50::200]"
   ]
  },
  {
   "cell_type": "code",
   "execution_count": 3,
   "metadata": {
    "pycharm": {
     "name": "#%%\n"
    }
   },
   "outputs": [],
   "source": [
    "from sklearn.model_selection import train_test_split\n",
    "texts_train, texts_test, y_train, y_test = train_test_split(texts, target, test_size=0.5, random_state=42)"
   ]
  },
  {
   "cell_type": "markdown",
   "metadata": {
    "pycharm": {
     "name": "#%% md\n"
    }
   },
   "source": [
    "__Note:__ it is generally a good idea to split data into train/test before anything is done to them.\n",
    "\n",
    "It guards you against possible data leakage in the preprocessing stage. For example, should you decide to select words present in obscene tweets as features, you should only count those words over the training set. Otherwise your algoritm can cheat evaluation."
   ]
  },
  {
   "cell_type": "markdown",
   "metadata": {
    "pycharm": {
     "name": "#%% md\n"
    }
   },
   "source": [
    "### Preprocessing and tokenization\n",
    "\n",
    "Comments contain raw text with punctuation, upper/lowercase letters and even newline symbols.\n",
    "\n",
    "To simplify all further steps, we'll split text into space-separated tokens using one of nltk tokenizers."
   ]
  },
  {
   "cell_type": "code",
   "execution_count": 4,
   "metadata": {
    "pycharm": {
     "name": "#%%\n"
    }
   },
   "outputs": [
    {
     "name": "stdout",
     "output_type": "stream",
     "text": [
      "before: How to be a grown-up at work: replace \"fuck you\" with \"Ok, great!\".\n",
      "after: how to be a grown-up at work : replace \" fuck you \" with \" ok , great ! \" .\n"
     ]
    }
   ],
   "source": [
    "from nltk.tokenize import TweetTokenizer\n",
    "tokenizer = TweetTokenizer()\n",
    "preprocess = lambda text: ' '.join(tokenizer.tokenize(text.lower()))\n",
    "\n",
    "text = 'How to be a grown-up at work: replace \"fuck you\" with \"Ok, great!\".'\n",
    "print(\"before:\", text,)\n",
    "print(\"after:\", preprocess(text),)"
   ]
  },
  {
   "cell_type": "code",
   "execution_count": null,
   "outputs": [],
   "source": [
    "texts_train"
   ],
   "metadata": {
    "collapsed": false,
    "pycharm": {
     "name": "#%%\n"
    }
   }
  },
  {
   "cell_type": "code",
   "execution_count": null,
   "outputs": [],
   "source": [
    "# task: preprocess each comment in train and test\n",
    "texts_train = [' '.join(tokenizer.tokenize(line.lower())) for line in texts_train]\n",
    "texts_test = [' '.join(tokenizer.tokenize(line.lower())) for line in texts_test]"
   ],
   "metadata": {
    "collapsed": false,
    "pycharm": {
     "name": "#%%\n"
    }
   }
  },
  {
   "cell_type": "code",
   "execution_count": null,
   "outputs": [],
   "source": [
    "assert texts_train[5] ==  'who cares anymore . they attack with impunity .'\n",
    "assert texts_test[89] == 'hey todds ! quick q ? why are you so gay'\n",
    "assert len(texts_test) == len(y_test)"
   ],
   "metadata": {
    "collapsed": false,
    "pycharm": {
     "name": "#%%\n"
    }
   }
  },
  {
   "cell_type": "markdown",
   "source": [
    "### Solving it: bag of words\n",
    "\n",
    "![img](http://www.novuslight.com/uploads/n/BagofWords.jpg)\n",
    "\n",
    "One traditional approach to such problem is to use bag of words features:\n",
    "1. build a vocabulary of frequent words (use train data only)\n",
    "2. for each training sample, count the number of times a word occurs in it (for each word in vocabulary).\n",
    "3. consider this count a feature for some classifier\n",
    "\n",
    "__Note:__ in practice, you can compute such features using sklearn. Please don't do that in the current assignment, though.\n",
    "* `from sklearn.feature_extraction.text import CountVectorizer, TfidfVectorizer`"
   ],
   "metadata": {
    "collapsed": false,
    "pycharm": {
     "name": "#%% md\n"
    }
   }
  },
  {
   "cell_type": "code",
   "execution_count": null,
   "outputs": [],
   "source": [
    "from sklearn.feature_extraction.text import CountVectorizer, TfidfVectorizer"
   ],
   "metadata": {
    "collapsed": false,
    "pycharm": {
     "name": "#%%\n"
    }
   }
  },
  {
   "cell_type": "code",
   "execution_count": null,
   "outputs": [],
   "source": [
    "vectorizer = CountVectorizer()\n",
    "X = vectorizer.fit_transform(texts_train)\n",
    "X.toarray()"
   ],
   "metadata": {
    "collapsed": false,
    "pycharm": {
     "name": "#%%\n"
    }
   }
  },
  {
   "cell_type": "code",
   "execution_count": null,
   "outputs": [],
   "source": [
    "texts_train"
   ],
   "metadata": {
    "collapsed": false,
    "pycharm": {
     "name": "#%%\n"
    }
   }
  },
  {
   "cell_type": "markdown",
   "metadata": {
    "pycharm": {
     "name": "#%% md\n"
    }
   },
   "source": [
    "### Solving it: bag of words\n",
    "\n",
    "![img](http://www.novuslight.com/uploads/n/BagofWords.jpg)\n",
    "\n",
    "One traditional approach to such problem is to use bag of words features:\n",
    "1. build a vocabulary of frequent words (use train data only)\n",
    "2. for each training sample, count the number of times a word occurs in it (for each word in vocabulary).\n",
    "3. consider this count a feature for some classifier\n",
    "\n",
    "__Note:__ in practice, you can compute such features using sklearn. Please don't do that in the current assignment, though.\n",
    "* `from sklearn.feature_extraction.text import CountVectorizer, TfidfVectorizer`"
   ]
  },
  {
   "cell_type": "code",
   "execution_count": 8,
   "metadata": {
    "pycharm": {
     "name": "#%%\n"
    }
   },
   "outputs": [],
   "source": [
    "from sklearn.feature_extraction.text import CountVectorizer, TfidfVectorizer"
   ]
  },
  {
   "cell_type": "code",
   "execution_count": 9,
   "metadata": {
    "pycharm": {
     "name": "#%%\n"
    }
   },
   "outputs": [
    {
     "data": {
      "text/plain": [
       "array([[0, 0, 0, ..., 0, 0, 0],\n",
       "       [0, 0, 0, ..., 0, 0, 0],\n",
       "       [0, 0, 0, ..., 0, 0, 0],\n",
       "       ...,\n",
       "       [0, 0, 0, ..., 0, 0, 0],\n",
       "       [0, 0, 0, ..., 0, 0, 0],\n",
       "       [0, 0, 0, ..., 0, 0, 0]])"
      ]
     },
     "execution_count": 9,
     "metadata": {},
     "output_type": "execute_result"
    }
   ],
   "source": [
    "vectorizer = CountVectorizer()\n",
    "X = vectorizer.fit_transform(texts_train)\n",
    "X.toarray()"
   ]
  },
  {
   "cell_type": "code",
   "execution_count": 10,
   "metadata": {
    "pycharm": {
     "name": "#%%\n"
    }
   },
   "outputs": [
    {
     "data": {
      "text/plain": [
       "['... oh and what kind of person watches another persons mytalk page ? stalker !',\n",
       " '\" comment \" \" but it\\'s easier to be lazy and accuse an editor of ownership than to take the time to see what those edits are . \" \" but i suppose reading isn\\'t your strong suit , is it ? please see the warning i left for you on your talk page ; admins are not above the rules at wikipedia . stop the personal attacks . i personally feel that the list of all 88 signatories does not detract from the article in any way ; properly cited , it simply names people who voluntarily rushed to judgment against these three white boys . it was their decision to get involved in this incident ; they should feel proud to be included here . cheers . | talk p . s . i also have felt ( for a long time ) that you\\'ve attempted to gain \\' ownership \\' of every article concerning this hoax , as well as any article mentioning crystal gail mangum . | talk \"',\n",
       " 'henry lee lucas was my dad im pretty sure i know the information better than you do .',\n",
       " '\" \" \" the war is over . and you lost . \" \" not quite , your arrogance . i\\'m leaving this vile , post-modernist sewer . wikipedia will be cleansed , though not by me : it will be many , many others . \"',\n",
       " '\" precious inquiry-based learning thank you , simon , for quality contributions to articles with , for interest in inquiry-based learning , for , - you are an awesome wikipedian ! \"',\n",
       " 'who cares anymore . they attack with impunity .',\n",
       " '\" alright , i am willing to concede that the cia allegations are flimsy at best , therefore , i will stop the edit warring . while you may not consider it too important , i think the issue of assange as the founder to be another example of lazy journalism . your source for assange as founder of wikleaks was msnbc.com . i don\\'t necessarily consider msnbc to be a reliable source most of the time . corporate news does not do \" \" real \" \" journalism . they copy news from one source or they make stories up . it seems to me that the idea of assange as founder is a meme . i have never read a quote from assange whereby he states that he founded wikileaks . this idea seems to be mostly promulgated by the u . s . corporate media . perhaps to vilify him in the minds of americans , so that later he can be lynched . this seems like propaganda 101 to me . the wikileaks site does not identify assange as the founder . where is the evidence ? thc loadee 04:08 , 4 march 2011 ( utc ) \"',\n",
       " '\" if you do , they will be deleted . δt the only constant \"',\n",
       " '{ unblock | reason = i honestly have no idea why i am blocked . i cannt think of any offensive , or insuliting or harrassing posts i have made . any i have made have been made by error and i will not make this mistake again . } }',\n",
       " \"don't worry , this moderator is nothing but a power tripping troll . dude lives in his mother's basement seeking attention on wiki . this is the only playground he can enter that makes him feel like a big boy .\",\n",
       " 'warning do not tell me what to do or you will be blocked',\n",
       " '\" forgive me if i\\'m wrong , blazikenmaster , but your attitude of \" \" if you know so much about the book , why not make an article about it \" \" stikes me as unnecessarily rude , people do have the right to there own thoughts . cheers , \"',\n",
       " 'fine cunt fuck faggot jizz bitch cunt whore shit asshole fucking retarted ass wiping muther fucker ! ! ! you piece of fucking cunt shit ! ! !',\n",
       " 'a sincere question why do you do what you do ? slander , harassment and abuse of editors and you are a mindless dumbass , geogre . also a liar . actually the blatant slanderous crap you all throw out all over the internet about me and so many others is kind of against the law . it also goes against current harassment laws .',\n",
       " \"ya'll stupid muthafuckas need to mind ya'll own business\",\n",
       " '\" personal view of \" \" fire in the lake \" \" is that it is a dated political tract written at a time ( 1972 ? ) before many sources were available to write any kind of history . especially any history about events in north vietnam during the 1950s . the author of the book further makes all kinds of statements about vietnamese that with distance sound condiscending or even worse . when the book starts talking about the vietnamese mind , its almost embarrasing to read it . yes , it won awards when it was published . but its a very flawed book . for example , the basis of your claim that only 800 people died in the anti-landlord campaign is that her north vietnamese / nlf friends told the author so . by contrast , stanley karnow writing in 1983 , was writing in a less hysterical political climate and had access to more material than was available in 1972 . my \"',\n",
       " '\" livery names to user / ip address 78.146 . 90.164 , mod ( modified ) is used to show which type of swt express livery the unit is in ( one conforms with the disability discrimination act , the other one does not ) , not to show each unit has been modified recently with a new livery . there is only one type of grey and white livery and only one type of gatwick express livery on the 442 \\' s so there is no need to put \" \" ( mod at chart leacon ) \" \" . if you have another reason for puting \" \" ( mod at chart leacon ) \" \" on other units , please explain here . \"',\n",
       " '\" note the phrase \" \" near the common \" \" talk \"',\n",
       " 'benidorm is in valencia , and therefore they speak valencian , not catalan .',\n",
       " 'effigy studios sorry to report this , but according to the michigan business lookup website . eminem is not the owner of effigy studios . a thomas w . johnson is listed as the owner . see here .',\n",
       " '12th doctor look ! i have had enough you supremacist ! can you stop your tomfoolery imediately you bully ! how dare you keep on changing what i do ! i would like to say a lot of things about you why ! people like you should not edit wikipedia ! ! !',\n",
       " 'worm . who agree with me ? leave allen alone will ya',\n",
       " '\" ps : i completely agree with you that dixon is given too much space as an individual . he belongs to a minority group , but he is not a minority of one as the article suggests . i did mention lyle campbell , who is a respected scholar , not an australianist , true enough , but competent enough to judge whether the material presented is sufficient . the article might mention this , that dixon is not alone , although he may be the most influential of the minority . after all , \" \" the cambridge language surveys \" \" had him as sole composer of one of their books and coeditor of another . it is therefore not smart to accuse him of ignorance in his own field . alles liebe \"',\n",
       " '\" \" \" john henry haines was born on april 20 , 1420 , in houston , texas to missionary parents . \" \" wtf does this have to do with this article ? \"',\n",
       " \"dude did you see what he wront on my page in the history , not only that he vandalized my page , thanks a lot for going with the bad guy as all ways . check my history i've been doing good editing .\",\n",
       " 'are you retarded ? how did i attack an editor ? grow a brain , numnut .',\n",
       " \"now now , gentlemen ( i am assuming ) , let's keep it civil ; there is no need to be so rude . we are all aware of the several unrecognized tribes that claim to be cherokee . until they are recognized by the united states federal government , they are not considered legitimate tribes . so , if you have a reference of a newly recognized tribe , then by all means , add it . until then , however , it doesn't belong on wikipedia . thanks ,\",\n",
       " 'does it matter honestly ?',\n",
       " \"when non-free media is used on wikipedia , a justification for its usage , called a non-free use rationale ( aka use rationale or fair use rationale ) , must be presented in the image description page , explaining how the image is used in a way consistent with wikipedia's non-free content criteria for each article the image is used in . see wikipedia : non-free use rationale guideline - talk\",\n",
       " \"i fantasize about seeing my girlfriend with another man . i want to blindfold her , tie her r to a bed , fuck her for a bit , then have someone take my place . i don't want her to know i'm doing it , and i don't want her to know who she fucked . the girl has cheated on me quite a bit , which hurt , so i know that ultimately , this fantasy is about showing her that she is my property . i will do with her as i please , and give her to whom ever i feel she deserves to be given to .\",\n",
       " 'free childcare this should mention that the main purpose for govt . paying for kindergarten , & all education , is for free childcare so both parents can work .',\n",
       " 'excuse me why do u act like u have dick up ass ?',\n",
       " 'redirect talk : ipa vowel chart with audio',\n",
       " 'o wait i r just a big ideot wid a psp slim i r so dumb !',\n",
       " \"i'm ganna give ya a day ta think about weather or not ya wanna deal wit me , and believe you me homie i know all bout harassment and i ain't ganna stop on this mutha fuckin syte , if i'm not unblocked at 3:00 i'm ganna hack your shyt , harras you and basicly just fuck you around , so think about it ok nigger ?\",\n",
       " \"so basically you treat me like shit and ban me from helpfully contributing to the website . what gives you the right fisherqueen to ruin my life ? what gives you the right to shit all over someone who has a hard life , who gets told he's a failure by his father every single fucking day , who can't seem to please anyone in his friends and family ? what pleasure do you derive from your hatred of me ? do you want me to shed tears that i've been banned ? is that your sick game ? because the fact of the matter is i'm simply going to take my own life because of you and i hope you're happy . i really truly hope you jump for joy because you made up the fact i wanted to disrupt this website . all i did was helpfully maintain ring of honor wrestler pages and you people simply treated me like shit for your own sick humor . this is why school shootings happen because innocent people like me are forced to eat shit sandwiches by people like you fisherqueen . you cause people not to want to live anymore and you are the disruptor . you're not god , you're just a human like me so fucking act like it .\",\n",
       " '\" episode list layout . i think the episode list should look like this . it\\'s clean and organized . thoughts ? season #series #titleu . s . airdateproduction code \"',\n",
       " 'butts screw my butthole mr krabs',\n",
       " 'brandon is gay he likes delldos up his ass and mouththe',\n",
       " 'not sure , but they seemed to be when i was working with angus on the finn arnesson article . ( t )',\n",
       " 'so why did you change my shit',\n",
       " \"ignorant & unhelpful i've made numerous valid statements on correcting the eye color page and yet you continuously ignore me and aim to prove me wrong because you seem too obtuse and self centered to even bother listening . i'm afraid i'm going to have to lodge a complaint to wikipedia about how unhelpful and oblivious you appear to be towards peoples pleads on talk pages when making valid statements of corrections .\",\n",
       " \"see also at wikipedia_talk : manual_of_style / dates_and_numbers #k_ . 28or_k . 29_the_computer_kilo - _prefix_ - _for_ancient_computers .. _not_using_bytes as i found another case i'm not sure what to do about .\",\n",
       " \"hanibal 911you ' re a bastard pro-assad . the rebels aleppo central prison have been completely . assad's like you're a bastard . many men like to have sex with your mother , mother-assad.you ' re a genital fit . many men will serve your mother every day , and every day it eats genital . but you and your bastard assad and parents . no gvhy can not eat . of course i understand that when you and your parents bastard to eat not eat wedge . i suggest that parents make you eat my wedge . in the hope that residents will separate your head from your body .\",\n",
       " \"people died so this starlet's philanthropy would exhaust itself when it came to the actual victims of torture , death , and murder ... how utterly revolting ... enjoy wikipedia ... propaganda and whitewash in a whole new dimension ...\",\n",
       " '\" i am the \" \" sockpuppet \" \" that that idiot akradecki keeps thinking he see behind every bush and i can assure you that i had nothing to do with this . i have been watching asskrack , billcj and bzuk for a while now and everytime they see something they don ; t like or cannot handle they go ahead and delete it because they claim it\\'s sock puppetry . all three of them are out fo control . don ; t expect any help from the admin john either . he backs asskrack up every time . \"',\n",
       " '\" :: : i note and friends are now organising apersonal attack on who wishes to become an admin . has also gone about complaining that he has been accused of vandalism , when he himself has been accusing others of the same . i agree that he is also ignorant . that is to say , quite correctly in english , that he is deliberately \" \" ignoring \" \" all the discussion and negative consensuses against his block repetative block inserts . i also strongly agree that the environmental criticisms that he erroneously continues to attack to this topic have no logical place in the article . he is in short nothing more than a troll . he also contines the same weak defences against numerous other contributors , accusing others of being eurocentric , which has to be essentially racialist in essence or of vandalism rather than actually answering to the discussion . \"',\n",
       " 'bye lmao u wasz right ... i really is gon he act like i care if i get blocked im out dhis bitch ! lmao but i logged back on 2 see wat u sed ... ima miss u tho u neva get on myspace ... i ` ll give u my numba on thur ! by bighead !',\n",
       " \"sarekofvulcan rfa thank you for ! voting on my rfa . if you supported , i'll make sure your confidence is not misplaced ; if you opposed , i'll take your criticism into account and try to adjust my behavior accordingly . see you around the wiki !\",\n",
       " 'your right bro , your so right ... not ! i hate you . block me you fagplease',\n",
       " '\" you , sir , are a moron . it does not , will not , and has not . enjoy the ban . — preceding unsigned comment added by 71.100 . 31.227 \"',\n",
       " \"i'm not talking about wikipedia , i'm talking about real life . all the world except for you gayreeks should be treated nicely , you should be executed .\",\n",
       " 'a suggestion having just looked through your contributions and deleted contributions , may i suggest that you stop adding articles about yourself and your mates , and other equally non-notable subjects ? take some time out to look at what is acceptable on wikipedia and what is not - and try to learn from the deletions you have already had . if you go on adding inappropriate pages , it could be regarded as vandalism and lead to you being blocked from editing . wikipedia is an encyclopaedia , not a playground .',\n",
       " 'land area the land area mentioned in this article seems like way too much even at the ottoman empires greatest extent . comapre the 19.9 million km2 stated in this article to modern day russia which is only 17 million km2 , or even the roman empire , which included most of the ottoman territories , 5.9 million km2 .',\n",
       " \"go ahead i don't give a shit to that\",\n",
       " '\" please do not vandalize pages , as you did with this edit to force field . if you continue to do so , you will be blocked from editing . talk \"',\n",
       " \"furthermore ... i have just visited ragib's page and studied the discussion area . ragib is obviously from bangladesh and seems to be a similarly parochial chauvinist editor of many other articles , even asking for un-necessary deletions of articles that he does not like ... and getting snubbed for the effort ! !\",\n",
       " 'any source ? what source ? cumans ( kipchaks ) and late tatars were one of the main power of the area . cossack means adventurer in turkish , as many of them were turkic in origins . what do you want to do ? cossacks were tribal confederation , not a race or nation .',\n",
       " 'suxk my balls sssss',\n",
       " '\" . \" \" for the gay market \" \" makes no sense and seems prejudicial . porn is not the industry term . they prefer adult film \"',\n",
       " ', and welcome to wikipedia ! thank you for your contributions . i hope you like the place and decide to stay . here are some pages that you might find helpful : the five pillars of wikipedia how to edit a page help pages tutorial how to write a great article manual of style i hope you enjoy editing here and being a wikipedian ! please sign your name on talk pages using four tildes ( ~ ~ ~ ); this will automatically produce your name and the date . if you need help , check out wikipedia : questions , ask me on my talk page , or place { { helpme } } on your talk page and ask your question there . again , welcome !',\n",
       " \"so everytime i reset my modem my ip changes fuck you petty sexless ugly ass desperate no life .. no status in society anal retentive wiki admins ( the site is great .. but the lower level admins have no life and can't handle the little authority they have .. it tells you how small and pathetic their lives are ) if i get blocked ill be on in 20 seconds with a new ip or the pizza is free . cheers .\",\n",
       " '\" fuck you bertie thank you for taking the time to make your comments . the recognition of your \" \" having professionals who contribute their talents at wikipedia is a great thing and helps advance the project \" \" comment is most appreciated and highly agreed upon . unfortunately the involvement of contributors such as \\' bertiebasset \\' ( who should be deprived computer access and is hopefully sterile for the sake of future generations ) detracts from the efforts of well-meaning professionals and truly hinders the betterment of the project through their moronic lack of vision or intelligence and professional or quality editing ability . that being said , regrettably it would be best for all images to be deleted at this time as per your extended courtesy . no further contributions will be made and it will be remembered as a failed attempt to improve a deserving site due to the ignorance of those amateurs like \\' bertiebasset \\' . dannyg 3332 \"',\n",
       " '] ] 27 nov 2005 [ [ cory adams ( porn star )',\n",
       " \"you have uploaded the damaged file , i had to revert it , but seconds later it appears to be fixed . ' ' ' talk to me\",\n",
       " \"oh wait , you're an american asshole ... let me explain how the law here work , if telenet uncovers who i am , they are violating several laws . i have free speech here .\",\n",
       " '\" actually , a producer on superman homepage seemed to imply that the continuity is a mixture of smallville and the movies . the producer said \" \" we won\\'t be dealing with superman\\'s origin , because if you\\'re under 30 , smallville is your origin story , and if your over 30 , the christopher reeve movies are your origin story . \" \" plus , this version of lex seems to be closer to mike rosenbaum than gene hackman . \"',\n",
       " '\" on the goodness of description and evil of prescription the article on grammar suggests in many ways that teaching people how to listen and read is good , but teaching them how to speak and write is wicked . linguists are said to be concerned \" \" normally \" \" with the former , implying that there is something abnormal about the latter . the notion that we are all culpable when helping people decide how to communicate , when seeking such help , and when making such decisions ourselves , is not only perverse and deplorable , but also patently wrong . we begin our lives incapable of speech . is it wrong to acquire the ability ? is it right to call instruction in the application of the rules of grammar an invalid activity ? banning prescriptive grammar from the general article on grammar and suggesting that it is illegitimate are serious mistakes , motivated , i suspect , by timidity , laziness , irresponsibility , and ignorance . only a stubborn , intentional , dedicated ignorance can maintain that proficiency in english composition must not be taught , nor properly called \" \" grammar \" \" . \"',\n",
       " \"unblock request to wikieditor 006 and ale_jrb how could you fucking block me for saying something on my own talk page ? even wikipedia guidlines allow me to edit this even when i'm blocked . this is a blatant vendetta , and i intend to let the higher-ups know that you've been abusing your admin powers unless i am unblocked immediately . thanks -67.173 . 77.52\",\n",
       " 'heil hitler ! heil hitler ! heil hitler ! heil hitler ! heil hitler ! heil hitler ! heil hitler ! heil hitler ! heil hitler ! heil hitler ! heil hitler ! heil hitler ! heil hitler ! heil hitler ! heil hitler ! heil hitler ! heil hitler ! heil hitler ! heil hitler ! heil hitler ! heil hitler ! heil hitler ! heil hitler ! heil hitler ! heil hitler ! heil hitler ! heil hitler ! heil hitler ! heil hitler ! heil hitler ! heil hitler ! heil hitler ! heil hitler ! heil hitler ! heil hitler ! heil hitler ! heil hitler ! heil hitler ! heil hitler ! heil hitler ! heil hitler ! heil hitler ! heil hitler ! heil hitler ! heil hitler ! heil hitler ! heil hitler ! heil hitler ! heil hitler ! heil hitler ! heil hitler ! heil hitler ! heil hitler ! heil hitler ! heil hitler ! heil hitler ! heil hitler ! heil hitler ! heil hitler ! heil hitler ! heil hitler ! heil hitler ! heil hitler ! heil hitler ! heil hitler ! heil hitler ! heil hitler ! heil hitler ! heil hitler ! heil hitler ! heil hitler ! heil hitler ! heil hitler ! heil hitler ! heil hitler ! heil hitler ! heil hitler ! heil hitler ! heil hitler ! heil hitler ! heil hitler ! heil hitler ! heil hitler ! heil hitler ! heil hitler ! heil hitler ! heil hitler ! heil hitler ! heil hitler ! heil hitler ! heil hitler ! heil hitler ! heil hitler ! heil hitler ! heil hitler ! heil hitler ! heil hitler ! heil hitler ! heil hitler ! heil hitler ! heil hitler ! heil hitler ! heil hitler ! heil hitler ! heil hitler ! heil hitler ! heil hitler ! heil hitler ! heil hitler ! heil hitler ! heil hitler ! heil hitler ! heil hitler ! heil hitler ! heil hitler ! heil hitler ! heil hitler ! heil hitler ! heil hitler ! heil hitler ! heil hitler ! heil hitler ! heil hitler ! heil hitler ! heil hitler ! heil hitler ! heil hitler ! heil hitler ! heil hitler ! heil hitler ! heil hitler ! heil hitler ! heil hitler ! heil hitler ! heil hitler ! heil hitler ! heil hitler ! heil hitler ! heil hitler ! heil hitler ! heil hitler ! heil hitler ! heil hitler ! heil hitler ! heil hitler ! heil hitler ! heil hitler ! heil hitler ! heil hitler ! heil hitler ! heil hitler ! heil hitler ! heil hitler ! heil hitler ! heil hitler ! heil hitler ! heil hitler ! heil hitler ! heil hitler ! heil hitler ! heil hitler ! heil hitler ! heil hitler ! heil hitler ! heil hitler ! heil hitler ! heil hitler ! heil hitler ! heil hitler ! heil hitler ! heil hitler ! heil hitler ! heil hitler ! heil hitler ! heil hitler ! heil hitler ! heil hitler ! heil hitler ! heil hitler ! heil hitler ! heil hitler ! heil hitler ! heil hitler ! heil hitler ! heil hitler ! heil hitler ! heil hitler ! heil hitler ! heil hitler ! heil hitler ! heil hitler ! heil hitler ! heil hitler ! heil hitler ! heil hitler ! heil hitler ! heil hitler ! heil hitler ! heil hitler ! heil hitler ! heil hitler ! heil hitler ! heil hitler ! heil hitler ! heil hitler ! heil hitler ! heil hitler ! heil hitler ! heil hitler ! heil hitler ! heil hitler ! heil hitler ! heil hitler ! heil hitler ! heil hitler ! heil hitler ! heil hitler ! heil hitler ! heil hitler ! heil hitler ! heil hitler ! heil hitler ! heil hitler ! heil hitler ! heil hitler ! heil hitler ! heil hitler ! heil hitler ! heil hitler ! heil hitler ! heil hitler ! heil hitler ! heil hitler ! heil hitler ! heil hitler ! heil hitler ! heil hitler ! heil hitler ! heil hitler ! heil hitler ! heil hitler ! heil hitler ! heil hitler ! heil hitler ! heil hitler ! heil hitler ! heil hitler ! heil hitler ! heil hitler ! heil hitler ! heil hitler ! heil hitler ! heil hitler ! heil hitler ! heil hitler ! heil hitler ! heil hitler ! heil hitler ! heil hitler ! heil hitler ! heil hitler ! heil hitler ! heil hitler ! heil hitler ! heil hitler ! heil hitler ! heil hitler ! heil hitler ! heil hitler ! heil hitler ! heil hitler ! heil hitler ! heil hitler ! heil hitler ! heil hitler ! heil hitler ! heil hitler ! heil hitler ! heil hitler ! heil hitler ! heil hitler ! heil hitler ! heil hitler ! heil hitler ! heil hitler ! heil hitler ! heil hitler ! heil hitler ! heil hitler ! heil hitler ! heil hitler ! heil hitler ! heil hitler ! heil hitler ! heil hitler ! heil hitler ! heil hitler ! heil hitler ! heil hitler ! heil hitler ! heil hitler ! heil hitler ! heil hitler ! heil hitler ! heil hitler ! heil hitler ! heil hitler ! heil hitler ! heil hitler ! heil hitler ! heil hitler ! heil hitler ! heil hitler ! heil hitler ! heil hitler ! heil hitler ! heil hitler ! heil hitler ! heil hitler ! heil hitler ! heil hitler ! heil hitler ! heil hitler ! heil hitler ! heil hitler ! heil hitler ! heil hitler ! heil hitler ! heil hitler ! heil hitler ! heil hitler ! heil hitler ! heil hitler ! heil hitler ! heil hitler ! heil hitler ! heil hitler ! heil hitler ! heil hitler ! heil hitler ! heil hitler ! heil hitler ! heil hitler ! heil hitler ! heil hitler ! heil hitler ! heil hitler ! heil hitler ! heil hitler ! heil hitler ! heil hitler ! heil hitler ! heil hitler ! heil hitler ! heil hitler ! heil hitler ! heil hitler ! heil hitler ! heil hitler ! heil hitler ! heil hitler ! heil hitler ! heil hitler ! heil hitler ! heil hitler ! heil hitler ! heil hitler ! heil hitler ! heil hitler ! heil hitler ! heil hitler ! heil hitler ! heil hitler ! heil hitler ! heil hitler ! heil hitler ! heil hitler ! heil hitler ! heil hitler ! heil hitler ! heil hitler ! heil hitler ! heil hitler ! heil hitler ! heil hit',\n",
       " \"sorry , didn't see that at first . i just saw that he had edited some articles . thanks .\",\n",
       " '. all while real people are spilling real blood and dying real deaths in a real war',\n",
       " '\" | decline = you have asked for guidance - it is below . if you agree , use the template to request unblock and then visit wp : unc once unblocked ( talk → ← track ) \"',\n",
       " '\" those who\\'re in advantageous positions are the bigger numbered , more noisy crowd , basically two types : one types are those either brainwashed and / or chauvinistic fanatic chinese ; the other types american who ( naturally ) have so little knowledge about world outside of northern america but then would have hard time admitting that . therefore , they would pretend as they know . while they pretend , their sources are largely what is most largely circulated messages - largely from the chiense government or american ( corporate / government ) propaganda . for them , what someone said that if repeating lies thousand times it would become the truth , will make perfect sense . that \" \" truth \" \" , or what you guys are shouting here as \" \" the common \" \" names and stuff , what is blocking not only your eyesights but as well your human consciousness . one big difference between them though : those chinese here do know what they are doing because they have their agenda and they\\'re intentional . but the americans are just naive and are being used . \"',\n",
       " \"to me a nemonic is supposed to provide an easy way to help you remember something . it shouldn't be hard to remember or hard to remember how to use . the second nemonic , i feel , is quite complicated , has much information buried in it , is hard to learn how it all goes together , and takes a significant amount of memory to remember how to use all its various parts . given that , is it really a nemonic ? a second thing i want to do is give for consideration the nemonic i learned way back when we used paper trig tables . sorry , i do not know a reference for it . and i can not edit it in , because i don't know the markup here on wiki . it is : oh , ah , oh-ah , ah-oh , ha , ho ( say it moderately fast ) . sine , cosine , tangent , cotangent , secant , cosecant are : o / h , a / h , oh / ah , ah / oh , h / a , h / o . unlike the soa-cah-toa nemonic it gives all six common functions . but i like to teach only the 1st three , oh , ah , oh-ah ( simple enough ) , or even only the first two , oh ah and have them ( students ) memorize only sin , cos , and tan then have them learn and understand that tan = sin / cos and the last three are inverses of the 1st three . it might sound a bit like a tongue twister at first , but it only took a my high school trig class about 15 minutes to learn it and a good part of that time was laughter and it is silly enough to be memorable . i still use it after 45 + years and some of my today's students have picked it up too as the one they prefer ( over soh cah toa ) .\",\n",
       " '\" , your logic is flawed and shows an single mindedness to put any kind of speculation , unsubstantiated , unproven and poorly documented charges to \" \" dirty up \" \" this article . i will not allow you to editorialize and hide it as \" \" encyclopedic \" \" and spin this article in to an attack piece . what you want is to put up very serious and damaging and all unproven allegations , speculated by a very partisan press , all happened a long time ago , and never acted on or proven . your logic , is in violation of a number of well established wiki policies , including wp : blp wp : undue wp : coat most notable , wp : blpstyle also , this atricle will not be a long , regurgitation of all the evil you think this man did . in the end , dump a truck load of junk , don\\'t make it true , right , or fair . in closing , your leader - jimmy , had said this ... i quote ... real people are involved , and they can be hurt by your words . we are not tabloid journalism , we are an encyclopedia . – jimmy wales \"',\n",
       " \"i'm afraid i still am ...\",\n",
       " 'file : googlechromewindows5037538.png i have tagged file : googlechromewindows5037538.png as , because it does not provide a fair use rationale . if you believe the image to be acceptable for fair use according to wikipedia policy , please provide a rationale explaining as much , in accordance with the fair use rationale guideline , on the image description page . some examples can be found at wikipedia : use rationale examples . please also consider using or one of the other tags listed at wikipedia : image copyright tags / non-free . thank you .',\n",
       " 'why am i not aloud to put whatever i want on my user talk page ? thats pretty damn gay if you ask me .',\n",
       " 'i am sure wikipedia can see through this obvious attempt to continue painting herself in a good light 70.26 . 72.221',\n",
       " 'my user page hey jews bitch ! ! i was expecting that you will remove my user page too , as you deleted my article without providing a logic reason ! ! ! take care your lords will be angry on you ! ! ! about the material in my page , it is my opinion and i will not change it ; you have one of three choices , remove the page block my account or go fuck your parents . in any case it is a dishonore for me to remain in the same place with a bastard like ou . dude ! , i suggest you the third choice , it is more suitable to a shit like you . did you learned now to never miss respect others ?',\n",
       " 'i will fucking cut your heart out . i will set you on fire motherfucker .',\n",
       " \"hey uw dawgs dude , why did you delete my comment about the oregon ducks beating the washington huskies ? the huskies suck , and get crushed by the ducks every year . you should be absolutely ashamed of deleting that . oh well , i guess it's just another butthurt huskies fan . your team is bad and you should feel bad . keep calm and keep on sucking huskies .\",\n",
       " 'based on the languages of europe map',\n",
       " '\" = = no , you are = = patrick , i think we can all clearly see that you really are the uneducated \" \" fucker \" \" in this case . \"',\n",
       " 'bring it hello tommy remember me ? im back asshole',\n",
       " \"adolf ... one of these days gonna come pay you a visit . would love for you to stick your nose in affairs that don't concern you when we meet . it's real easy to be a little wannabe nazi while hiding in front of your little screen .\",\n",
       " 'asshat fucking stupid asshole pair of clownshoes',\n",
       " 'twit your just another petty fascist . you clowns are feeble ( certainly in mind ) .',\n",
       " '\" how about an rfc then ? can we try an rfc ? i\\'d like to start with a brief neutral statement of the question and have others here respond with one statement each , link prior discussions if you like , limited to 1000 words , no rebuttals or arguments , then wait for comments from others , at least two days before any reactions . the neutral question would be \" \" should the title of this article be territory of the military commander in serbia , or serbia under german occupation , or something else ; consider the prior talk sections above . \" \" i will not be making a statement myself , but i may respond after two days , or sooner if others decide not to respect the proposal . ok ? no . an rfc while there\\'s an rm going on ? just list the rm on various noticeboards . and an rfc for what exactly ? if someone wants to move the article - let him post an rm , that\\'s what its for . we\\'d probably go through the whole annoying song and dance to no effect . and where\\'s the sense in having an rm for a move to one title , while posting an rfc ( of all things ) for a move to another title ? ? i\\'m sure antidiskriminator & co . will jump at this , since for them whatever you ( their perceived new-found ally ) ) propose and i oppose must be a good thing . but it makes no sense . i certainly won\\'t accept any title that has not been agreed-upon in a proper rm , whatever the outcome of the rfc - indeed , if any . additionally , an rfc may not be the most useful and effective means of dr here , since the dispute is immensely complex , obscure , and thoroughly bogged-down in misleading rhetorical nonsense . a \" \" vote on-the-fly \" \" would not be very helpful , and would probably be drowned in far-more-knowledgeable retorts from long-time participants . ( talk ) \"',\n",
       " \"my page can you remove the message from my user page ? i haven't done anything .\",\n",
       " '\" thank you for experimenting with wikipedia . your test worked , and it has been reverted or removed . please use the sandbox for any other tests you want to do . take a look at the welcome page if you would like to learn more about contributing to our encyclopedia . ✍ \"',\n",
       " 'thanks for your efforts to balance the nonsense at astrology . i have commented at talk : astrology #more specific rfc on sourcing in research section ..',\n",
       " \"hi , fuckwit . you do know that by blocking me you are violating basic human rights and freedom of expression . and by you deleting my rant is just plain ridicilous . that just proves that all you are is a bunch of fascist douche bags that should've been bombed to death in wwii . now , please kindly fuck off ? thank you .\",\n",
       " 'you are a cunt hello mr jim ... my reason for sending this message is that you are a cunt and i wish nothing upon you apart from death (: ... that is all (: x',\n",
       " '\" a little something for my bestest buddy : admin tom \"',\n",
       " 'sidenote : xizer is not a racist . calling this guy a nigger was just funny though . lol',\n",
       " '\" dan , we are on equal footing here . what i was referring to is the practice of starting out an article with a short abstract , often three paragraphs long , summarizing the substance of the article . in the body of the article there are examples of those various forms that relations between men and youths can take , satisfying the requirements of the form . i agree , by the way , with your edit of the \" \" prehistory \" \" statement . i was basing it on historians \\' suppositions that greek practices may have had a prehistoric precedent , but since that discussion is a bit tenuous it may best be left to the article on greek pederasty . \"',\n",
       " '= = go die you worthless cocksucking faggot = =',\n",
       " \"that is lame = = its the internet man , doesn't matter you who you show it to because 1 . i can't be blocked because i can change my ip , 2 . i don't care even if you successfully block me because im not using my home computer xd\",\n",
       " \"hey , you are preaching to the choir here , dude ) remember this one ? i couldn't find anything solid about it at the time ( except for that ntv gag report ) . how tempting it must have been to assume the place is not notable beyond its funny name , eh ? well , eat this ! the site itself is hardly a reliable source , but it's a very good illustration of what kind of information is available out there . and every other shabby-russian-village-population-five is going to have at least as much written about it over the years . it's not that there are no sources , it's that there are often no easily accessible sources . what that is so hard to understand to some is beyond me . — • ( yo ? ); may 19 , 2010 ; 21:47 ( utc )\",\n",
       " 'not really sure what the issue is here what is the name of the rose ? it is a book . is it a fictional library ? no , it is not . is it a fictional librarian ? no , it is not , for a real book cannot be a fictional anything . so stop bloody adding real things to categories for fictional things . not that difficult , really .',\n",
       " \"go to the devil , cultist ! you don't own this place . and i ain't your dude , mofo !\",\n",
       " '\" re : martin muljana this is not german . why would you move it to the german wikipedia ? talk it wasn\\'t in english , so i transwikied it . – driver \"',\n",
       " '\" eastlake exit signs used to say both \" \" east lake blvd \" \" and \" \" eastlake blvd \" \" for this exit . after construction wrapped on phase 1 of the carson city freeway , the exit number was changed and the signs that said \" \" east lake \" \" were corrected to read \" \" eastlake \" \" . also , i removed the sr 429 reference from this part of the exit since eastlake blvd is not on sr 429 . to leave it in would be analogous to putting \" \" ( sr 430 ) \" \" after damonte ranch pkwy , south meadows pkwy and neil road , just because virginia street can be easily accessed from these interchanges . as a compromise on the eastlake exit , i put \" \" to sr 429 \" \" in the notes column . \"',\n",
       " 'dahn is illiterate and has a small penis yes , you know the typical wikipedia user . he is a loser . he has no life . he is sexually frustrated . his inability to satisfy his will to power is taken out over the net . dahn - if you want to revert my changes , read them first . i will fight you !',\n",
       " 'headline text omfg no no no no no no omfg no no ! ! !',\n",
       " \"your a little insignificant mother's lover you motha fucka .. what ya thnk of yr self .. u dumb ass .. u thnk u r v smart .. u son of bitch ... fuck your mother by\",\n",
       " '\" } } | style = \" \" font-size : 85 % \" \" | this is a wikipedia user talk page . this is not an encyclopedia article or the talk page for an encyclopedia article . if you find this page on any site other than wikipedia , you are viewing a mirror site . be aware that the page may be outdated and that the user to whom this talk page belongs may have no personal affiliation with any site other than wikipedia itself . the original talk page is located at http://en.wikipedia.org/wiki/ . | } \"',\n",
       " 'ecw new , gangrel / jannetty , valet , bischoff hey should sylvester terkay and elijah burke be moved to ecw ? i know theyre set to , and i think they cut a promo on ecw a week or two ago saying they officially on the roster should the great khali be on on air talent because right now , he has just been a bodyguard for daivari and hasnt wrestled yet . idk if anyone has mentioned him , but isnt marty jannetty supposed to appear on the ecw brand ( hes inactive now ) ? i know there were rumors saying he was released shortly after being signed , but he said they were untrue and wwe hasnt officially cut ties with him , at least publicly . and if jannetty is left off , then i think gangrel should be true . rumors said he was overweight and wwe was considering not using him angel williams has been called up to valet the gymini . she did so for a dark match , should she be called up to sd ! yet ? lastly , shouldnt eric bischoff be on on air talent for raw ? the cyber sunday thing seemed like a one time deal to promote the book , but it could develop into a storyline after he screwed dx . im new so i cant change it myself - chris',\n",
       " 'way too much speculation here . for the purposes of this article we have to consider eternals , deviants and inhumans to be seperate races , albeit ones that can interbreed with humans . your suggestion would make the article far too unmanageable .',\n",
       " \"attention biaatch = i know you want to be me , but u aren't . i don't like posers , so don't pretend to be me ever again .\",\n",
       " 'articles by quality statistics } } { { wikipedia : version 1.0 editorial team / university of pittsburgh',\n",
       " 'usbecause you are a fggt ! do i know you ? because you are a fggt ! do i know you ? because you are a fggt ! do i know you ? because you are a fggt ! do i know you ? because you are a fggt ! do i know you ? because you are a fggt ! do i know you ? because you are a fggt ! do i know you ? because you are a fggt ! do i know you ? because you are a fggt ! do i know you ? because you are a fggt ! do i know you ? because you are a fggt ! do i know you ? because you are a fggt ! do i know you ? because you are a fggt ! do i know you ? because you are a fggt ! do i know you ? because you are a fggt ! do i know you ? because you are a fggt ! do i know you ? because you are a fggt ! do i know you ? because you are a fggt ! do i know you ? because you are a fggt ! do i know you ? because you are a fggt ! do i know you ? because you are a fggt ! do i know you ? because you are a fggt ! do i know you ? because you are a fggt ! do i know you ? because you are a fggt ! do i know you ? because you are a fggt ! do i know you ? because you are a fggt ! do i know you ? because you are a fggt ! do i know you ? because you are a fggt ! do i know you ? because you are a fggt ! do i know you ? because you are a fggt ! do i know you ? because you are a fggt ! do i know you ? because you are a fggt ! do i know you ? because you are a fggt ! do i know you ? because you are a fggt ! do i know you ? because you are a fggt ! do i know you ? because you are a fggt ! do i know you ? because you are a fggt ! do i know you ? because you are a fggt ! do i know you ? because you are a fggt ! do i know you ? because you are a fggt ! do i know you ? because you are a fggt ! do i know you ? because you are a fggt ! do i know you ? because you are a fggt ! do i know you ? because you are a fggt ! do i know you ? because you are a fggt ! do i know you ? because you are a fggt ! do i know you ? because you are a fggt ! do i know you ? because you are a fggt ! do i know you ? because you are a fggt ! do i know you ? because you are a fggt ! do i know you ? because you are a fggt ! do i know you ? because you are a fggt ! do i know you ? because you are a fggt ! do i know you ? because you are a fggt ! do i know you ? because you are a fggt ! do i know you ? because you are a fggt ! do i know you ? because you are a fggt ! because you are a fggt ! do i know you ? because you are a fggt ! do i know you ? because you are a fggt ! do i know you ? because you are a fggt ! do i know you ? because you are a fggt ! do i know you ? because you are a fggt ! do i know you ? because you are a fggt ! do i know you ? because you are a fggt ! do i know you ? because you are a fggt ! do i know you ? because you are a fggt ! do i know you ? because you are a fggt ! do i know you ? because you are a fggt ! do i know you ? because you are a fggt ! do i know you ? because you are a fggt ! do i know you ? because you are a fggt ! do i know you ? because you are a fggt ! do i know you ? because you are a fggt ! do i know you ? because you are a fggt ! do i know you ? because you are a fggt ! do i know you ? because you are a fggt ! do i know you ? because you are a fggt ! do i know you ? because you are a fggt ! = = do i kn',\n",
       " '\" dates james , could i ask you please not to threaten to block people involved in the date delinking content dispute ? if anyone is being truly disruptive , an involved admin can adminster blocks as appropriate , but so far it seems to me that quadell was acting in good faith when he edited in accordance with the mos , ambi was acting in good faith when she reverted his edits because the mos is not policy and she felt the issue hadn\\'t been discussed enough , and vsmith was acting in good faith because he feels the mos should be adhered to . it\\'s a shame that it\\'s come to this because these are all good editors , so please help us to find compromise wording for the mos that everyone can agree to . cheers , ( talk ) \"',\n",
       " ', 21 april 2008 ( utc ) weird that an admin who has never given me any warning drops by and out of the blue gives me my last warning and has yet to provide any evidence that i had been uncivil . i love wikipedia ! the fact i have been advocating things in the article that this admin clearly does not agree with makes my banning even more interesting . i guess this makes me and ncdave blood brothers or something ! too funny . 17:53',\n",
       " '\" black dominican americans do have the highest proportion of blacks of any hispanic group in the us , especially by \" \" us one-drop rule \" \" standards , so they are the most african . \"',\n",
       " 'blind as bats not one of you has seen what i have done to this page . obviously you rely on some form of program to revert vandalism and not your own eyes .',\n",
       " '\" all russian are so dumm like you ? i mean , you\\'re the best of them . so much to call \" \" russia \" \" a nation ... more like rabbits ... \"',\n",
       " '| decline = nobody on wikipedia wants your moronic edits ! take a hike !',\n",
       " '\" please do not add nonsense to wikipedia . it is considered vandalism . if you would like to experiment , use the sandbox . thank you . 123 \"',\n",
       " \"article suggestion as the ' notability query ' has been added to this page , and teawiki [ www.tea.wikia.org ] has since been created i suggest transferring the article ' bag and baggage ' there .\",\n",
       " 'busking and street performing not the same . do not merge . please do not merge these two topics . the only thing that the share is the venue , in every other way they are very different forms of performance as the entry of street performance clearly states . if you merge busking and street theatre , then you might as well merge opera and ballet because they share the same stage . one of the main reasons to have a street performing entry is to make clear the distinction between this and busking .',\n",
       " 'dont delete talk page entries fucking asshole . you dont have to make yourself obvious as a criminial on the loose . are not you supposed to be pimping your mother in l . a . downtown at this time of the night normally ? you just preach to your pimping ass .',\n",
       " 'if kenny , jfd , and freedom skies can have their say on ima , then so can i ...',\n",
       " \"and there you go again , tell me the most important person on wikipedia so i may complain , how can my article not meet the policy , when i hadn't finished writing ! the atrosity !\",\n",
       " 'but hey i am tay and i do have aids wtf you guys are fascists',\n",
       " 'seriously . evaluate your role in life about now . it could help . 74.56 . 51.128',\n",
       " 'fuck you dpak dsuza you are a pathetic piece of shit .',\n",
       " \"block me i don't give a shit\",\n",
       " 'did not mean to offend you . will comply . martial law',\n",
       " 'lol fred , now why on earth would i want to be unblocked ? please ban me permanently . this site is a farce . i gave objective reasons why , and did so without a personal attack . this is how you silence people . feel good fred , you control knowledge , but it wont last long . knol is on the horizon , and the founders have created this sites replacement . the days of your ability to silence people and mask bias as npov and control valid opposing viewpoints are short lived . now please make the ban permanent .',\n",
       " 'take yourwarning and shake salt on it and shove it up your poop pipe ...',\n",
       " \"hey ... dont add any crap you like ... agarwals are not dravidian . wikipedia's standards atr going t o the dogs .. there were many inaccuracies there 117.211 . 90.154\",\n",
       " 'teadrinker is a stupid jerk ! also , he has a stupid nickname',\n",
       " '\" * e-dog , on another page , you wrote : thanks for your message on my talk page . when i voted keep for tom g . palmer , i justified it by writing that \" \" google returns 13500 hits for the query \" \" tom g . palmer \" \" cato [ 3 ] . \" \" \" \" tom g . palmer \" \" alone returns 34,900 hits on google [ 4 ] . so on this point , my vote is not necessarily inconsistent ( 34,900 > 19,000 ) . well , sure , but that\\'s weak \" \" 35000 is notable , but 19000 isn\\'t \" \" . come on . that\\'s not serious . but even if you had 50,000 hits on google , i might also have refrained from voting . this is mainly because i am concerned about you putting so much pressure to have your own article . if i was in your position , i would probably keep my distance from the discussion . you are a primary source of information for yourself and , in that sense , your position might be biased . i am not sure whether your attitude fits with the neutral point of view policy ( which applies to articles , but probably also to the way the encyclopedia should be created as a whole ) . i don\\'t know , and i prefer to abstain from the vote . understandable , and advice well taken and appreciated . but i am a justice seeker . i really don\\'t care as much if my entry is deleted or not , as for whether i fight to vindicate my unfair treatment ( as i perceive it ) . here i was , many moon ago , minding my own damn business , and someone tells me i have a wiki entry . interesting . then someone says it\\'s up for delete . what do i care . i really don\\'t give a damn . but some jerk says it\\'s non-notable ( okay by mei didn\\'t konw wiki policies on this at the time anyway ); and vanity . implying i did it , as self-promotion . this pissed me off . i rebutted the latter charge and did not even mention the notable charge . later , many months later , someone tells me he has initiated vfd for palmer\\'s site . now this was right after the wiki entries of some clearly notable friends of mine were vandalizedhans-hermann hoppe , lew rockwell with ridiculous charges of racism etc . , of the same type made by palmer . so i figure , let\\'s take a look at his entry . i did so , and in the ensuing vfd debate , realize there are actual policies on this ; i studied them and thought , \" \" son of a bitch . i qualify . by their own policies . these wikinerds should not have deleted me . and to top it off , the same one who voted to delete me is voting to keep palmer . something ain\\'t right . \" \" so , instead of dishonestly putting up my entry anonymously or through a meatpuppet , i did it myself , nothing hidden . and instead of rolling over and playing dead as i did last time , i decided this time , i will make noise and make sure that if i have anything ot say about it , the voters will be made aware of the policies . that is all . if a fair evaluation of my site and aplication of the policies leads to a good faith vote to delete my entry , i don\\'t care . but what do i see ? peopel who vote to keep palmer up on the grounds that he is openly gay , or has a large number of publications , or has 13000 google hits , voting to delete me , even though i have similar criteria . it makes it seem arbitrary to me . so can you blame me for monitoring this a little bit , and being a bit frustrated at the seemingly arbitrary actions of some people ? nom . \"',\n",
       " '\" : lsi john , i\\'ve already invited you to bring this to wp : rfar . wp : an is another standard venue . if you wish to make claims against me , please substantiate them with adequate evidence . per wp : agf , the burden of proof rests squarely on your shoulders . i don\\'t believe my actions have been inappropriate . charge ! \"',\n",
       " \"yep ww - for the past several months i'm uploading all new photos to commons ; but there are over 800 earlier ones and i'm waiting for a technical solution .\",\n",
       " 'i suspect calabe is a troll .',\n",
       " '\" for the record , i am now being pursued by yet another regular editor of the celtic article . i have had user hippo 43 bring in admin john ( originator of the section who has defended hippo 43 on a number of occasions against different users ) , user jack forbes and now user , deacon of pndapetzim . this wiki folks , where if you stand up against abuses of the system , users pursuing their own agenda will join forces in defence of that agenda . i will not be bullied into silence i ask any neutral footbal fan with a knowledge of scottish football to study both the rangers and celtic articles and their related talk pages and ask themselves if there is balance between them in the way they are presenting the \" \" facts \" \" . \"',\n",
       " 'burn in hell motherfucker',\n",
       " 'you better fuck off ruddy shit fuck !',\n",
       " 'fucking suck you liberal bastard who thinks michael moore is truthful you asshole fuck bitch tits cunt snatch',\n",
       " 'its time to pay back you are an asshole an asshole and yet again an asshole total idiot you are a real piece of shit',\n",
       " 'sexuality mabye it should be added that he is actually gay . i belive his partner is pop star will young',\n",
       " \"don't care . come kill me c'mon ! ! !\",\n",
       " 'hey aaron brennenman , eat shit and die , sincerly me and your whole family . ps i see ur sentiment but your not a women . deal with it you fagget .',\n",
       " 'citing sources check out the wikipedia : citing sources page for help with this . 58.8 . 18.35',\n",
       " 'fuck offfuck offfuck offfuck offfuck offfuck offfuck offfuck offfuck offfuck offfuck offfuck offfuck offfuck offfuck offfuck offfuck offfuck offfuck offfuck offfuck offfuck offfuck offfuck offfuck offfuck offfuck offfuck offfuck offfuck offfuck offfuck offfuck offfuck offfuck offfuck offfuck offfuck offfuck offfuck offfuck offfuck offfuck offfuck offfuck offfuck offfuck offfuck offfuck offfuck offfuck offfuck offfuck offfuck offfuck offfuck offfuck offfuck offfuck offfuck offfuck offfuck offfuck offfuck offfuck offfuck offfuck offfuck offfuck offfuck offfuck offfuck offfuck offfuck offfuck offfuck offfuck offfuck offfuck offfuck offfuck offfuck offfuck offfuck offfuck offfuck offfuck offfuck offfuck offfuck offfuck offfuck offfuck offfuck offfuck offfuck offfuck offfuck offfuck offfuck offfuck offfuck offfuck offfuck offfuck offfuck offfuck offfuck offfuck offfuck offfuck offfuck offfuck offfuck offfuck offfuck offfuck offfuck offfuck offfuck offfuck offfuck offfuck offfuck offfuck offfuck offfuck offfuck offfuck offfuck offfuck offfuck offfuck offfuck offfuck offfuck offfuck offfuck offfuck offfuck offfuck offfuck offfuck offfuck offfuck offfuck offfuck offfuck offfuck offfuck offfuck offfuck offfuck offfuck offfuck offfuck offfuck offfuck offfuck offfuck offfuck offfuck offfuck offfuck offfuck offfuck offfuck offfuck offfuck offfuck offfuck offfuck offfuck offfuck offfuck offfuck offfuck offfuck offfuck offfuck offfuck offfuck offfuck offfuck offfuck offfuck offfuck offfuck offfuck offfuck offfuck offfuck offfuck offfuck offfuck offfuck offfuck offfuck offfuck offfuck offfuck offfuck offfuck offfuck offfuck offfuck offfuck offfuck offfuck offfuck offfuck offfuck offfuck offfuck offfuck offfuck offfuck offfuck offfuck offfuck offfuck offfuck offfuck offfuck offfuck offfuck offfuck offfuck offfuck offfuck offfuck offfuck offfuck offfuck offfuck offfuck offfuck offfuck offfuck offfuck offfuck offfuck offfuck offfuck offfuck offfuck offfuck offfuck offfuck offfuck offfuck offfuck offfuck offfuck offfuck offfuck offfuck offfuck offfuck offfuck offfuck offfuck offfuck offfuck offfuck offfuck offfuck offfuck offfuck offfuck offfuck offfuck offfuck offfuck offfuck offfuck offfuck offfuck offfuck offfuck offfuck offfuck offfuck offfuck offfuck offfuck offfuck offfuck offfuck offfuck offfuck offfuck offfuck offfuck offfuck offfuck offfuck offfuck offfuck offfuck offfuck offfuck offfuck offfuck offfuck offfuck offfuck offfuck offfuck offfuck offfuck offfuck offfuck offfuck offfuck offfuck offfuck offfuck offfuck offfuck offfuck offfuck offfuck offfuck offfuck offfuck offfuck offfuck offfuck offfuck offfuck offfuck offfuck offfuck offfuck offfuck offfuck offfuck offfuck offfuck offfuck offfuck offfuck offfuck offfuck offfuck offfuck offfuck offfuck offfuck offfuck offfuck offfuck offfuck offfuck offfuck offfuck offfuck offfuck offfuck offfuck off',\n",
       " 'get a life holdwater , that german wife of yours must be very unsatisfied )',\n",
       " \"it was signed moron - what part of that didn't you understand ...\",\n",
       " \"information ( cont . ) well ? ! ? you do you want the info or not , you nasty little shit ! 217.41 . 232.75 could you stop the relentless persecution of me please ? bugs , can you have a quiet word with those two please and get them to stop claiming i'm light currant ? 217.41 . 226.121\",\n",
       " 'lowlife you are a troll , a sockpuppet and you have resurected wikzilla . good job moron .',\n",
       " 'nigger { { unblock | reason = liar 98.162 . 163.72 }',\n",
       " 'new name perezhilton has changed his name to dick sucker .',\n",
       " \"05:35 , 25 july 2006 ( hist ) ( diff ) glen jacobs ( → early career ) 05:22 , 25 july 2006 ( hist ) ( diff ) jonathan coachman ( → career ) 05:21 , 25 july 2006 ( hist ) ( diff ) shawn michaels ( → return of dx ) 05:21 , 25 july 2006 ( hist ) ( diff ) shawn michaels ( → return of dx ) 05:20 , 25 july 2006 ( hist ) ( diff ) shawn michaels ( → return of dx ) 05:19 , 25 july 2006 ( hist ) ( diff ) shawn michaels ( → return ) 05:18 , 25 july 2006 ( hist ) ( diff ) shawn michaels 05:17 , 25 july 2006 ( hist ) ( diff ) d-generation x ( → return ) 18:29 , 24 july 2006 ( hist ) ( diff ) hank ( disambiguation ) ( top ) 15:09 , 24 july 2006 ( hist ) ( diff ) you can't see me ( → track listing ) ( top ) 14:56 , 24 july 2006 ( hist ) ( diff ) stone cold steve austin ( → finishing and signature moves ) 14:54 , 24 july 2006 ( hist ) ( diff ) oscar gutierrez ( → extreme championship wrestling ) 10:15 , 24 july 2006 ( hist ) ( diff ) the great american bash ( → 2006 ) 10:14 , 24 july 2006 ( hist ) ( diff ) the great american bash ( → 2006 ) 10:11 , 24 july 2006 ( hist ) ( diff ) the great american bash ( → 2006 ) 10:10 , 24 july 2006 ( hist ) ( diff ) fishman ( wrestler ) ( → trivia ) 10:09 , 24 july 2006 ( hist ) ( diff ) chavo guerrero , jr . ( → smackdown ! ) 10:09 , 24 july 2006 ( hist ) ( diff ) chavo guerrero , jr . ( → smackdown ! ) 10:08 , 24 july 2006 ( hist ) ( diff ) oscar gutierrez ( → world heavyweight champion ) 10:07 , 24 july 2006 ( hist ) ( diff ) oscar gutierrez ( → world heavyweight champion ) 10:07 , 24 july 2006 ( hist ) ( diff ) oscar gutierrez ( → world heavyweight champion ) 10:06 , 24 july 2006 ( hist ) ( diff ) oscar gutierrez ( → world heavyweight champion ) 10:05 , 24 july 2006 ( hist ) ( diff ) oscar gutierrez ( → world heavyweight champion ) 10:05 , 24 july 2006 ( hist ) ( diff ) oscar gutierrez ( → world heavyweight champion ) 10:03 , 24 july 2006 ( hist ) ( diff ) chavo guerrero , jr . ( → smackdown ! ) 10:03 , 24 july 2006 ( hist ) ( diff ) chavo guerrero , jr . ( → smackdown ! ) 10:01 , 24 july 2006 ( hist ) ( diff ) chavo guerrero , jr . ( → smackdown ! ) 10:00 , 24 july 2006 ( hist ) ( diff ) chavo guerrero , jr . ( → smackdown ! ) 09:59 , 24 july 2006 ( hist ) ( diff ) chavo guerrero , jr . 09:57 , 24 july 2006 ( hist ) ( diff ) image : chavo hitting rey.jpg ( http://www.wwe.com/shows/thegreatamericanbash/photos/ chavo's heel turn on rey ) ( top ) 06:28 , 24 july 2006 ( hist ) ( diff ) the great american bash ( → 2006 ) 06:28 , 24 july 2006 ( hist ) ( diff ) the great american bash ( → 2006 ) 06:27 , 24 july 2006 ( hist ) ( diff ) the great american bash ( → 2006 ) 06:27 , 24 july 2006 ( hist ) ( diff ) the great american bash ( → 2006 ) 06:25 , 24 july 2006 ( hist ) ( diff ) cross canadian ragweed ( top ) 06:24 , 24 july 2006 ( hist ) ( diff ) cross canadian ragweed ( album ) ( top ) 06:24 , 24 july 2006 ( hist ) ( diff ) live and loud at the wormy dog saloon ( top ) 06:23 , 24 july 2006 ( hist ) ( diff ) cross canadian ragweed ( album ) 06:22 , 24 july 2006 ( hist ) ( diff ) garage ( album ) ( top ) 06:20 , 24 july 2006 ( hist ) ( diff ) highway 377 ( top ) 06:19 , 24 july 2006 ( hist ) ( diff ) live & loud at the wormy dog saloon bootleg disc 1 ( top ) 06:18 , 24 july 2006 ( hist ) ( diff ) live & loud at the wormy dog saloon bootleg disc 2 ( top ) 06:18 , 24 july 2006 ( hist ) ( diff ) live and loud at billy bob's texas ( top ) 06:18 , 24 july 2006 ( hist ) ( diff ) live and loud at billy bob's texas 06:17 , 24 july 2006 ( hist ) ( diff ) live & loud at the wormy dog saloon bootleg disc 2 06:16 , 24 july 2006 ( hist ) ( diff ) live & loud at the wormy dog saloon bootleg disc 1 06:15 , 24 july 2006 ( hist ) ( diff ) live & loud at the wormy dog saloon bootleg disc 1 06:13 , 24 july 2006 ( hist ) ( diff ) live and loud at the wormy dog saloon 06:13 , 24 july 2006 ( hist ) ( diff ) live and loud at the wormy dog saloon 06:12 , 24 july 2006 ( hist ) ( diff ) live & loud at the wormy dog saloon bootleg disc 1 06:12 , 24 july 2006 ( hist ) ( diff ) live & loud at the wormy dog saloon bootleg disc 2 06:11 , 24 july 2006 ( hist ) ( diff ) live & loud at the wormy dog saloon bootleg disc 2 06:10 , 24 july 2006 ( hist ) ( diff ) image : liveloud 2 ( . jpg ( i dustind . made this image ) ( top ) 06:10 , 24 july 2006 ( hist ) ( diff ) live & loud at the wormy dog saloon bootleg disc 2 06:09 , 24 july 2006 ( hist ) ( diff ) live & loud at the wormy dog saloon bootleg ( top ) 06:09 , 24 july 2006 ( hist ) ( diff ) live & loud at the wormy dog saloon bootleg disc 2 06:08 , 24 july 2006 ( hist ) ( diff ) live & loud at the wormy dog saloon bootleg 06:07 , 24 july 2006 ( hist ) ( diff ) live & loud at the wormy dog saloon bootleg disc 1 06:06 , 24 july 2006 ( hist ) ( diff ) live & loud at the wormy dog saloon bootleg 06:05 , 24 july 2006 ( hist ) ( diff ) live & loud at the wormy dog saloon bootleg disc 1 06:05 , 24 july 2006 ( hist ) ( diff ) live & loud at the wormy dog saloon bootleg 06:05 , 24 july 2006 ( hist ) ( diff ) live\",\n",
       " \"the person whose edits you reverted hy . i just want to tell you that you can't ban me . proxies are very nice . aren't they ? now fuck you .\",\n",
       " '} } { { wp india | class = c | importance = low | kerala = yes | kerala-importance = low | assess-date = april 2012',\n",
       " '\" : in response to the interwiki and internal incoming links , that is also dependent on recentism . eg , victor trumper , called the \" \" crown prince of the golden age \" \" because of his being regarded as the most supreme stylist of all time , and also the best batsman in the world of the era 1890-1920 , one of the six giants of the wisden century , inuaugural inductee into achof has only 105 incoming links and two interwiki . mahendra singh dhoni , the current captain of india , who has only played test cricket for three years , and is ranked about 30th in the world for batting and is criticised regualrly for making too many unforced errors with ball-catching , has 170 - odd incoming links and 8 interwiki links because of recentism and the fact that every modern cricket series / tournament has its own page and the player lists link to him everywhere . if they ranked the players in the last 100 years dhoni would not even be ranked in the top 200 , let alone the top six like trumper . \\' \\' \\' ( cricket calendar poll ! \\' \\' ) \"',\n",
       " \"unacceptable ? that i editted a nonsense sentence containing no new information , a vague pronoun , bad grammar , and unrelated sourcing from a blog ? ! ? i'm sick of you unfarily riding my ass . piss off . ban me if you must . you're double standard is pathetic , and so are you . any sane person would stand behind my edit .\",\n",
       " '\" stephan schulz is a moron i attest that stephan schulz is a narrow-minded moron . all over this discussion , he puts people down and ridicules people because they don\\'t agree with him . schulz is a loser with no life and nothing better to do than to keep this article on a short leash . if you go to his page and read his writings you\\'ll find that he\\'s a socialist moron with no real education related to climatology , and has nothing real to add to the conversion except what\\'s been spewed by the un yes-men \" \" scientists \" \" who call themselves the ipcc . \"',\n",
       " 'fuck off animal shagger .',\n",
       " 'i see . brutal force is your only real argument for people like you in wikipedia . keep demonstrating us what civilization is .',\n",
       " '\" political censorship user : auburnpilot\\'s wikisophistry strategem of censoring any source whose facts or politics he or she dislikes , and calling it \" \" spam , \" \" is pathetic . have you no shame ? \"',\n",
       " 'croke park is a gaa arena but since it falls into cat . 2 , i propose that it be removed once the ariva stadium is complete',\n",
       " 'i removed it for you . is this what you were looking to achieve , or would you like me to undo my edit ?',\n",
       " \"you are one stupid jackass i don't believe any of the nonsense your profile for one second . you need to stop listing absolute nonsense on your profile if you want to convince me , and others , you're reliable . only a dilweed with a very low iq would be any of your fiction , you stupid jackoff .\",\n",
       " 'kids incorporated shut the hell up .',\n",
       " '\" may 2009 ( utc ) i did it because although \" \" pregnant \" \" silhouette is typical for gothic ( and early niederlandish art ) , botticelli ( as all italian renaissance ) goes back to classical type of body , and this fashion disappear . but if i\\'ll meet again the source from were i got it , i\\'ll add the source about her pregnant look . 10:29 , 2 \"',\n",
       " 'formal definition the dunning-kruger effect is the formal definition of an idiot , in my work experience anyway .',\n",
       " 'please stop treating this article like it was your baby',\n",
       " 'fuck you guoguo 12 ! you have no life and no friends . so go fuck yourself because you are a weird bitch ! i will block you soon ! alright bitch bye { { talkback | tdawg 4701 }',\n",
       " \"i know but i abused as im very angry shahid always reverts my edits instead of cleanup.he had expanded preity zinta article like empire state building and he do not want that priyanka chopra article to be expanded.he is a biased writer.when i added other sectiond like stage performance , in the media , humanitarian work along with notably refrence he revert its always.according to wiki , musicians have separate info box . when i added same box to priyanka he reverted my edits.also priyanka is writing her songs for album means she is also a songwriter but he edited again.that ' s why i got fired at him leading to my abuse.you shoul watch and expand this article .\",\n",
       " '\" bold text grammar \" \" he played in both legs of the play-off semi-final and the final , where watford beat leeds united to reach the premiership . \" \" does this not imply that watford played leeds in the final , as well as the semi ? \"',\n",
       " 'please answer me . why are you reverting my edits ?',\n",
       " 'also , please not that you are an idiot . thank you - dreamguy',\n",
       " '\" the tm topic hi irwolfie and welcome to the tm topic area . i ’ ve noticed that you have removed significant amounts of sourced content without discussion or consensus . being new to the topic are you may have been unaware of the tm arbcom and that the articles in the topic fall under its discretionary sanctions including peremptory reversion or removal of material referenced to reliable sources and added in good faith by others , is considered disruptive when done to excess . this is particularly true of controversial topics where it may be perceived as confrontational . in light of this you might consider self-reverting these edits and discussing them on the talk page before removing them again . in this edit you removed text along with 7 sources . in this edit you removed text and 3 sources . in this edit you removed a large amount of content along with 4 sources . thanks for your input and good faith efforts to improve the articles in and around the tm topic . best , — • talk • \"',\n",
       " 'ok , not for now then . this is headed to some form of mediation , i suspect .',\n",
       " \"my problem here is that walsh is not taking any time whatsoever when making his ' reviews ' . the result is that he simply vfd tags a page for no other reason than that he does not know anything about the subject . i have no objection to removal of fancruft etc . but these pages would have been vfd in any case by a more careful reviewer who took more than a minute to consider each page . walsh seems to be more interested in being the first to vfd tag\",\n",
       " 'based on your own request',\n",
       " \"materials what are they using to contain whatever they're smuggling ? condoms and seran wrap ?\",\n",
       " 'what was the size / area of pre-amalgamation hamilton ? where could one get the information ? they seem to have for old toronto . 24.36 . 54.238',\n",
       " '\" what was that crap on eisenhower ? he was a bum who played golf constantly while nixon ran the country . where did you study english ? \" \" an historic \" \" ? dumb bastard , learn the basics of grammar . you probably pronounce literaly \" \" litrally \" \" , right ? how chic , . crackpots my ass , pull your head out of your ass ... \"',\n",
       " '\" i personally think it was the luckiest goal in nhl history . ( talk ) \"',\n",
       " '\" i have an extensive background in linguistics and taught it before . at no time was there ever a \" \" compound \" \" in english in which they were two words . compounds are single words , not phrases . the whole concept of \" \" compounding \" \" is merging two words together as one . by definition , \" \" a compound is a lexeme \" \" , and lexemes do not have spaces in the middle of them . an item with a space is a \" \" phrase \" \" . 2 . as i proved above , it does not . 3 . many sources say otherwise . there was a whole section devoted to listed references . look under \" \" scope \" \" and you can see where it lists references provided . \"',\n",
       " \"nah , i'm just gonna go to the beach or pier . it's free . rather find my cetaceans from shore and earn it , rather than blundering into them on a boat .\",\n",
       " \"goal count i don't understand people that don't understand that the appearances and goals are for domestic league matches only . it says it right there . stop putting that he scored one goal and played two matches . it was a friendly and it doesn't count . i am mexican , but i am sure the people that keep changing the goal amount are mexicans , but they are too stupid and proud . stop doing it !\",\n",
       " 'hey fuck you faggot the departed is better than all those shitty movies go suck a cock you fuckin nerd !',\n",
       " \"thank you so much sir . it's a very strong feeling knowing that someone can understand my situation , and can provide such a precise and helpful list of things i can do . i will forever remember this . thank you very much . -\",\n",
       " 'and you might want to check the spelling of douchebag , too .',\n",
       " \"go ahead make my day ! ! ! go ahead and block me ! ! ! adam carr did the same to me . you and longhair can dispute as much as you guys like . you and all your politically motivated commies , fascists , lefties , righties ( or as i like to call them - pricks ! ! ! ) can all go to hell . c'mon block me ! ! ! you guys are the most biased wikiepdians in the world . if ned kelly was here - he would say - such an e-life .\",\n",
       " 'fuck off ! ! ! - ( ) wolfkeeper ( talk )',\n",
       " 'i almost forgot . a few comments on your remarks about the video evidence are in line . first , your statement that the waiters ’ accounts cannot be used to support what is independently evident on the video merely because “ it was not the scene of a crime ” have absolutely no basis in either logic or wikipedia guidelines . to conclude that a person ’ s statements must have been made under oath before they can be used to corroborate anything – let alone an event that is independently captured on film ( and which lends credibility to the waiters ’ accounts itself ) – is nothing short of a fiction . i strongly recommend that you re-read wp : cite and wp : rs . i haven ’ t dug around for mainstream media outlets reporting the news or the video and its authenticity for that matter ( primarily because i just don ’ t care enough at the moment ) , but rest assured that if they have or do , i will recognize – compliant with wikipedia guidelines – any wikipedian ’ s citation of it . in fact , i ’ m likely to support its authenticity on its own accord , though i ’ m still debating the matter . best , j . m .',\n",
       " '\" unblock request : fuck you , unblock me ! { { unblock | hahaahahahahahahaha unblock me or i will vandalise more ! ! ! it had been six years since we had graduated from college , and for the first time since graduation , all three of us were together again . from the enthusiastic hugs at the airport and then the conversation and laughter during the dinner we shared at a local restaurant on the way to my home , it was clear that while plenty of time had passed and we had kept in contact , the comfort and attraction between the three of us when all together in the same physical location was still undeniable . having returned to my cozy , semi-secluded home in the suburbs , we all sat in the living room , sipping wine and continuing the tales of our lives . with the exceptions of the location – a house – and the presence of alcohol , it could have been any of our final two years of college together : the three of us , tight-knit friends-with-benefits , sitting and chatting and sharing a drink together . then , justine and beth had been roommates while i lived in another dorm across the main quad ; now , they were much-welcomed guests who had fortunately been able to clear time in their hectic schedules to come and visit me for a weekend . as i sat in the recliner and took another sip of wine , i allowed my eyes to truly linger on justine as she told beth about a recent situation at work . the florida sun had certainly added a glow to justine\\'s skin , and may have also been responsible for the lighter shade of her shoulder-length brown hair . as when we were in college together , she wore virtually no make-up , just a thin gloss upon her lips – an enticing strawberry flavor , as i had discovered upon meeting her at the airport earlier in the evening – and red fingernails . her red dress was indeed elegant , with a plunging sequined neckline that permitted a very welcome display of her cleavage , a display which beth and i both certainly appreciated . the long slit up the skirt of the dress revealed that she was wearing stockings held up by a garter belt , one of its descending white straps definitely noticeable against the well-toned thigh . the red heels provided enough of a contrast for the white stockings to truly attract the eyes . surprisingly , however , she wore hoop earrings , something she had never worn during college for fear that they would pull at her ears and widen the piercing holes more than was considered safe . the conversation turned back toward me , but a few minutes later , the two beautiful young women were again chatting primarily to each other . i took the opportunity to once again study beth , and was equally impressed . while noticeably shorter than justine , beth was also paler in complexion , a testament to living in northern canada ever since graduation and spending virtually every waking moment inside to conduct her research . as in college , beth preferred the color black for her outfits : a somewhat-tight sweater , form-fitting slacks , and a pair of low heels . four tiny earrings adorned each ear , plus she bore a small sparkling stud against her left nostril . beth\\'s black hair flowed over her shoulders and down her front , and she absently twirled several strands around a finger as she listened to justine . it felt so good to be in their presence once again . especially since all three of us had been in several failed relationships since graduating from college , i was thankful that i had thought to invite them to spend the weekend with me . i had absolutely no doubt that our chatter would eventually give way to intimacy , but for now , i was quite content to simply sit back in the recliner and openly admire the two stunning beauties perched upon the sofa . the intimacy began when we finally went to bed ... together . i was on my back under the covers , with a very feminine head resting softly upon each shoulder . an arm wrapped around each of them , i held the two women close to me as they absently stroked my bare chest , dipped a finger into my navel , brushed my thighs through the sweatpants i typically wore to bed , caressed my stiffening manhood . my eyes closed , i reveled in their touches : inherently familiar , yet full of rediscovery due to the lengthy passage of time . no words were needed . and as their hands occasionally made contact with each other upon me , i smiled to myself in the darkness , having always enjoyed watching beth and justine in their own intimate encounters . but eventually , their touches slowed and ultimately ceased , their breathing falling into the regularity associated with sleep . i stayed awake a little longer , immensely enjoying the closeness with two of the people who had been most important in my life . i awoke in the morning to the scent of french roast coffee , faint yet unmistakable . justine was gone , clearly the one who had brewed the morning nectar , while beth and i held each other as sh',\n",
       " \"i've gone ahead and created the stub article : march of the soviet tankmen . now the information is in one place , and can be expanded . is this the official march of the soviet army , or soviet armoured troops ? — z . 2005-12- 6 17:34 z\",\n",
       " \"i had not seen that actually . this user is really a curious case , not sure what the user's angle is . i think we may have actually declined the same csds , and i'm assuming it was accidental that you reverted my other changes to the pages as well ? . otherwise , i'm not sure why you'd remove a reference i added and reinstate an unsourced section about a person's penis .\",\n",
       " \"edit summary please leave an edit summary to let others know what your intentions are . especially when temperarily blanking pages so i and others don't revert you and send you a warning . thanks\",\n",
       " \"timeslot hopping something should be said in the article about wpbs's notorious habit of shifting timeslots of programs without notice when they want to stop airing a certain show . they've done this with doctor who , blake's 7 , red dwarf , and liberty's kids that i've seen . apparently , they do this to lose viewers of that particular program , so they can quit airing it . 76.235 . 235.223\",\n",
       " 'u r sooooooooooooo gay',\n",
       " 'i haz a question ... why are you an idiot xd',\n",
       " 'dcandeto smells funny ! he is very mean !',\n",
       " '\" \" \" sourced \" \" ? 90 % of your links were broken . the other 10 % did not support the content that you added . . \"',\n",
       " \"good to see = = that the masturbator of lies onanizing brainsick opinions continues to spread his freaky bullshit ! don't you think you should spend your time with more importand things like stealing a car - or better a brain ? = =\",\n",
       " \"are you a jew are you a jew ? don't pollute obama's article with your snot .\",\n",
       " \"33 , 2 march 2007 ( utc ) you are being ridiculous by thinking about where the character has lived and how they would write their name . they are fictional japanese creations and that's all there is to it . 17:33\",\n",
       " 'guess what = = your retarded = =',\n",
       " '\" is that the best you can say ? wow ! making a little speech in my user talk page really shows how immature you are . god , you are such a child . how old are you ? 15 ? and those aliases are from video games in case you haven\\'t figured that out . and you\\'ve been blocked twice before . the fact is you are anal retentive and cry like a little baby everytime things don\\'t go your way . you\\'re just like daymee . now why don\\'t you do us both a favor and deal with your new stalker friend instead of bothering me . p by the way , what the hell does the b in your username stand for ? — preceding unsigned comment added by 70.127 . 205.121 \"',\n",
       " 'run the reflinks tool can you run the reflinks tool now . load it into another tab ( open in a new tab when you right click from a pc ) . it will take some time . then choose news or web . then copy each citation from the reflinks tab to between the ref links .',\n",
       " 'let my article on retard ! ! ! }: (',\n",
       " \"conclusion dude's a total pimp . i mean , did you see him sitting there in that chair ? exudes pimpocity , i tells ya .\",\n",
       " 'if you can get them to comment on this talk page , without contacting them outside of this talk page , on the substantive issue i will issue a complete and abject apology . - « talk »',\n",
       " 'i am very tempted to show you a picture of my four headed penis ...',\n",
       " '\" i did cite the cia resource , \" \" https://www.cia.gov/library/publications/the-world-factbook/geos/in.html \" \" from where i got it . \"',\n",
       " 'regarding your message can you please be more specific instead of just shouting at me ?',\n",
       " \"although not officially released , they deserve an article ( at least van gogh ) , has happens with 50 cent's power of the dollar .\",\n",
       " 'fight club ! f * * k yeeaaaaahh ! ! !',\n",
       " 'hey bitch stop taking down our fucking event pages bitch nigger ? ! how does the event pages that has over 20 fighters constitute a fucking removal you got damn yank australian piece of shit bitch',\n",
       " 'message = i am not going to make the modification to the independence day movie page , you win . so stop telling me to discuss it ! ! ! 173.76 . 119.10',\n",
       " '\" aig loan & iq = = should facts should be added about aig loan in that , the preceding days before this loan was arranged , timothy geitner , president of ny fed , had announced and published in nyc newspapers that he would not make this loan as aig had been asking for a loan of 35 - 40 billion from the fed res for a week . and that public request resulted in the timonthy geitner refusal to loan aig anything . then , geitner , paulson and bernake were all 3 informed of the 100s of billions in mortgage insurance that aig had issued and also the trillions in derivatives insurance that aig had issued and informed of the further clear conclusions that ... without supporting the aig loan and allowing aig to fail , this massive amount of market related insurance would cause a global market collapse . this info did not come from aig but from private party to these three , paulson , bernanke and geitner who had no knowledge of aig\\'s importance to markets . and today making that aig loan is credited with saving the global markets from collapse . but that occurred as just explained and not from any knowledge of bernanke , paulson or geitner but from advice of outside party that reversed the already refusal by the fed to loan aig anything as announced publicly by gietner . ( so that outside party is one who saved markets from collapse - not geitner , bernanke , paulson ) this lack of market knowledge by all three , paulson , geitner , and bernanke , is important to understand in understanding depth of market understanding in current proposals to allow us treasury to dictate systemic risk decision , when no one at the us treasury , other than saying those words , has shown any knowledge of markets to be able to determine what that is . / s / harvey keitel , markit bon vivant jr 69.121 . 221.97 iq & markets in the iq discussion in the article it is touted that the bernanke has a higher iq and that qualified him for his job . also it has been mentioned that he is an expert in depression era events . neither worked to have bernanke act appropriately in this global crisis which he / bernanke caused via fighting the spike in oil and gold prices and his efforts directly caused this crisis . so that with bernanke\\'s higher iq did not have him perceive what he was doing would cause a near global market meltdown and his studies of the depression era did not clue him in not to cause nearly a depression . / s too true ioq ix 69.121 . 221.97 demonizing wall street for us government caused crisis in the bubble , all agree was caused by greenspan , and in the huge push to give mortgages to those non qualified which all agree was caused by fannie mae , etc and by congress , this directly lead to the subprime debacle and beginning of the global crisis - none of which was caused by wall street . then in the fight by bernanke to stop the projected inflation caused by oil & gold spikes , his actions massively slammed the overall economy which was perking along just fine even with the subprime debaclev which was a smaller part of the usa $ 15 trillion economy . next , massive jaw boning of the huge crisis was done by paulson to get funds and that caused the coup de grace , the huge retrenchment of all spending by consumers ... all these events were not caused by wall street then paulson , bernanke and later hugely obama and congress , again and again bad mouthed again and again wall street claiming that this whole series of events was caused by wall street when it was mainly caused by the us governement and aided by consumer spending retrenchment but congres and the pundits caused the us population to believe the lie it was wall street\\'s fault due to gambling . all distortion 100 % . destruction of capital formation and wall street one of the key features of bernanke\\'s job in oversight for the usa economy is in also protecting capital formation ... and the engine of economic growth in the usa for 300 years has been the usa efficient capital distribution to new ventures , old ventures , etc and the recent sequence of bad mouthing by all concerned of wall street publicly now and including esp the talking heads on cnn and esp cnbc has severely damaged that core of the reason for usa dominance and leadership for those 300 years . added to that huge destruction is the special refusal by all of the us government to identify and prosecute the huge fraudulent short selling of all major wall street firms and major usa banks which was fraudulent esp as done in a intentional and ever increasing crecend',\n",
       " '\" the future of the article i stripped the article to the bones last night , after an edit conflict with the apparent representation for mr . elias which lead to the account for being temporarily blocked from editing . all information of biographies of living persons must be sourced by reliable sources . reliable sources are not his myspace , the word of his label , blogs , or any other such website . this is not a negotiable policy , you cannot base an encyclopedic article on intimate knowledge . there is no flexibility to the issue . additionally , the article is not to serve as a promotional work and may not be filled with puff and cushion . this is not negotiable . the management and artist are best served to leave the article alone at this time , until wikipedia policies and guidelines can be both applied and followed . this is all spoken with the admin hat on . talk \"',\n",
       " 'stay in the closet .',\n",
       " \"i have no life , and if i don't get to ever have sex then i will make everyone's life i can as miserable as possible !\",\n",
       " \"hey can you please stop it bugs me when some one does that edit a page i did . i know i'm not right all the time but what the fuck that wwe 2k15 roster has been confirmed so stop bugging me and don't threat me stupid bitch if you don't like it get the fuck out i'm sure you've annoyed many people case of incorrect info . so shut the fuck up if you can't handle it fuck out ! ! ! and stop don't you dare fuckin delete it edit my shit ever again . i'm not kidding .\",\n",
       " '\" mother jones i am puzzled why you removed : elliott j . gorn , mother jones : the most dangerous woman in america , 2001 , isbn 0-8090- 7094-4 ... from the mother jones article , describing your action as removing \" \" biased pov edits . \" \" although i\\'m not familiar with the book , the reference to mother jones as \" \" the most dangerous woman in america \" \" was a common one . i believe that her supporters were not offended by such a description ; they were working people who felt abused by the economic system , and they relished such a claim . this is not to say that your edit was improper ; i\\'d have to read the book to know more . but if your edit resulted from use of this phrase , and for no other reason , then it was ( in my view ) mistaken about the general perception of that description . i say this as a strong mother jones supporter and fan . best wishes , raymond cambefort i do not gainsay he was a french soldier during wwi ; i just wanted to add that he was not one of the last \" \" official \" \" french wwi vet this last point may be important cuz there is not a while that the french government has approved a state funeral for the last \" \" official one \" \" to die ... and i think the reader has to be aware of it , that\\'s all . sincerily . matt sanchez a request for consensus about what to do about some changes you recently reverted has been posted at talk : matt sanchez . thanks , oldest people hi , i see you\\'ve reverted my changes with the comment \" \" current format has better visual appeal ; wikipedia is not paper \" \" . i\\'m trying to understand but all i can make of this is a statement of personal taste , and i\\'m not convinced . can we try to compare arguments ? to me there are two disadvantages to the old format : 1 . it contains duplicate information ( the \" \" to \" \" column , saying when someone lost the status of oldest person , is always — necessarily so — equal to the person\\'s day of death ); 2 . it actually is less appealing to me because the information fills more space and there are many line breaks . it looks more tidy in my version . i\\'m therefore rather surprised at your change . thanks for a reply . – please note that if we did the table in \\' real-time \\' and not reconstructed history , we would have people like charlotte benkner lose the title when someone older was found , not when they died . thus , it could technically be different . second , i realize it is not absolutely necessary ; however , i do think a little redundancy is ok . visually , if the cases are too close together , then their time with the title looks insignificant . { yakłtalk } did you have to create my user page just in order to respond ? ( my talk page did exist . ) i was going to create it eventually , but in my own tome . how do i get it deleted again now ( not just empty but deleted ) ? such thoughtlessness really makes me angry . i\\'ve copied your comment here and i\\'m asking you to continue the debate on this page . i was aware of the theoretical argument you made . you say yourself that it doesn\\'t apply as you it is a retroactive version . your visual argument i think i understand . are you saying that with your version each table entry is a two-liner whereas in mine some entries take up one line and some two ? – ps : i\\'ve since found out how to request my user page to be deleted , so i\\'m no longer looking for guidance on that . – ah , it\\'s worked already . – how would i go about finding out .. ? hi there . it\\'s good to get in contact with you again . i have a question relating to a couple of problems i have relating to wikipedia articles i have seen ( and in some cases , even , written ) . yours was the first name i thought of when consideirng this question and whether you could help me further . let\\'s take an article such as horace wass , for example , which i wrote from information available on the internet . the wikipedia article , as well as the source from which i received the information with which i wrote the',\n",
       " 'last warning please stop . if you continue to vandalize wikipedia , as you did to user : citadel the band , you will be blocked from editing . citadel the band this is your last warning . the next time you vandalize wikipedia , as you did to user : citadel the band , you will be blocked from editing . citadel the band',\n",
       " 'redirect talk : athanasiou diakou street',\n",
       " '\" swedish wikipedia perhaps you might want to edit also the article sv : sjömarken at the swedish wikipedia . to add the pictures , it would be best to upload them again in commons so that they can be used by other wikipedia projects . ( t ) \"',\n",
       " \"note : i've placed merge tags on the articles , and suggest continuing discussion of this matter at talk : average utilitarianism .\",\n",
       " 'good news i would replace the shit that is the real evergreenfir , to transform wikipedia into a vandalism , muahahaha ...',\n",
       " 'do i talk so much shit . the second question is what',\n",
       " '\" \" \" scientific \" \" skeptic ? ? ? ! he never went to college , so why this article calls him a scientific skeptic ? may be some people of his skeptic team are real scientifics , they sure got graded from some college , but this \" \" debunker \" \" never went to any college ! so how can wikipedia call him a \" \" scientific \" \" ? do you know at least if he uses a scientific method for whatever he tries to debunk ? people , he didn\\'t finished high school ! ! ! http://www.sptimes.com/floridian/41498/the__quack__hunter.html — preceding unsigned comment added by 82.224 . 230.5 you can\\'t even write proper english . what college did you go to ? what\\'s up , doc ? thanks for the link , though . that\\'s a great article on the amazing one . i think scientific skepticism is related to following the scientific method , not formal education h2g2bob ( talk ) for sure . the user 82.224 . 230.5 would likely know that . it\\'s just trolling behavior . what\\'s up , doc ? i\\'m not english and i rather be trolling right now than being a 12/13 years old wikipedia non-life geek ( you know what i\\'m talkng about ) ! oh , we know what you\\'re talking about , all right . trust me . his ip is french , so , yeah , i won\\'t hold his english skills against him . his personality , and his intellectual abilities , however , are things that i will hold against him . back on topic , though , it is a common mistake that people make . people fail to understand that finding out the cause of flummery is a field in and of itself . knowing when you need to enlist the help of an expert , and knowing what the expert is actually able to do , instead of assuming that \\' expert ~ = god \\' - that is a skill that many people lack . i suspect that randi knows more about most scientific fields than many experts know about scientific fields outside their expertise . so according to you , it\\'s enough to only \" \" suspect \" \" his scientifc knowledge to make disappear any kind of information related to his educational background ? ! i mean , is this the way wikipedia works ? you \" \" suspect \" \" , how sure is that ? ! why didn\\'t you even \" \" wonder \" \" , that would have been a better reason for making disappear my contribution about his educational career don\\'t you think ? ! i can\\'t believe guys like you run wikipedia like kings of the info .. simply pitious . — preceding unsigned comment added by ( talk • contribs ) i guess we should leave the \\' no high-school \\' line in there . it has nothing to do with \\' scietific \\' vs \\' non-scientific \\' . his methods are unquestionably scientific , which of course explains why so few high profile psychics and fakers apply for the million dollar challenge . i added it back in with a bit of useful context , and minus the inferred line about never having been to college , which is not supported by the given source . works for me . i\\'m guessing if he can teach college without a high-school degree , he could have attended college as well . - ) the ip again demonstrates that he\\'s either a troll or an idiot , or both . what\\'s up , doc ? \"',\n",
       " 'monster attacking troy it says here that the monster poseidon sent to attack troy was killed by perseus . in all versions of the myth it was in fact herakles ( hercules ) who slew it , and was cheated out of his prize . this led to hercules and the sons of aeacus to sack troy . ( the first sack , before the trojan war )',\n",
       " 'apology hi , i am still waiting for you to apologize for your uncivility towards me . i am not anti-russian and i strongly object to your attempt to throw mud at me .',\n",
       " '\" you\\'ve been hit by the | ^ ^ ^ | | beautiful truck | \\' | \" \" \" ; .. , ___ . | _ ... _ ... ___ = = =| = _ | __ | ... , ] | \" \" ( @ ) \\' ( @ ) \" \" \" * | ( @ ) ( @ ) * * * ( @ once you\\'ve been hit , you have to hit 8 beautiful people if you get hit again you\\'ll know you\\'re really beautiful ! if you brake the chain , you\\'ll be cursed with uglyness for 10 years so pass it hit who ever you think is beautiful ! \"',\n",
       " 'category whats the category for lgbt people ? i think it should be added',\n",
       " 'tiderolls ... you are a shitty phage and you desperately need a life .',\n",
       " 'file : napier fit.jpg.jpg listed for deletion a file that you uploaded or altered , file : napier fit.jpg.jpg , has been listed at wikipedia : files for deletion . please see the discussion to see why this is ( you may have to search for the title of the image to find its entry ) , if you are interested in it not being deleted . thank you .',\n",
       " '\" no , it\\'s a serious breach of policy , he hasn\\'t apologised , and he is still refusing to acknowledge his conflict of interest . \" \" everyone makes mistakes at times \" \" is fine if there\\'s an acknowledgement ( and , btw , a reversion to the original name ) . wp : title explicitly says that such a move should not be made . ( talk ) \"',\n",
       " \"support . i don't see how the reasoning would be irrelevant . the generic correspondents of ' partido del trabajo ' is translated as ' party of labour ' into english , such is the case of the albanian party . of course parties with identical names might conduct different politics , but the case of ' party of labour ' is a special one . the name was launched inside the communist movement as an alternative to using ' communist party of x-country ' . ' labour party ' is translated ' partido laborista ' in spanish .\",\n",
       " '\" real or fiction ? \" \" the mascots are the world\\'s first customisable mascots . they were formed from the last two drops of steel poured in a bolton steelworks to form the final girder of the 2012 stadium . \" \" when one reaches the text , it\\'s not very clear if it\\'s referring to a fictional story about the characters or to some physical realisation of them . 86.173 . 169.144 \"',\n",
       " 'he deserved it . go suck one .',\n",
       " 'bare behind bars ? you gave me a level 2 warning , what the fuck is that all about ... you one of these power drunk admins ?',\n",
       " 'hi i wanna suck ur cock )',\n",
       " 'note : the above user is a sock-puppet of the infamous pé de chinelo . do not attempt to engage him in discussion !',\n",
       " 'it should be biased against those soulless fuckers',\n",
       " 'paul is dead rumors should they possibly have a mention in the article ?',\n",
       " 'just curious . i looked at the wall of proposals at the gamergate proposed decision page . i think i counted at least 22 different people making proposals , sometimes in the number of dozens of proposals per person . do you retiring arbitrators have the chance to , basically , run away from that case at the end of the year , which i would try to do in the same position , or are you more or less honor bound to wade through that morass of type until the final decision is made ?',\n",
       " '\" ps i am a former admin . δt the only constant \"',\n",
       " 'those were the official figures , which were allways assuming the best conditions , no head wind and possibly going down a large hill ect .. lol , quite simply in those days it was more than common for car makers to simply lie about things like this . in this day and age though the car makers have to actualy test the claims .',\n",
       " 'laara on the other hand , i think everyone should lick my pussy ...',\n",
       " 'for instance : the government of bih declared independence anyway - which was not accepted by the federal government of yugoslavia ... what federal government ? yugoslavia stoped to exist much earlier when slovenia declared independence .',\n",
       " \"otrs ticket 2009051010 000428 i draw your attention to the boze hadleigh entry talk page which has a post from one ' monkeyzpop ' questioning your recent deletion , to which they have received no reply . given the facts cited in the deleted section , i too am puzzled , and request that you illuminate us on your reasoning at http://en.wikipedia.org/wiki/talk:boze_hadleigh .\",\n",
       " \"eternal pink why have you named you main guy in your crap manga because evreryone thinks the same thing that it will be fucking rubbish and it will kill all manga and no one thinks you can make one they all think you won't be able to finish it ( or even start )\",\n",
       " 'harry the dirty dog - conflict of interest harry the dirty dog seems to be adamant that he knows the hasnains and that they are out of the country or have been arrested . i think there is a bit conflict of interest . this news was taken out 1 year old traced back to the mercury news . the name of pakistan and a beauty pageant has made it interesting enough . so far and far , harry the dirty dog this user is doing vandalism and it seems he is not allowing for us to remove the non-reliable sources and references . also this user seems to have a personal agenda to secure this as far as possible , and seems to me , this user harry the dirty dog is on a personal agenda of defaming this lady . there is no proof and this is a rumour according to me and is supposed to be dismissed . if any one needs to research then one must google up and find out what she is up to ! harry the dirty dog is on a personal agenda and seems to be one of the people trying to defame her . this news is one whole year old with no follow up ! such are labelled as rumours only ! sonisona',\n",
       " '\" binksternet and his cronies are clearly edit warring as they continuously insert information on this gustave whitehead page that denigrates whitehead and researchers . i am editing the page to remove the negativity and restore it to professional appearance , with citations . these \" \" mother hens \" \" for this page are clearly wright brothers enthusiasts who have had a long history of controlling this page and placing misleading or non-neutral info on it . improving the page is what i am doing . if they dislike what i put on it , they can open up a talk page comment and provide citations to prove what i added isn\\'t correct . as you see on television and in the media , the ct state legislature is convinced whitehead is first in flight , to add to what jane\\'s , the bible of aviation , has determined . there is much more that will come out on this so get ready to be open-minded . the cult of the wrights is over . now is the time for facts . binksternet has reported anothor person , a tv producer who specializes in historical documentaries , for edit warring . this just shows how completely immature he is and the cronies are that support this , as well as how unreliable wikipedia information is . this is an example of \" \" mobbing \" \" , or being bullied by a mob , in this case , of biased , bitter people who have a near religious connection to the wrights legend . \"',\n",
       " '\" speedy deletion of talk : the distance from top to bottom please refrain from introducing inappropriate pages such as talk : the distance from top to bottom , to wikipedia . doing so is not in accordance with our policies . if you would like to experiment , please use the sandbox if you think that this notice was placed here in error , you may contest the deletion by adding to the top of the page ( just below the existing speedy deletion or \" \" db \" \" tag ) , coupled with adding a note on the article\\'s talk page explaining your position , but be aware that once tagged for speedy deletion , if the article meets the criterion it may be deleted without delay . please do not remove the speedy deletion tag yourself , but don\\'t hesitate to add information to the article that would would render it more in conformance with wikipedia\\'s policies and guidelines . \"',\n",
       " '\" welcome ! hello , , and welcome to wikipedia ! thank you for your contributions . i hope you like the place and decide to stay . here are some pages that you might find helpful : the five pillars of wikipedia how to edit a page help pages tutorial how to write a great article manual of style i hope you enjoy editing here and being a wikipedian ! please sign your name on talk pages using four tildes ( ~ ~ ~ ); this will automatically produce your name and the date . if you need help , check out wikipedia : questions , ask me on my talk page , or place { { helpme } } on your talk page and someone will show up shortly to answer your questions . again , welcome ! lomobile talk / contribs \"',\n",
       " 'is dope you . hey rick james , leave rick james alone',\n",
       " \"stop vandalising people's hard work . you don't know anything about most subjects , so just kill yourself . and don't act like your all tough sitting behind a computer criticizing other people . p . s . your mom is a dirty whore .\",\n",
       " '\" image caption - homosexual ? the second image of an infected persons back has a caption which reads : \" \" a 23 - year-old homosexual man had an intensely pruritic , papulonodular eruption over his arms and back . \" \" how is the fact , that the man is homosexual , relevant ? the sexual orientation does not change the course of the desease and i believe that the comment could enforce the stereotype , that homosexual people are all infected with stds . i think it should just say \" \" a 23 - year-old man ... \" \" 88.217 . 49.147 \"',\n",
       " 'do you enjoy being a terrorist ? why ? you hate america as much as the democrats ?',\n",
       " 'elonka sucks black cocks .',\n",
       " 'january 2010 please stop your disruptive editing . if you continue to vandalize wikipedia , you will be blocked from editing .',\n",
       " '\" there is a standardization agreement between the air forces of the us , uk , canada , australia and nz , that defines a missile as \" \" a weapon or object to which propulsive energy is applied or continues to be applied after launch . \" \" see ar 310-25 . since those are the air forces of the major english speaking countries , that would seem to be the best source for the current military use of the term . \"',\n",
       " 'internal classification of the romance languages what is the mainstream view of the internal classification of the romance languages and which are the main points of dispute ? there is a dispute going on about the placement of gallo-italic : how commonly are they placed in italo-dalmatian ?',\n",
       " 'hahahahahaha this movie will always suck , no matter how much this article tries not to be bias ! mwahahahahaha ! ! !',\n",
       " '\" your submission at articles for creation herbine , arkansas , which you submitted to articles for creation , has been created . the article has been assessed as stub-class , which is recorded on the article\\'s talk page . you may like to take a look at the grading scheme to see how you can improve the article . you are more than welcome to continue making quality contributions to wikipedia . you may wish to consider registering an account so you can create articles yourself . if you have any questions , you are welcome to ask at the help desk or on the [ reviewer\\'s talk page ] if you would like to help us improve this process , please consider thank you for helping improve wikipedia ! ( talk ) \"',\n",
       " 'my organ meat is tasty , and it makes a fine salted lassie i assure you , my salty lassie is considered wegetarian if you will please swallow it all . then you may gratify your own needs , and consume your own curry scented salty lassie . thank you please !',\n",
       " '\" . \" \" we also plan to demonstrate arborsculpture , which is a unique method of bending and grafting shoots to form unusual designs and structures . \" \" arborsculpture as a unique method \"',\n",
       " \"rape . naconkantari is dead , or soon will be ... the question is ... how good are you at hiding from rapists ? i'm a good finder .\",\n",
       " '\" ps : having an anonymous ip does not mean being \" \" everybody ` s sockpuppet \" \" \"',\n",
       " \"within the hip-hop community , even though mc lyte is considered one of the greatest emcees ever ' ' ' since when ? her title as the greatest female emcee is undisputed . ' ' rule number one : anything can be disputed . this needs serious work .\",\n",
       " '\" award of the purple head to tomstar 81 we of wikipedia suck up admin staff felt that for your courageous and forthright censorship of truthseekers was exemplary and deserved reconition on the time honoured traditions of facist dictators and mass murderers by giving you a badge award . this badge you see above the \" \" purple head \" \" can be worn on the front of your forehead . without your speedy and diligent banning of users like truthseekers wiki might gain some factual and unbiased information and this is something that we at wiki are keen to avoid . users who can block and ban newcomers without question and then fend them off without providing good rerasons are exactly the calibre of sanshonest leaders we require and should you ever require any help with blocking hundreds of thousands of people - please feel free to call on any facist aligned admin at any time . , , \"',\n",
       " \"the text has been reverted because the changes did not ' add ' information ... they changed what was being said . as per my previous post can you please discuss here any specific points you disagree with rather than just rewriting the article to suit your own view .\",\n",
       " '\" sir etc in sequence same goes for lord / lady ( \" \" dr . lady jane poshname \" \" ) or hon . ( \" \" maj . hon . james bellamy \" \" ) , right ? — \"',\n",
       " 'eat my shit title says it all .',\n",
       " '\" = = hunk = = you\\'ve been hit by the | ^ ^ ^ | | beautiful truck | \\' | \" \" \" ; .. , ___ . | _ ... _ ... ___ = = =| = _ | __ | ... , ] | \" \" ( @ ) \\' ( @ ) \" \" \" * | ( @ ) ( @ ) * * * ( @ once you\\'ve been hit , you have to hit 8 beautiful people if you get hit again you\\'ll know you\\'re really beautiful ! if you brake the chain , you\\'ll be cursed with uglyness for 10 years so pass it hit who ever you think is beautiful ! \"',\n",
       " '\" why \" \" citation needed \" \" everywhere ? is there possible controversy over the materials and technology of a circular saw ? \"',\n",
       " ', you are making a fool of yourself ! ! this is not edit-warring ! ! are you crazy ? ? i was not reverting any content in any article . you make me laugh ! ! please indicate what content i reverted in what article in my communications with you ! ! i simply disagreed with you ! ! that is not edit-warring ! ! it is simply a disagreement ! ! , you are making a fool of yourself ! ! ! , do you think i am a child or something ? ? , you are simply abusive and disrespectful and making a false statement . prove me wrong ! !',\n",
       " 'ockels was the first astronaut in the dutch space prgram . lodewijk van den berg is of dutch origin but did fly for the us program .',\n",
       " 'that can equally be said of ‘ ñ ’ and ‘ ç ’ ; however , once one learns what functions the tilde and the cedilla serve , they become pronunciatory aids to show that words like “ piñata ” and “ façade ” are pronounced as ( or , more usually , ) and ( or ) — and not as and ( or ) . as i said , the functions of the ʻokina , tilde , and cedilla could all be learnt very quickly by those who are unfamiliar therewith . just because a character is only ever found in borrowed terms does not mean that it cannot function as a pronunciatory aid .',\n",
       " 'hey donkey hey donkey , your dad is coming .',\n",
       " \"redirect talk : mi'kmaq hieroglyphic writing\",\n",
       " '\" oh , and don\\'t you dare ever come to my talk page and state \" \" un general consensus \" \" to me as a source for any fact . i couldn\\'t care less what an organisation the majority of members which to see my homeland ravaged for the benefit of numerous rhetorical lies including the idea that affirmative action isn\\'t discrimination . the british courts have stated that affirmative action is unconstitutional becuase it disriminates , that\\'s all i need until you provide a serious source , not \" \" un general consensus \" \" about an organisation which has countries as members who treat woman as second class . \"',\n",
       " 'bodhidarama new section he has to be added to the list of tamil people . so i want all you tamil guys to help find proof , eg video , website , articles that he was a tamilian . we must not let the other people make us forget our history . if we all find proof , then bodhidharma will be on the article of tamil people . our tamil history must not be forgotten and changed by any outsiders . thank you அவர் தமிழ் மக்கள் பட்டியலில் சேர்க்க வேண்டும் வருகிறார் . எனவே நான் ஆதாரம் , எ . கா . வீடியோ , வலைத்தளம் , அவர் ஒரு tamilian என்று கட்டுரைகள் கண்டுபிடிக்க உதவ அனைத்து தமிழ் தோழர்களே வேண்டும் . நாம் மற்ற மக்கள் எங்கள் வரலாற்றில் மறக்க செய்ய விடமாட்டேன் வேண்டும் . நாம் அனைத்து ஆதாரம் கிடைத்தால் , பிறகு bodhidharma தமிழ் மக்களின் கட்டுரையில் இருக்கும் . நம் தமிழ் வரலாறு எந்த வெளி மறந்து மற்றும் மாற்ற வேண்டும் . நன்றி',\n",
       " 'hi , please sign your posts as a courtesy for other editors , kindly observe wikipedia guidelines and sign your talk page and user talk page posts . to do so simply add four tildes ( ~ ~ ~ ) at the end of your comments and your user name or ip address and the date will be automatically added . for further info see : wikipedia : talk page guidelines . thanks . ( → )',\n",
       " '\" terminology i have changed \" \" maximum amplitude of elelctric field \" \" to \" \" peak value of electric field \" \" . i assume that this is what is intended since in this discussion the amplitude of e does not vary with time . \"',\n",
       " 'jamais fomos modernos the band was formed in 2010 , december 12th , during ken vandermark ’ s concert at santander cultural in porto alegre , brazil . featuring bode , who has for eleven years worked with the noise / ambient / electronics scene on his own and side projects , making live appearances at cultural institutions in porto alegre and releasing his work through netlabels and cd-r distros ; bruno , a drummer of various styles , but having jazz and free improv as his main focus ; cp , a bass player that was part of what is believed to be the ever seen only double trio of punk rock and diego , a basement solo clarinet player without audience , making freely improvised music , noise and structured improvisation . the name of the band is homonymous to the antropology essay by bruno latour – we ’ ve never been modern - , published in 1991 . time has passed and new instruments were added , like flutes , whistles , harmonicas , kazoos , toys , small percussion and aleatory objects , following the intuitive direction that each session offers . as of mats gustafsson show ( fire ) , on 2011 may 15th , the band recorded 30 cd-r to be distributed among the free jazz / free improv aficionados .',\n",
       " 'help i cant find anything on this mold i need help',\n",
       " '\" :: : right , i\\'ve been working butt off to try and get you unblocked , but i\\'m apparently so insistent on it ? odd that ( talk → ← track ) \"',\n",
       " \"uhhhh you don't own this site . so don't touch my articles .\",\n",
       " '| decline = so no reason to unblock this one .',\n",
       " \"i'm involved in this content dispute ? hell , i don't even understand what this article is about ! something to do with ancient greek , but beyond that , i've no clue .\",\n",
       " '\" , 9 march 2006 ( utc ) what a complete crock . by calling everyone under the age of 18 a \" \" child \" \" , which the dictionary correctly defines as a human between the ages of infancy and puberty , you can make everything even remotely sexual sound salacious and evil . teenagers are insulted to be called \" \" children , \" \" and if you start using terms like \" \" teenage sex \" \" and \" \" teenage sex with adults \" \" to describe problematical behavior by kids old enough to know better , the \" \" poor little abused children \" \" angle is more difficult to sell . maybe we should just go to the ultimate extreme , and legally define everyone under 18 as a \" \" baby . \" \" then all sex with minors could be \" \" poor little babies being abused and raped , \" \" which would no doubt please the judith reisman\\'s , john ashcroft\\'s , and david finkelhor\\'s of the world . when such semantic games have to be employed to sell an agenda , with disqualification of everyone holding a different perspective as \" \" perpetuating the abuse \" \" , what you have is pseudo-science and flim-flam , and not unbiased reporting . 20:10 \"',\n",
       " 'che was a fucking bastard piece of shit = = the day that motherfucker was shot like the dog he was was a glorious motherfucking day for the rest of latin america . if you have a problem with this statement , lets meet in person . murderers and antiheros deserve no accolades . not even from brainless , hypocritical marxist pigs . = =',\n",
       " 'mean ferret meanie ferret !',\n",
       " '\" current squad i propose redoing the current squad list a bit ( for all south african teams ) . during the first half of the year , the top players will play super rugby for the bulls ; during the second half , some of them will play for the springboks . i suggest we list all players in this section that are contracted to the blue bulls , but also indicate if they play at national team level , at super rugby level , at currie cup level or at vodacom cup level only . with the current format , i think the only way possible would be to have some kind of indicator . something like : props dean greyling ( nt ) rayno gerber ( sr ) rossouw de klerk ( cc ) basil short ( vc ) hooker chiliboy ralepelle ( nt ) ( nt ) represented south africa in 2012 ( sr ) represented the in super rugby in 2012 ( cc ) represented the blue bulls in currie cup rugby in 2012 ( vc ) represented the blue bulls in vodacom cup rugby in 2012 the indicator would show the highest level the player played at during the season and players would be sorted by position first , then this indicator , then surname . however , an alternate representation could be : propsnamentsrccvc dean greyling rayno gerber rossouw de klerk basil short hookers chiliboy ralepelle ( nt ) represented south africa in 2012 ( sr ) represented the in super rugby in 2012 ( cc ) represented the blue bulls in currie cup rugby in 2012 ( vc ) represented the blue bulls in vodacom cup rugby in 2012 this could again be sorted by playing position , then level played , then surname . footnotes can be used if a player represented a different super rugby franchise than the main one affiliated with the union , etc . a template ( which is a slight variation on { { rugby squad player } } ) can be developed to simplify this . any thoughts , question , comments , suggestions , criticisms , etc ? \"',\n",
       " \"this isn't a page anyone else is going to see . please leave me alone .\",\n",
       " 'tidying up i applied for highbeam access here , so could someone please remove my application . same goes for my jstor application here . also , i have an open ga review for south stoneham house , so if someone would take that over it would be good . fatuorum',\n",
       " '\" unprotected i\\'m going to edit based on my comments in talk : new_anti-semitism #sourcing_claims_for_ . 22country - specific_incidents so could we discuss them now ? all the incidents mentioned are regarded as examples of the new anti-semitism i . e . coming from the left , related to radical anti-zionism etc . ( talk ) they may well be , but they are not sourced that way . i don\\'t think we can expect the words \" \" new anti-semitism \" \" to appear in every single report we reference . we\\'ve defined it , and we\\'ve linked to many sources who are defining it . the definition is : it is a form of judenhass that emanates from the left . it is characterized by the demonization of the world\\'s only jewish state and of jews as an ethnicity and a religion . israel\\'s right to exist as an equal member of the world community is denied . the jewish people\\'s right of self-determination is denied . double standards are applied , whereby the actions of the jewish state are judged according to a different standard from the actions of all the neighboring states around her . jews as a people are held collectively responsible for the actions of the jewish state . symbols and images associated with classic anti-semitism are used : for example , blood libels are resurrected , the jewish state and jewish people are associated with wild conspiracy theories involving jews or zionists or israelis plotting to take over the world , or being in control of other governments , or being responsible behind the scenes for various acts of terror mistakenly attributed to others . arab and islamic anti-semitism are excused and ignored . straw-man attacks are made , whereby jews are alleged to claim that any criticism of israel is anti-semitism , and that is then used to condemn jewish groups as unreasonable , and to deny that there is any such thing as the \" \" new anti-semitism . \" \" all of the above is accompanied by an international resurgence of violence against jews and their synagogues and schools , particularly in europe . it is found in conjunction with anti-americanism ( because jews are believed either to control or be too influential with the american government ) , anti-zionism , and the anti-globalization movement . all the authoritative sources who have written about the phenomenon agree that these are the key components , so when we find them , we can offer them as examples , so long as someone has discussed them in terms of anti-semitism or attacks on jews . ( talk ) my worry is that livingstone has not been ( at least in the sources provided ) accused of anti-semitism , and that most of the discussion of galloway has nothing to do with the allegation of anti-semitism against his supporters . add to that that we appear to be accusing them of anti-semitism ( not reporting others allegations ) , which is or ( and unwise in the case of galloway ) . the nus thing is a bit ephemeral but has been discussed in terms of new anti-semitism so i\\'d just want to tidy that up . livingstone has very definitely been accused of anti-semitism ( got into quite a bit of trouble recently over it ) , as has galloway , and without question his supporters . the section talks about it in relation to that election . by all means go ahead and clean it up as you see fit , and we can talk later if there are any disagreements . ( talk ) slim , whose definition is this ? all the sources put together . the above are the issues they agree on . it was posted weeks ago . ( talk ) i think you mean \" \" all the sources from one side of the argument put together \" \" . it\\'s been a while since we discussed this , so could you remind me as to which sources you consider authoritative ? sorry , you\\'ll have to look in the archives ; they\\'re either there or in the article . by \" \" all the sources , \" \" i mean all the sources who study new anti-semitism . the above are the elements they appear to agree on . ( talk ) i\\'m asking you which sources you consider to be authoritative . please respond . [ [ user : c',\n",
       " 'suicides just looking at this article make me want to commit suicide .',\n",
       " 'getting fat he needs to lose the excess weight . no wonder katie lea kicked the shit out of him . 68.54 . 163.153',\n",
       " 'and divinity . they are seeking the light ! anyway , thank you for the help . t / c 31 may 2006 ( utc )',\n",
       " \"hello ok , don't try to frighten me with your a-hole threats about what you'll do in the real world . you and nishkid , you related or what ? does your sage , soothing advice go to hell when soemone questions it ? 75.21 . 101.63\",\n",
       " 'fuck god youn shit asshole',\n",
       " 'hooray ! you created your teahouse profile !',\n",
       " \"durova you're a faggot . stop being obsessed with joa\",\n",
       " \"well , i really give a damn about a political system in wich i live . athough i was 15 years old at that time , i closely watched political changes in my country . i don't care if you don't believe me . i repeat : fry was a federation ( at least nominally ) , while s was a outright confederation . it's nonsense to merge those two articles into one . i'm really glad to see there are other users who also support two articles for fry and s\",\n",
       " \"skyteam / klm not a problem . i figured i'd just preempt any attacks by crazed fans of either airline ( there seem to be plenty of those here .\",\n",
       " \"hahaha that'll teach you to wp : agf 94.8 . 193.32 lol i is cause moar disruption in da absence of talk page access revocation 94.8 . 193.32\",\n",
       " \"i agree at least i can't get blocked for typing true shit on my own page . all the admins are gay . i run this shit .\",\n",
       " 'i am willing to accept under your conditions , but i reiterate that you literally cannot affect whether i make music or not , whether a wiki article is part of that , or not .',\n",
       " \"yeah , but you do administrate like shit anyway ! close my user page ! i don't care ! and also , i will get on here one day , when i get my new computer ! you won't even know its me ! ( )\",\n",
       " 'j.delanoy is a nigger = = = j.delanoy is a nigger = = = j.delanoy is a nigger = = = j.delanoy is a nigger = = = j.delanoy is a nigger = = = j.delanoy is a nigger = = = j.delanoy is a nigger = = = j.delanoy is a nigger = = = j.delanoy is a nigger = = = j.delanoy is a nigger = = = j.delanoy is a nigger = = = j.delanoy is a nigger = = = j.delanoy is a nigger = = = j.delanoy is a nigger = = = j.delanoy is a nigger = = = j.delanoy is a nigger = = = j.delanoy is a nigger = = = j.delanoy is a nigger = = = j.delanoy is a nigger = = = j.delanoy is a nigger = = = j.delanoy is a nigger = = = j.delanoy is a nigger = = = j.delanoy is a nigger = = = j.delanoy is a nigger = = = j.delanoy is a nigger = = = j.delanoy is a nigger = = = j.delanoy is a nigger = = = j.delanoy is a nigger = = = j.delanoy is a nigger = = = j.delanoy is a nigger = = = j.delanoy is a nigger = = = j.delanoy is a nigger = = = j.delanoy is a nigger = = = j.delanoy is a nigger = = = j.delanoy is a nigger = = = j.delanoy is a nigger = = = j.delanoy is a nigger = = = j.delanoy is a nigger = = = j.delanoy is a nigger = = = j.delanoy is a nigger = = = j.delanoy is a nigger = = = j.delanoy is a nigger = = = j.delanoy is a nigger = = = j.delanoy is a nigger = = = j.delanoy is a nigger = = = j.delanoy is a nigger = = = j.delanoy is a nigger = = = j.delanoy is a nigger = = = j.delanoy is a nigger = = = j.delanoy is a nigger = = = j.delanoy is a nigger = = = j.delanoy is a nigger = = = j.delanoy is a nigger = = = j.delanoy is a nigger = = = j.delanoy is a nigger = = = j.delanoy is a nigger = = = j.delanoy is a nigger = = = j.delanoy is a nigger = = = j.delanoy is a nigger = = = j.delanoy is a nigger = = = j.delanoy is a nigger = = = j.delanoy is a nigger = = = j.delanoy is a nigger = = = j.delanoy is a nigger = = = j.delanoy is a nigger = = = j.delanoy is a nigger = = = j.delanoy is a nigger = = = j.delanoy is a nigger = = = j.delanoy is a nigger = = = j.delanoy is a nigger = = = j.delanoy is a nigger = = = j.delanoy is a nigger = = = j.delanoy is a nigger = = = j.delanoy is a nigger = = = j.delanoy is a nigger = = = j.delanoy is a nigger = = = j.delanoy is a nigger = = = j.delanoy is a nigger = = = j.delanoy is a nigger = = = j.delanoy is a nigger = = = j.delanoy is a nigger = = = j.delanoy is a nigger = = = j.delanoy is a nigger = = = j.delanoy is a nigger = = = j.delanoy is a nigger = = = j.delanoy is a nigger = = = j.delanoy is a nigger = = = j.delanoy is a nigger = = = j.delanoy is a nigger = = = j.delanoy is a nigger = = = j.delanoy is a nigger = = = j.delanoy is a nigger = = = j.delanoy is a nigger = = = j.delanoy is a nigger = = = j.delanoy is a nigger = = = j.delanoy is a nigger = = = j.delanoy is a nigger = = = j.delanoy is a nigger = = = j.delanoy is a nigger = = = j.delanoy is a nigger = = = j.delanoy is a nigger = = = j.delanoy is a nigger = = = j.delanoy is a nigger = = = j.delanoy is a nigger = = = j.delanoy is a nigger = = = j.delanoy is a nigger = = = j.delanoy is a nigger = = = j.delanoy is a nigger = = = j.delanoy is a nigger = = = j.delanoy is a nigger = = = j.delanoy is a nigger = = = j.delanoy is a nigger = = = j.delanoy is a nigger = = = j.delanoy is a nigger = = = j.delanoy is a nigger = = = j.delanoy is a nigger = = = j.delanoy is a nigger = = = j.delanoy is a nigger = = = j.delanoy is a nigger = = = j.delanoy is a nigger = = = j.delanoy is a nigger = = = j.delanoy is a nigger = = = j.delanoy is a nigger = = = j.delanoy is a nigger = = = j.delanoy is a nigger = = = j.delanoy is a nigger = = = j.delanoy is a nigger = = = j.delanoy is a nigger = = = j.delanoy is a nigger = = = j.delanoy is a nigger = = = j.delanoy is a nigger = = = j.delanoy is a nigger = = = j.delanoy is a nigger = = = j.delanoy is a nigger = = = j.delanoy is a nigger = = = j.delanoy is a nigger = = = j.delanoy is a nigger = = = j.delanoy is a nigger = = = j.delanoy is a nigger = = = j.delanoy is a nigger = = = j.delanoy is a nigger = = = j.delanoy is a nigger = = = j.delanoy is a nigger = = = j.delanoy is a nigger = = = j.delanoy is a nigger = = = j.delanoy is a nigger = = = j.delanoy is a nigger = = = j.delanoy is a nigger = = = j.delanoy is a nigger = = = j.delanoy is a nigger = = = j.delanoy is a nigger = = = j.delanoy is a nigger = = = j.delanoy is a nigger = = = j.delanoy is a nigger = = = j.delanoy is a nigger = = = j.delanoy is a nigger = = = j.delanoy is a nigger = = = j.delanoy is a nigger = = = j.delanoy is a nigger = = = j.delanoy is a nigger = = = j.delanoy is a nigger = = = j.delanoy is a nigger = = = j.delanoy is a nigger = = = j.delanoy is a nigger = = = j.delanoy is a nigger = = = j.delanoy is a nigger = = = j.delanoy is a nigger = = = j.delanoy is a nigger = = = j.delanoy is a nigger = = = j.delanoy is a nigger = = = j.delanoy is a nigger = = = j.delanoy is a nigger = = = j.delanoy is a nigger = = = j.delanoy is a nigger = = = j.delanoy is a nigger = = = j.delanoy is a nigger = = = j.delanoy is a nigger = = = j.delanoy is a nigger = = j.delanoy is',\n",
       " 'so i herd you liek mudkips . go suck it .',\n",
       " \"norman lowell regarding his date of date ; the info is available if you log-in , but since you're a new membere you're probably still under moderation . use your head . ( oh yeah , i'm definitely norman lowell himself ... it's really me , seriously . )\",\n",
       " ', 23 july 2007 ( utc ) in short , you have to be kind of a weasel about it . insted of giving your side , you just notify the ones you think will support you , with neutral-sounding wording , and let them draw their own conclusions . 14:36',\n",
       " \"then maybe admins should stop being dickheads and not delete articles that should not be deleted . i didn't start this they brought it upon themselves .\",\n",
       " \"i also choose to reject blatant vandalism and propaganda on what is supposed to be a reliable source of information . don't you think that is something you should be doing ?\",\n",
       " 'i removed something written by obnoxious teenagers regarding their water tower and dance team . sean broom',\n",
       " \"hey fat and beardy i check the sock puppet page a few times a year to make sure your retarded , fat ass has not put the wikitan image back . you are sticky with pocky , you are sad and fat and beardy and i beat you like a retarded dog . i just want you to never , ever forget the time you reverted my change and i kicked your tubby ass . never forget that , ned , ever . you can run around wikipedia with your fellow simpsons cp obesessives for the rest of your life but don't forget , i kicked your anime ass off a page and made wikipedia better for it .\",\n",
       " '\" overpopulated hello . i see that you\\'ve added some content to the article , but without adding any content . please be noted that topics must be notable to have their own pages , and that content must be verifiable by reliable sources . you might wish to create your article through the wp : afc process for feedback and making sure that the article meets wikipedia guidelines . you can also ask me any questions my leaving a message on my talk page . thanks . « click here » \"',\n",
       " \"you're mad ? . let me complete this article to this sunday , stop this madness with references , images , etc . let me complete the article please . 190.242 . 99.226\",\n",
       " 'ban me , no problem . it is not my problem that you want to support the denial of my nation , of my national feeling , of my history and culture . go ahead , sell your cheap ass .',\n",
       " \"hi hi , i know moukity is going around claiming things on september 11th and it has been a week since then but he needs to have a sock puppet investigation done on his account higgys , as that was an account made to harass me with , and no such investigation was done . could there maybe even be a block on him since the things he has been saying in his edit summaries ? i know he claims he's not coming back on here and i wasn't on here either for a while until today when i went to the rescue heroes article and found his edit . this is getting ridiculous since when i make an account to get away from him i'm blocked for sockpuppetry yet he has nothing done . this is ridiculous , please do something about this , block his ip or something . 134.153 . 184.17\",\n",
       " '\" there should at least be a mention of this alternative origin of the term ! the meaning of pharisee is still debated today by a number of religious thinkers : see brian mclaren\\'s book \" \" the last word and the word after that \" \" , hannah m.g.shapero \\' s article \" \" zoroastrianism , judaism , and christianity \" \" . \"',\n",
       " \"lucky ? i will prove that you are wrong . this artist has been targeted . do you listen ? i think not . i don't think you even know what you are doing . i know that for certain , actually . why are you trying to make a name for yourself on here ? do you listen ? no . i don't have time for this now . the fact that this article is new is not a reason . did you understand that you could go search for hundreds if not thousands of bands , dancers , whoever else and delete them too ? listen sometime .\",\n",
       " 'maybe you should quit being a douche bag , and then people will listen to you .',\n",
       " 'why ? why did you do that ?',\n",
       " 'i concur with the deletion . postscript is a page description language !',\n",
       " 'stick it up your ass a video for ... kommandohimmler lässt grüßen',\n",
       " \"i am nancy and i like to fuck up people's fun .\",\n",
       " \"still here , fatass what is it like waking up every morning , looking at the mirror , observing girls cross the street at your approach , who laugh as you attempt to waddle down the street ? what is it like to see sexy women recoil in horrer at your approach ? what is it like to eat 15 chocolate bars in one sitting ? what is it like to be dangerously obese ? what is it like to be an obtuse dick along with all of that , who does counter productive things even though a bit of common sense 16 months ago would have saved him all this hastle ? what is it like being that obtuse ? ? edit : perhaps you should consider a dialogue ? all this reverting is so obtuse its silly . i've said it before , all you need to do is offer a recognition in an edit summary that i fucking exist you fucking moron and i will go away for ever . moron .\",\n",
       " 'surname extinction hi . i do not agree with you on surname extinction . see talk : galton – watson process #bad examples and talk : japanese name #surname extinction ? .',\n",
       " \"this user is a plant from bruce perens and groklaw revoke his rights and ban him he's an infiltrator .\",\n",
       " \"don't be a douche towards me .\",\n",
       " '\" liar : you certainly did put an alleged \" \" real \" \" name back ? ! ? ! you lie , you \" \" protect \" \" scum and you intentionally with malice aforethought blast harmful , possibly dangerous , erroneous information all over the internet . who the hell do you think you are ? ? ? you said that you are so worried about you getting sued ? ha ! that\\'s your made-up \" \" public \" \" reason ? liar . and second source bs does not protect you . i\\'ll go direct to sources & you can have have fun spending a fortune defending yourself . that\\'s all she wrote ! get lost . \"',\n",
       " '\" she says \" \" eunuchs too served in important capacities , not only as the guardians of womens \\' quarters , but also in high administrative and military positions . \" \" so she says eunuchs existed , so eunuchs were created or is it your or that they cut their own balls off . \"',\n",
       " 'stop fucking up wikipedia , faggot .',\n",
       " \"rfa what i did was actually to restore a lot of comments , including byt's vote , but some other stuff was apparently lost in that process . i apologize if i have contributed to the confusion there , but fact is that i was actually also a bit confused myself about what was actually going on , and the same time the servers are terribly slow today ... however , when i now take a closer look at the diffs there , it all seems to have been solved ( due to your efforts ! ) . i apologize again if my edits somehow made a mess there , but it was never my intention .\",\n",
       " '\" yes ! thank you salix alba ! this is what i mean . enough of these calling me \" \" the pig man \" \" mcgeddon ! just because michael barrymore has not taken any legal action against the mirror does not mean that the article is libellious . i propose that the statement that barrymore did the e-pill forcing and made other trouble in the gay club is a dubious one . however it does have a citation so we can\\'t say . i learn . \"',\n",
       " '\" to add , shiroi , if you have aim or some way i can contact you , let\\'s discuss this further . and to add from your comment on uer under the same thread cited above , do not go and add the shiroi meet to its own page or as a seperate subheader , as that will require as a result , pages for every meet . that will be a pain to do and will not be much of an encylopedic entry . \"',\n",
       " \"what the fuck ? how exactly am i engaged in a edit war when you removed my stuff ? are fucking serious ? my stuff is cited and it's useful information for readers about the progress of the movie . stop fucking around . you don't fucking own the page . other people have a right to add information too . if you have an issue with what's been written you can discuss it , not remove it with no explanation .\",\n",
       " 'five minutes later ? ! ? thanks . ( my talk )',\n",
       " '\" helpful advice hello . just wanted you to know i reverted some of your recent edits . you might want to check out information on how to avoid overlinking and what should be included in see also sections . thanks . whisper in my ear \"',\n",
       " \"babu .. if u don't know then please keep aside deleting the pic's see . whatever u are .. fuck u off . i contribute and share pic's what is your problem ..\",\n",
       " 'i did tell her politely where to place her head in relation to her anus . i mean , i coudl have been rude about it . i was trying to be helpful , since i suspected that she does not know her head from her anus , and it may come in useful for her to understand the distinction between these very important body parts . consider it an intervention .',\n",
       " 'conversation with me seems like you forgot conversation with me .',\n",
       " '\" this is of no consequence , i have listed my source , and you have listed yours ( albeit you do not refer to when obolensky calls them slavs , or any source calling them slavs for that matter ) , you english are out for our history , and we know this only too well , you have always tried to steal greek history and destroy the greek nation state as the french consulate\\'s history of the greek revolution shows . we will not tolerate it , the term \" \" greek ( i . e . \\' byzantine \\' ) \" \" will remain on the front page , and there it shall stay . fyromian claims are no more reliable than their claims \" \" alexandor makedonski \" \" ( they actually believe he called himself that ! d ) was a slav . oh , and by the way , fuck the queen and fuck england . \"',\n",
       " '\" rfd nomination of user : - zeus - / contributions i have nominated for discussion . your opinions on the matter are welcome ; please participate in the discussion by adding your comments at the discussion page . thank you . and his otters • ( many otters • one hammer • help ) \"',\n",
       " \"wikipedia at it's finest : 99.141 . 246.39 i want you to cry me a river , build a bridge and get the fuck over it . bits andpieces\",\n",
       " '\" sourcing of \" \" most decorated \" \" audie murphy roam 41 : it seems you and i agree with the \" \" most decorated \" \" and \" \" leave as is / or change \" \" topic from a month or so ago . i penned a pretty good argument for this subject but it was quickly archived on page 3 in the archives section . if you get a moment will you check it out , read it and give your insight / input into my argument . i would appreciate it . i think it is titled \" \" sourcing of \" \" most decorated \" \" . thanks ! \"',\n",
       " '\" content \" \" q : \" \" im a photographer and a designer not a writer , but does anyone think this article is a little short ? this is on the most significant industrial sites in our nation , that has recently ( and about 10 years ago ) had major portions demolished , wiping sections of our industrial history off the planet . we all need to take this article very seriously and make sure that it represents the significance of the site . wheres the beef ? — urbanarcheolgy \"',\n",
       " 'he was a racial jew , you fool . if you want to argue that , do it in the appropriate discussion page , under a new , appropriate heading , mr . censor tyrant .',\n",
       " 'a region of the celestial sphere close to the ecliptic .',\n",
       " 'you are a nazi . your defense of the latin american dictatorships and their killings is awful .',\n",
       " 'didier afd # 3 they keep trying to find reasons to delete it . it is up for a 3rd time . if they would only channel their efforts into improving it . after all , it has been improved and even re-titiled .',\n",
       " \"samantha 555 , in case you haven't noticed , this power-mad user pulls this nonsense a lot\",\n",
       " '\" , 24 november 2011 ( utc ) my apology if you find a personal attack in my more recent comment above . i have re-read it and can still find none . you \" \" argue that we should make the definition of polygon consistent with what the lay public is likely to encounter and study \" \" , while i believe that \" \" the elementary logic of physical objects is best used in the introductory lead \" \" . that looks like agreement to me . where we seem to differ is that you regard this as calling for a euclidean mathematical definition , while i do not believe that the lay person has sufficient mathematical appreciation for that to be appropriate to the article lead . as to the actual content , the lead grew historically as a result of several contributors thrashing out our differing approaches . what emerged should not be treated lightly , or substantially edited without prior agreement . i am happy to discuss the rest of your proposal , and no doubt others will chip in to help reach a consensus . i did restore a little of what you wrote , but in the mean time let us not play ping-pong with the page itself . on the matter of references , regular polytopes and convex polytopes are widely-read works which can hardly be described as specialised : they are indeed precisely what this lay person encountered and studied . some others which i referenced are original sources - which , out of respect to you as a professional mathematician , i would not pull away from drawing to your attention . others do move beyond a euclidean treatment , and were there simply to make the point which begins the subsequent paragraph . more directly relevant is the issue that most lay people would regard a pentagram as a \" \" star polygon \" \" , recognised as such since the days of archimedes but excluded by the definition you gave , which is more formally understood as a \" \" simple polygon \" \" . while mathematicians such as grünbaum and yourself might choose to frequently omit descriptors such as \" \" simple \" \" or \" \" convex \" \" in treatments of these objects ( grünbaum explicitly , yourself implicitly ) , a general introduction to the subject can take no such luxury . the article lead should conform as far as is possible to the lay person\\'s preconceptions , whereby polygons may be divided into those which self-intersect and those which do not . with that proviso , if you have ideas for significant changes to the article lead , i would hope you can share them with us first . — cheers , ( talk ) 20:34 \"',\n",
       " 'i resubmitted and approved it . i did add a citation tag at one spot where confirmation is needed .',\n",
       " \"silliness you did something silly . please don't be silly again . 05:18 , 2005 jun 9 ( utc )\",\n",
       " \"you're not an editor you are a stalker with with a pov .\",\n",
       " '\" your submission at articles for creation natalya pasichnyk , which you submitted to articles for creation , has been created . you are more than welcome to continue making quality contributions to wikipedia . note that because you are a logged-in user , you can create articles yourself , and don\\'t have to post a request . however , you are more than welcome to continue submitting work to articles for creation . if you have any questions , you are welcome to ask at the help desk . if you would like to help us improve this process , please consider . thank you for helping improve wikipedia ! ( used edit ! ) \"',\n",
       " '\" i agree with you completely . also , note that and the band played on was written by a gay man from within the gay community . it\\'s obvious from how this article uses \" \" homosexual \" \" so frequently as a noun , that it hasn\\'t had enough previous influence from the gay community . hopefully , that will now change . let\\'s see this article become even better still by the correct use of \" \" homosexual \" \" and the incorrect use changed appropriately . political correctness has nothing to do with it . \"',\n",
       " 'oh why dear johnny boy part three shit im gonna have fun',\n",
       " '\" i dont know how to message u without disrupting your page but im here to let u know that the page u mentioned is flawed . that leverne person is not a woman its a man . no matter what changes someone goes through they will be whatever gender they were created and no one is created transgender . so u keep on being ignorant but \" \" she \" \" is not a she and i will not address him as \" \" she \" \" \"',\n",
       " \"i assume that you have never met foreigners . what are you doing here ? your contributions are of no importance . mine are . shout your mouth 4ever . don't forget that the english that is spoken in your place , is not all the english . don't pretend that you do not understand me . i edited an article that i didn't create , it was obvious that i was ready to change my mind and discuss all the matter in the talk page , as i did before meeting you , butyou came here and revert a whole article without any discussion . you insulted me so many times , that anyone else would have been benned since a long time , but you haven't been banned yet , and some wps are wondering why . if you are trying to make me say some swearing words , please forget it . i'll never insult you personally as you did . you must be banned not me . we are here to discuss and learn .\",\n",
       " '\" religious discrimination we are struggling to justify the existence of this article , since no government discriminates against \" \" neopaganism \" \" . at best , they discriminate against fringe religious groups in general . all flavours of neopaganism fall under this heading . saying that religious discrimination may take place in states where there is no complete separation of church and state isn\\'t biased in any direction , it is strictly a tautology intended to elucidate the nature of \\' religious discrimination \\' . ( 𒁳 ) \"',\n",
       " '\" that is absolutely false . you posted a \" \" civility warning \" \" in my talk page . that was the only time that you posted there , ever , for this issue . my reaction to that , was to come here to ask what happened . we discussed it here , and when the discussion ended , without any result , i removed the civility warning from my talk page , because i use to archive / remove old conversations in my talk page . automatically , wen you saw i had removed the civility warning , you blocked me for a 24 hour period . your block was absolutely illegitimate , for various reasons : the way you did it : the reason you gave to block me was : \" \" yes , i\\'ve seen the comment on your talk page . this was the combination of mine and his responses to your previous question . \" \" . and few minutes later , you posted \" \" 24 hour block issued \" \" . all this information was posted in your own talk page , and talking to another user . you did not communicate to me that you had blocked me . i did not see that you had blocked me until , few days later the block had expired , i came to your talk page , and saw that you had said that you had blocked me . in addition , by not communicating me that i was blocked , you did not allow me to ask other admins to review my block . the reasons why you did it : it is not stated anywhere in this wikipedia that an user cannot remove stuff from his talk page . you neither told me not to remove that stuff . i accepted and fulfilled your request of having a civil attitude . ignoring what i had done before ( which was not much ) , since the moment you told me that , i kept a civil attitude . i also lost my time coming here to reply you , so there is no possible way to say that i ignored your request . in all , your block was just full of irregularities . it was not a normal admin block , but rather a thoughtless decission that you took without following any kind of procedure . you just decided that i had to be blocked because you might think that removing the civility warning that you had posted in my talk page was some kind of lack of respect towards you . but it is frankly stupid to think that way , because of the reasons i\\'ve explained above . and since you realized that you had comitted an enormous mistake , that you had used your admin powers despotically , you just repeatedly ignored the requests that i did to you in your own talk page , where i asked you why had you blocked me ( this one , and this one ) , adding to your unjustified attitude towards me , a high grade of arrogance . in addition , you are threatening me . read well what i wrote : \" \" hello ? why did you block me ? since when removing a civility warning from one\\'s talk page is something that deserves a block ? you did not even communicate my block to my talk page . i am stil waiting for a justification of your abusive attitude as admin . you not only block for no reason but you also ignore people\\'s requests of justification ! \" \" . where do you see a lack of respect here ? where do you see that i \" \" keep \" \" an uncivil attitude ? honestly , you are the one being uncivil : \" \" if you carry on in the line you are takng , you will be blocked again \" \" ... which line i am takng ? and why do you threaten me ? \" \" if you do not wish to contribute constructively to the encyclopedia , then we shall make sure that you do not prevent others from contributing \" \" ... oh , \" \" we \" \" . this sounds to me more like a street gang threatening a poor pedestrian , than an admin giving wise advices to a poor wikipedian . go to my user page and see the articles i\\'ve created . isn\\'t that a positive contribution ? look : i am not being uncivil ; it is you , the one being disrespectful with me . and i am not ignoring your requests of being civil ; i am fulfilling them . and it is rather you , who are not only ignoring my requests of justification for the actions you carried out against me , but also threatening me with new repressive measures . \"',\n",
       " '\" i don\\'t think you counted right , because per wp : 3rr : \" \" a series of consecutive saved revert edits by one user with no intervening edits by another user ... counts as one revert \" \" . ( talk | contribs ) \"',\n",
       " 'sagaiousphil who is a pillockbrain not the elast sagacious has the tiny mind of the low intellect that hates being corrected by his superiors .',\n",
       " \"insult to injury legobatman 3609 , i hope you've made a bastard of yourself . telling icekid 1994 on fanpop that you disapprove of his opinions . i hope you lose your voice when a fly gets caught in your throat . this will teach you to disapprove of my opinions on fanpop . 71.246 . 51.122\",\n",
       " 'computers are used to solve game theory problems , and game theory is used to solve computer science problems ( eg , ai , game playing ) . thus , an overlap . no ? -',\n",
       " \"piotrus ' and propaganda\",\n",
       " 'blow it out of your ass , you stupid piece of shit ! 12.176 . 20.2',\n",
       " 'sundos mohammed ibrahim al-mansoury sudanese girl .. born in 1991 at south of ksa .. then moved to riadh at 2002 and she done graduated from high school there , finally she moved to khartoum to continue the university study at garden city collage for science and technology in information technology department ..',\n",
       " \"as of today ( january 25 , 2009 ) , the training sentence begins in the middle of a sentence . i don't have the knowledge to do anything about it .\",\n",
       " 'listen here moron , you completely violate wikipedia regulations both on your userpage and in your edits . you should be paraded through the streets as an animal not worthy of our presence .',\n",
       " \"2006 ( utc ) the linked article is incorrect - the 45 % figure refers to european popular ( eu citizens ) support for romania's accession . the 70 % figure refers to romanian citizens support for eu accession . 22:49 , 18 june\",\n",
       " 'i dont care what the fuck u do ! ! fuck you u racist ass pieces of shits ! imma let everyone know what wikipedia really is ! ! ! fuck off rcaist fuckers ! ! ! bitches',\n",
       " '\" errors in listing there are a number of errors in this list . the short 25 pounder is an australian designed & built pack gun . it fired standard 25 pounder ammunition & was designed using the standard 25 pounder ( which was being licenced built in australia at the time ) as a starting point but little else in common . the m777 is actually a combined usa / uk origon . the weapon was designed in uk & all the titanium parts are made there , the barell is designed & made in usa & the finished weapon is assembled there ( britian does not at this point field this weapon ) two different imperial sized guns are listed with the same metric dimensions which can\\'t be correct ( i believe the 8 \" \" gun is correct but not the 9.2 \" \" gun ) . i don\\'t believe any of the l5 pack howitzers are still in use . the army reserve stopped using them some time in the 1990 \\' s . the f2 mortar is a uk / canada design . australia announced in 2012 it was looking at replacing the current f2 motar , therefore i would be very supprised if it only came into service in 2010 ( it was designed in the 1960 \\' s ) . 101.171 . 170.142 \"',\n",
       " '\" century formats re : alcohol laws of new jersey . if you have a problem with centuries being spelled out ( nineteenth and twentieth instead of 19th and 20th ) you probably shouldn\\'t have pointed to a policy ( wp : century ) that allows either form ( in this case spelling it out ) only requiring that usage be consistent . claiming that the official title of a legislative act ( tea - 21 ) that uses 21st ( one mention that is not our writings and is something out of our control ) , is grounds for reverting 6 others in an article that is already \" \" internally consistent \" \" as you put it , that is disingenuous and some would consider it disruptive editing . if you have any further comments , raise it on the talk page . this is not a matter of ownership , it\\'s just that these petty format issues ( whether it be dates , centuries spelled or numbered , etc . ) are aggravating and unnecessary , and it\\'s audacity to insist upon it when your claims for it are baseless . this contact is a courtesy and will be my one and only time . if you continue to revert , this will become a matter for wp : ani . \"',\n",
       " '\" : the proverb is commonly cited as a truism , i . e . \" \" a claim that is so obvious or self-evident as to be hardly worth mentioning , except as a reminder or as a rhetorical or literary device . \" \" counterexamples demonstrate that this is not the case . | talk | contributions \"',\n",
       " 'do so sexually with me',\n",
       " 'her ! poop , pee , toot , fart , gas , diareah ! zoey is poop . she stinks . i want to marry you baby ! call me !',\n",
       " '| decline = absolutely . adding links in conflict of interest is prohibited .',\n",
       " 'fuck you , cunt - contact whomever the fuck you want .',\n",
       " '\" whilst i don\\'t agree with your reasoning , i am happy to add my \" \" reference \" \" to further reading rather than references . it is not really self-promotion to add an worthy but out-of-print book as further reading for those interested in the subjects . certainly less self promotional than some of the press references which are basically just pr releases given spurious credibility by being recycled in the mainstream press . sadly , much of what passes for journalism today is just pr stuff , which begs the question of how seriously we should take a lot of references ! well i might dabble in such edits , if i had more time . to be honest , i don\\'t give tuppence whether my books are mentioned or not . it is of no advantage whatsoever to me , commercial or egotistical . i merely thought i was helping but clearly have transgressed wiki\\'s arcane guidelines , often inconsistent from what i can see . and to be honest , i do believe that people may have used my book without true attribution , there are one or two things mentioned that are so obscure that it would be rather a coincidence if they hadn\\'t been read first in my book . hopefully i\\'ll not be tempted to dabble in marmite , of which i know a great deal ! thank you for your comments and help . not meaning to be argumentative , but i do like to get things as straight as i can . one more thing you may be able to help with . a early drafts of a couple of my articles were tagged as lacking references - but although i\\'ve since added some very good ones from university text books and other mainstream publications , the yellow sticker is still at the top of the page . how do i get rid of it ? \"',\n",
       " \"i will net left harassing you . i am the same ip's whom you're blocking . i will gonna destroy you .\",\n",
       " 'talk : chelsea manning this talk page is for discussion of improvements to the article . for complaints about individual users , you should go to wp : ani or a similar venue .',\n",
       " '\" wtf again , clearly u dont know how to speak or type english . your links keep getting deleted for the reasons stated above , i dont know how we could make it any clearer . your site is crap , its unreferenced , unreliable , unreviewed and well just plain childs work . your website is one of thousands of bias websites and you have more then likely copied the information from another website . pro \"',\n",
       " 'nazis like you deserve worse than death . i will make sure you suffer horribly .',\n",
       " 'references in the talk',\n",
       " '\" 2010 pretoria runaway happy to be of assistance . ( how do you think i\\'ve gotten my edit count where it is ? ;-) ) glad to see an article on the subject ; i half-considered starting one myself at the time . excellent work , and happy editing ! che dicono a signa ? lo dicono a signa . \"',\n",
       " \"aroenel , here's what ( at least what i think ) you don't understand you say / assume that since most ( or at least what you believe to be most since you've never put forth any evidence supporting that claim ) feminist accept men as supporters they promote equality for men ( which is synth ) . if i start a political movement that states women should be slaves to men and i allow women who agree with my movement to support it does that mean my movement unquestionably promotes equality for women ( allowing a group to support you and promoting equality for that group are two different things ) ?\",\n",
       " 'pig fenian nice wrist action boys , keep it up .',\n",
       " \"total re-write of the main physics page is in progess you might like to join us at physics / wip where a total re-write of the main physics page is in progess . at present we're discussing the lead paragraphs for the new version , and how physics should be defined . i've posted here because you are on the physics project participant list .\",\n",
       " \"p . s don't talk to neiln he called you and me stupid !\",\n",
       " \"hi ! how come you're gay ?\",\n",
       " '\" = = disputed and under-referenced = = i have applied two tags . does gamut ever mean the same as hexachord ? i think this gets the relation between the concepts wrong . the long section middle ages lacks references entirely . i would recommend grove as a first resource , but it would be good to include others . i fear that some of the text in this section may not be original . also , the references in the next section are inadequate . we need much fuller bibliographic details than this , and more standard formatting . i\\'d attend to these things myself , and may yet do so . but right now i am tied up with other things . – noetica ♬ ♩ talk \"',\n",
       " 'caps seems like demon core should be capitalized',\n",
       " 'three reverts are allowed . read the rules .',\n",
       " \"there's a better answer to the question : the people that made the anime fucked up .\",\n",
       " 'will not be intentionally inconstructive } }',\n",
       " 'well done jvstvs you just convinced an admin that you are actually telling the truth .',\n",
       " 'fuck shit kwa kwa kwa !',\n",
       " \"hmmm ... hat we have is perhaps a merge or perhaps just a poor disambiguation to be fixed . questions : one article or two ? if two , is there a primary topic , and if not is there a case for a two-way dab ? if two , what to call the articles ? if one , what to call it ? answer to the last question i think is operational due diligence , uncapitalised . so the current merge proposal at operational due diligence does have something to be said for it , it's just not a very helpful way of ( re ) raising the issue .\",\n",
       " 'you changed it back idiot , i did leave my reasons in the discussion page in case you have not read it . new mexico campaign is completely wrong . not allof the battleis in this campaign occurred in new mexico . you changed that back but you did not bother changing back the campaignbox or the several other articles connected to it . i will be changing it back .',\n",
       " 'fuck you dumbass its an opinion and dont delete dis shit because i have right unlike you gay dead ugly ass mother , i fucked her too hard . sucks for you and dont you fucking dare delete this bitch because it is not vandalism it is me revaling your gay ass life 68.205 . 182.184',\n",
       " \"stop fucking men up the arse james ! stop doing it in public , it's creeping me out . thankyou asshole .\",\n",
       " \"you're not even able to use fucking * google * , can you ... ? ! ? http://www.enotes.com/psychoanalysis-encyclopedia/unpleasure\",\n",
       " '\" how is having lots of google hits as possible sourcing suspicious of a hoax.cierekim \\' \\' \\' \"',\n",
       " 'ddduu neiln lives in canada ( eastern time zone ) callanecc lives in australia mr potto you are an a s s hole',\n",
       " '\" the 24 hour block that you placed on my account yesterday the 24 hour block that you placed on my account yesterday for personal attacks has just expired , and while i must say that i was not happy about the block , i harbor no hard feelings towards you . if you check my previous contributions , you can see that i have been a productive editor on wikipedia . i\\'d just like to let you know that while i was guilty of personal attacks against and , i was goaded into doing so by these two individuals . in order to avoid future blocks , i promise not to engage in anymore personal attacks , and if i am goaded by trolls such as these two individuals , i will simply ignore them . was repeatedly reverting a comment which i made concerning statements made in the hugo chavez article which i found to be biased . my issue with concerns his nastiness and uncivility . he is far too possessive of articles which he has created , and he becomes very angry when edits are made to such articles . after multiple revisions of legitimate edits which i made to \" \" his \" \" articles , i told him to leave me alone . he proceeded to foul my discussion page with unwanted and unsolicited comments . when i objected to this , he goaded me into calling him a profanity . while i respect your role as a wikipedia administrator , i\\'d like to respectfully request that in the future , you exercise better discretion when blocking a user based on one-sided information . thank you for your understanding ! \"',\n",
       " \"so you admit to forgetting about melbourne existing in both florida and australia , thereby validating my edit as justified , but cos you're so quick to judge you still lay fault with me ? if you want a thing like wiki to become an open encyclopaedia for everyone and not just geeks , then ditch the attitude and processes cos who can be fucked learning them ?\",\n",
       " 'its madness . shes of chinese heritage , but japanese ! thats impossible , its like ... if some one was of irish heritage ... and was born in america ... would that make them ... american ... that would imply that a persons nationality , is biased on where there born , and has little to do with those who came before them ... madness',\n",
       " \"thanks , but no thanks . i don't have time like some people who spend all their free time on here . i would rather spend my free time to volunteer in real life instead of wasting it on this useless web site full of errors and communist propagandas .\",\n",
       " '\" rambhadracharya hi mike ! hope everything is going fine . just wanted to request you to review rambhadracharya for \" \" a class assessment \" \" . hope you will be available for that . by the way thanks a lot for all your efforts on this article . ) talk email \"',\n",
       " '] , as well as [ http://en.wikipedia.org/w/index.php?title=post-it_note=82219445=82217351 this one',\n",
       " \"<- what a faggot , i'm glad he's dead ! ! !\",\n",
       " 'why do you love hate ? all i want to do is inform people what a shyamalan twist is but you must interfere with your nazi ideology . ich beuge zu ihnen meinen fuhrer ! sources your a dick external links stop being a dick thanks',\n",
       " \"formating problem the value is supposed to be 1777mev / c2 , but the template makes it look like it's three orders of magnitude smaller . i don't know how to correct this . 90.179 . 235.249\",\n",
       " 'dog . do i make myself clear you unthinking little urchin',\n",
       " 'dont show me attitude i give u standing ovation of my middle finger - _ - ( )',\n",
       " 'words to watch slim and i are ready to take it live , pending any tweaks you want to make beforehand . it strikes me there are two basic ways to bring it online : directly replacing the text of the existing words to avoid page , followed after ! brief discussion by a retitling to words to watch . as words to watch , arguing from there that it should supplant words to avoid . the latter would be more politic ; the former is certainly more efficient . thoughts ? —',\n",
       " '\" that wasn\\'t nice i am reposting this to piss off tbhotch . enjoy , you dumb piece of shit . have fun being jobless . soon teachers that think too highly of themselves won\\'t be a problem in this country anymore . and if you\\'re going to run around tossing threats because you\\'re too fucking stupid to accept reality instead of getting into a flame war over demographics pissing off an entire base , then save yourself the trouble of throwing around even more threats and just ban me like you dumb public school pieces of dog shit wiki editors keep threatening over and over again . just make sure you have every vpn and spoof address banned also or you\\'re just going to be wasting your time . oh , and ; \" \" it\\'s people like you that make this place not worth coming to . if google would stop linking here then i would gladly stop using this website . why do roughly 75 % of all wikipedia editors ( whatever that is ) act like you do , aka an uneducated biased and complete fucking retard ? \" \" \"',\n",
       " 'stay out of private business between me and fridgemagnet . thank you .',\n",
       " 'ps . since when is it your responsibility to just delete the content instead ? genius .',\n",
       " \"international property rights index does anyone have some information on this source . i wanted to confirm it but , when i went to the site , it was just a general thing and i didn't see cepos ( although it's possible i didn't look enough into it ) .\",\n",
       " '\" yeah ... can i share them ? they come from your email address . \"',\n",
       " '\" p . s . : regarding the word \" \" orthodox \" \" , a word\\'s definition can become disconnected from its etymology , but this is not the case for \" \" orthodox \" \" . it still means \" \" having the right opinion / following the right practice \" \" . one more thing : if you call a particular class of file managers orthodox , it follows that fms based on different approaches would be unorthodox , which - of course - is bullshit . \"',\n",
       " '\" ewwwwwww . it\\'s not tim , dummy . ~ \"',\n",
       " '\" what do you mean ? nich old boy : when you say : \" \" i would also suggest that you read wikipedia : neutral point of view as you appear to be spending a great deal of time attempting to espouse your own personal points of view on wikipedia \" \" what in heavens name do you mean ? i am no different to any other hard-working wikipedia editor . you are totally out of line with the accusation quoted above . it\\'s been a long-long time since anyone alleged that i was doing this . yes , i admit , my interests are mainly within category : jews and judaism and category : israel and zionism and i know a lot in particular about these subjects . don\\'t you have your own interests or are you only caught up in process and not content ? what don\\'t you like about my work ? have you read all of it ? what do you know about these subjects that you can critique what i have or have not said or what my view is or is not ? \"',\n",
       " \"that may be appalling but what's really appalling is that we could lose eric corbett based entirely on molly's thin skin . if someone acts like a cunt , eric has every right to call them one .\",\n",
       " 'your submission at articles for creation thank you for submitting an article to wikipedia . your submission has been reviewed and has been put on hold pending clarification or improvements from you or other editors . please take a look and respond if possible . you can find it at wikipedia talk : articles for creation / formal numbers . if there is no response within twenty-four hours the request may be declined ; if this happens feel free to continue to work on the article . you can resubmit it ( by adding the text { { subst : afc submission / submit } } to the top of the article ) when you believe the concerns have been addressed . thank you . ( talk )',\n",
       " '\" point taken . page 35 of the pdf guide to surat thani ( ie , the part the pertains to the silk weavers ) is in english , by the way . you\\'ll be able to read it ! as for the word \" \" vassal \" \" , that\\'s the correct word . one of the images i\\'ve used links to the bunga mas , and on that page you\\'ll see the word \" \" vassal \" \" ; additionally , the page for suzerainty discusses vassal states ( ) \"',\n",
       " '\" shameful advert hi there . i notice you\\'re interested in the irish language . would you be interested in joining up an contributing to the irish language wiktionary ? we\\'re in revival mode and there\\'s quite a lot to do . see wikt : ga :p ríomhleathanach - you\\'d be very welcome - ❤ \"',\n",
       " \"thanks for your kind comments - i'm under attack by a groupd of thugs thanks for your words of support . but i am under attack by a couple of bullies and thugs chasing down everything i contribute . they even deleted your comment , but i iremember reading it before they did . did you go through that kind of gangsterism ?\",\n",
       " \"can i also mention that if you are going to tag wp :p ov , don't tag the entire article because that is completely misleading - put it where it belongs to .\",\n",
       " \"so now you are fabricating sources as well ? i suggest you in the future don't remove fact tags or any other tags without actually doing anything to justify it .\",\n",
       " \"your time ... you suck because you are right ... it is the third ... and i don't remember yours ... still ... lol ... i wanna say its in october ... but something tells me it isn't ...\",\n",
       " \"definitely , with comments like this , you show that you are unable to counter my argumentation . you did not follow any kind of procedure at time to block me , and you adopted an arrogant and fascist attitude . and now , you just have no arguments to justify what you did . if i did not have better things to do than editing wikipedia , i would report you so you would lose your adminship and you would probably be blocked in response to your abuse of power . but , luckily for you , i have no time to waste with this discussion . so , in all , you are in evidence : you comitted an abuse of power and you just cannot justify what you did . ridiculous . simply ridiculous . but it's not strange from you . reading your talk page , and having seen how you have been previously enganged in personal attacks and other civility issues , what you did to me is just another step in your despotic adminship . just another step in your evil and malignant path . pathetic .\",\n",
       " 'your a retarted shithead',\n",
       " 'eat shit eat shit and die arseface mutherlicker 137.240 . 136.80',\n",
       " 'forst of all get off your fat ass and get a job ! second of all you need to quit putting false information on wikipedia ok ! el salvador wont have a crime section at all and if it will i will put one in the nicaragua one because nicaragua is the most corrupt and poor country full of thiefs the country is full of crime and i have articles and i will make a crime section for it i el salvador or san salvador has one . dont delete this because your not allowed to delete user comments ;) !',\n",
       " 'kobe bryant \\u200e & jason kidd edits',\n",
       " 'this is what i mena some total bullying little hitler cam on my website banned me for 48 hours from eding then removes the post he is indiviate of little hitler types little hitler = petty bulyingf law enforcer that is what he was .',\n",
       " 'i did a whole new section placing clairsentience in the context of altered states with references to mckenna , tim leary , gordon wasson ... shamanic use of ayuhasca , iboga ... shamnic drumming and dancing ... the protestent shaker movement ... the whirling dervishes ... and even a mental health section showing how all of the phenomena thought meaningfull to one group was equally thought to be symptomatic of various mental health diagnosis ... my aproach was agnostic and included all aproaches with equal validity so that any curios reader could follow their own path of reasoning and research ... i thought from the nature of your remarks elsewhere and your chosen study area that you mighht be sympathetique ... cheers childish redirect ( the article presently on the main clairsentience page .. if it stays there for 5 minutes ... is the old first draft before months of work was childishly trashed and a meaningless redirect to the clairvoyance page put in its place ... the playground games continue ... ive posted this on the clairvoyance talk page after someone completely removed the clar #irsentience article which had gone through a process of months of work , rewrites , endless discussion , removasl of personal matereal , edits for style and content ... endless work on correct sourcing and wikpedia referencing and formatting ... the article which had been arrived at with co operation and discussion over many weeks and v man who himself put some hours into grammer , punctuation ... re editting for stlye and content ... and much help in correct sourcing and referencing ... this article was the sum of many peoples input , effort and hard work so i dont know how or who removed it so thoughtlessly and put the meaningless redirect to the clairvoyance page ... any help would be great ... cheers .. hi guys i see youve redirected the clairsentience article ... let me ask ... what was the point of the weeks of discussions and rewrites if you guys were going to redirect it anyway ... you should have told me t get lost out of here ... what was the point of it all ? why did i listen to you ? at all ? why did i remove all personal references ? why did i reference and source all of my matereal diligently and in great detail ? why did i edit and re edit for style and content ? why did i make additional references to religios , anthropological , socialogical , philosophical , medical , physics , chemistry , botany , mental health etc so that all views were included and respected ? why did i fulfill all of the above hurdles and hoops to fulfill wikpedia formatting and guidlines for you too to delete months of hard work and effort . your actions are without integrity or honour ... clairsentience article redirect ? hi ... whoever removed the clairsentience article and made it redirect ... can you please try and respect that the article that was there had evolved over a couple of months of discussion and many rewrites and multiple edits which involved much discussion over a long period ...\\n... i could delete this clairvoyance article ... but i wont because revert and delete wars then stupidly take place which is a real shame when a library becomes a bar room brawl ...\\n\\n... i hope you can respect the clairsentience article ...\\n\\n... ive been clairsentient for most of my adult life and it wasnt easy to come this far and to struggle for decades to articulate my experience in a way which makes rational sense to the world at large of which the clairsentience article is a manifest example ... so please try and respect the vast amount of struggle and work which has gone into it ...',\n",
       " 'niggers niggers everywhere 69.233 . 92.38',\n",
       " 'a turd for you ! for all your hard work . found this in the toilet , so i picked it out and immediently thought of you . so here you go )',\n",
       " 'therefore you are a pedo , you fuck little boys',\n",
       " \", 18 january 2008 ( utc ) try eppy's page . that's all i know from the books . btw , i said that it could be a family tradition ! btw ( again ) i started a new header , ' cos this is really getting interesting and because i wanted to . complaints should be sent to , because he made me do it . honest ! ) ) 19:17\",\n",
       " 'hi there ! you wanna fuck my ass ?',\n",
       " '\" ps : virtually the entire body of the hope article was in the intro , so i went over there and added some section headings to break it up . talk \"',\n",
       " 'yes , sheeple is what i meant . what affiliations do you refer to ?',\n",
       " 'rex deserves to die like the stupid euro dog he is . where is hitler when we need him ?',\n",
       " 'isis massacred many civilians , including children . so far , no actual sources reported isis in control .',\n",
       " 'fair use rationale for image : cyberdyne van ling dvd.jpg = = : image : cyberdyne van ling dvd.jpg is being used on this article . i notice the image page specifies that the image is being used under fair use but there is no explanation or rationale as to why its use in this wikipedia article constitutes fair use . in addition to the boilerplate fair use template , you must also write out on the image description page a specific explanation or rationale for why using this image in each article is consistent with fair use . please go to the image description page and edit it to include a fair use rationale . using one of the templates at wikipedia : fair use rationale guideline is an easy way to insure that your image is in compliance with wikipedia policy , but remember that you must complete the template . do not simply insert a blank template on an image page . if there is other fair use media , consider checking that you have specified the fair use rationale on the other images used on this page . note that any fair use images lacking such an explanation can be deleted one week after being tagged , as described on criteria for speedy deletion . if you have any questions please ask them at the media copyright questions page . thank you . = =',\n",
       " \"well ... you could for instance beef up ' this with ' ' ' that . cheers ,\",\n",
       " \"thanks for blocking me . i called tao an idiot and a dumb bastard because i truly belive he / she is one . you have these rules to prevent harassment . fine . i was just doing it for fun , got it out of my system , i'll quit now . however , you should seriously consider a ndb rule , or no dumb bastards and lazy people . wikipedia is currently a laughing stock , a punchline to a joke . the reason is that it facilitates lazy people like tao . if you read the entire entry , my intention is to improve the page . i provide sources , i provide a sound argument , i provide what's necessary to provide in circumstances like this in order to improve the page . what does tao provide ? nothing . he clearly has not read the page , he clearly does not know the subject , and he clearly is uninterested in doing what needs to be done in circumstances like this : making valid claims supported with evidence . true , i don't take wikipedia seriously , but i believe in its potential . i wouldn't do anything that i believe harms it in a substantial way . tao , on the other hand , is an insidious virus who does little but undermine the value of wikipedia . in a just world , he would be the one being blocked . this is not a genuine appeal against being blocked because i'm the one who asked for it . this is an appeal for you to actually read the conversation , read my swear-filled diatribe as me antagonizing someone who is genuinely very , very , very lazy in what he is doing ( how long did it take to get me blocked after i even begged and taunted ? ) please tell me , of the two of us who really should be blocked ? of the two of us , who is doing the most harm ? thank you .\",\n",
       " \"lamellae lamellae ( cf lamina ) are structures like stacked plates or the pages of a book , such as found in the gills of fish or mushrooms , and are quite different from the comb-like structures on the edge of a duck's bill which should be referred to as pectines ( singular pecten ) .\",\n",
       " \"nazis murdered six million of my people . why shouldn't they be killed ?\",\n",
       " 'this improves wikipedia by consolidating multiple things that are fundamentally the same and have very limited unique descriptions into one accessible article . all useful information has been retained so no good information has been lost . | talk',\n",
       " 'not enough as sock puppets have demonstrated again and again .',\n",
       " '\" marketing crap \" \" 2006 - when calls should be free \" \" . calls cannoot and will not be free at any time , any marketing scheme saying they can be \" \" free \" \" is just a scheme . this article needs a serious face lift . \"',\n",
       " '\" i am slowly working on many of the mountains of washington . i do one or two a day . i have identified a list of notable mountains that pages will be created . one is a list of highest points in each of washington\\'s 39 counties . i research if they need disambiguation . so for big horn mountain i had to research whether there were other things called big horn - there are tons of them . as you can see there are hundreds of uses of big horn . if i can , i find newspaper articles relating to the place . but due to the literally thousands of misspellings of bighorn sheep , businesses and other things like transformer toys and a ship ... i have not been able to isolate one article about big horn . big horn so far is not notable for much of anything besides being the highest point in lewis county , washington . but i did find a couple of trip reports . hello i have reviewed your editorial review request . good user , keep up the good work ! aqu 01rius ( \\x95 talk ) user : cheeselor 10 blocked , thanks . wp : wdefcon appears fine to me . penmon , anglesey hi there . you may have noticed that i\\'ve been adding to the excellent article you created here - a few extra refs and some photographs , plus an infobox as suggested by a reviewer . ( oh , and i renamed it too ! ) can you think of anything else that can be added at the moment ? i would be interested in nominating it for an assessment for good article status - i haven\\'t done this before , but it seems to comply with the criteria ( or to be nearly there , anyway ) . what do you think ? you baked the cake , i just added the icing ! fingers crossed ... oh dear ... this might interest you . re : ( wp : hd ) totd i was wondering about that , too . wikipedia talk : tip of the day would be the appropriate place to bring this up , but i don\\'t think it\\'s very active . other than that , the admin\\'s noticeboard or miscellanious village pump may be places to bring it up that would get a faster response . 15:59 , 18 may 2007 ( tc ) penmon revisited hello again . the ga review picked up various points , some easy to fix , some not . anyway , i\\'ve had a go and fixing things and i think it could do with your further attention to see whether you can spot anything that i\\'ve missed , particularly points 1 , 5 and 7 . then perhaps it\\'ll get its ga badge ! great work . i\\'ve renominated it and left a message for our previous reviewer , as he offered to look at it again if nobody else did whilst he was away . good news ! i think that means that you and i are entitled to display this as a reward for our hard work . right , where\\'s next ? ! re : ( user talk : ais 523 ) importing scripts your monobook.js looks fine , and in fact it worked when i copied it to my account to test . try bypassing your cache again , and see if it works now . 12:57 , 1 june 2007 ( tc ) the original barnstar the original barnstar i noticed that your fairly new and saw that your edits were impressive and so i\\'ve decided to award you this original barnstar ! ( talk ) = = re : ( [ [ user',\n",
       " 'leave 4 a fukin snak and i retrn with a fukin blck you are alllllllllllllllllllllllllllllll fukerssssssssssssssssssssssssssssssssssssssssssssssssssssssssssssssssssssssssssssssssssssssssssssssssssssss you suck you suck you suck you suck you suck you suck you suck you suck you suck you suck you suck you suck you suck you suck you suck you suck you suck you suck you suck you suck you suck you suck you suck you suck you suck you suck you suck you suck you suck you suck you suck you suck you suck you suck you suck you suck you suck you suck you suck you suck you suck you suck you suck you suck you suck you suck you suck you suck you suck you suck you suck you suck you suck you suck you suck you suck you suck you suck you suck you suck you suck you suck you suck you suck you suck you suck you suck you suck you suck you suck you suck you suck you suck you suck you suck you suck you suck you suck you suck you suck you suck you suck you suck you suck you suck you suck you suck you suck you suck you suck you suck you suck you suck you suck you suck you suck you suck you suck you suck you suck you suck you suck you suck you suck you suck you suck you suck you suck you suck you suck you suck you suck you suck you suck you suck you suck you suck you suck you suck you suck you suck you suck you suck you suck you suck you suck you suck you suck you suck you suck you suck you suck you suck you suck you suck you suck you suck you suck you suck you suck you suck you suck you suck you suck you suck you suck you suck you suck you suck you suck you suck you suck you suck you suck you suck you suck you suck you suck you suck you suck you suck you suck you suck you suck you suck you suck you suck you suck you suck you suck you suck you suck you suck you suck you suck you suck you suck you suck you suck you suck you suck you suck you suck you suck you suck you suck you suck you suck you suck you suck you suck you suck you suck you suck you suck you suck you suck you suck you suck you suck you suck you suck you suck you suck you suck you suck you suck you suck you suck you suck you suck you suck you suck you suck you suck you suck you suck you suck you suck you suck you suck you suck you suck you suck you suck you suck you suck you suck you suck you suck you suck you suck you suck you suck you suck you suck you suck you suck you suck you suck you suck you suck you suck you suck you suck you suck you suck you suck you suck you suck you suck you suck you suck you suck you suck you suck you suck you suck you suck you suck you suck you suck you suck you suck you suck you suck you suck you suck you suck you suck you suck you suck you suck you suck you suck you suck you suck you suck you suck you suck you suck you suck you suck you suck you suck you suck you suck you suck you suck you suck you suck you suck you suck you suck you suck you suck you suck you suck you suck you suck you suck you suck you suck you suck you suck you suck you suck you suck you suck you suck you suck you suck you suck you suck you suck you suck you suck you suck you suck you suck you suck you suck you suck you suck you suck you suck you suck you suck you suck you suck you suck you suck you suck you suck you suck you suck you suck you suck you suck you suck you suck you suck you suck you suck you suck you suck you suck you suck you suck you suck you suck you suck you suck you suck you suck you suck you suck you suck you suck you suck you suck dick you suck dick you suck dick you suck dick you suck dick you suck dick you suck dick you suck dick you suck dick you suck dick you suck dick you suck dick you suck dick you suck dick you suck dick you suck dick you suck dick you suck dick you suck dick you suck dick you suck dick you suck dick you suck dick you suck dick you suck dick you suck dick you suck dick you suck dick you suck dick you suck dick you suck dick you suck dick you suck dick you suck dick you suck dick you suck dick you suck dick you suck dick you suck dick you suck dick you suck dick you suck dick you suck dick you suck dick you suck dick you suck dick you suck dick you suck dick you suck dick you suck dick you suck dick you suck dick you suck dick you suck dick you suck dick you suck dick you suck dick you suck dick you suck dick you suck dick you suck dick you suck dick you suck dick you suck dick you suck dick you suck dick you suck dick you suck dick you suck dick you suck dick you suck dick you suck dick you suck dick you suck dick you suck dick you suck dick you suck dick you suck dick you suck dick you suck dick you suck dick you suck dick you suck dick you suck dick you suck dick you suck dick you suck dick you suck dick you suck dick you suck dick you suck dick you suck dick you suck dick you suck dick you suck dick you suck dick you suck dick you suck dick you suck dick you suck dick you suck dick you suck dick you suck dick you suck dick you suck dick you suck dick you suck dick you suck dick you suck dick you suck dick you suck dick',\n",
       " \"afd voting pattern hi unrepentant , i've noticed that you are nominating articles for deletion and then writing delete in your nomination text . as nominator , you can't vote and so you should cease this practice in nominations and please delete your most recent edits where you've done this . you can start with helen krauze , which i've voted on . if you need help finding the others , you can use the snottywong tool ] . you can use the tool also to keep track of your percentage of your votes that match the final results of the afd . your matches seem low to me . using the same tool , you can look at mine i'm often voting keep or user :d gg who also nominates many articles for deletion like you do to compare . you may have already known about this tool ! good luck ,\",\n",
       " 'moreover , this person has abused his / her discretion by not only blocking , but also removing rebuttals from its discussion page , a further indication of an underlying lack of integrity } }',\n",
       " \"i apologise for that . i was reverting quite abit of vandalism at the time , and i automatically push the rollback ( vandalism ) button ( i use twinkle in my vandal-fighting ) most of the time . that , and it's 12:20 am here . once again , i apologise , and good morning - er , night .\",\n",
       " '\" \" \" empathize with stupidity and you\\'re half way to thinking like an idiot \" \" likewise seems directed at another editor , not just a philosophical idea tossed out into the breeze . if it\\'s still hard for you to refrain from this kind of thing , why don\\'t you take a break ? — \"',\n",
       " '\" , 4 september 2014 ( utc ) my apologies for not responding to your previous post about this . when i saw it , i was short of time , and left it to deal with later , and then forgot about it . i would have restored the last incarnation of the deleted article ( not earlier versions , which contained copyright infrignements ) and moved it to your userspace . however , the article has now been re-created , and since there doesn\\'t seem to be anything significant in the deleted version that is not also in the new article , so there doesn\\'t seem to be much point in restoring it now . i have corrected a couple of grammatical mistakes in the new article . apart from that , the most important thing needing to be done to the article , in my opinion , is checking the reference citations , and moving them to appropriate parts of the article , rather than all in a list at the end . the editor who uses the pseudonym \" \" \" 09:38 \"',\n",
       " 'redirect talk : the suppression of religious houses act 1539',\n",
       " '\" regarding consensus \" \" but wikipedia\\'s consensus practice does not justify stubborn insistence on an eccentric position combined with refusal to consider other viewpoints in good faith . with respect to good faith , no amount of emphasized assertions that one is editing according to wikipedia : neutral point of view while engaging in biased editing will serve to paper over the nature of one\\'s activities . \" \" \" \" at times , a group of editors may be able to , through persistence , numbers , and organization , overwhelm well-meaning editors and generate widespread support among the editors of a given article for a version of the article that is inaccurate , libelous , or not neutral , e . g . giving undue weight to a specific point of view . this is not a consensus . \" \" from [ ] i found these passages particularly relevant . you seem to consider everyone with a different viewpoint as a troll , and you continually revert edits in a way that makes sure the article is biased in favor of furries . \"',\n",
       " 'it is not an improvement . there is longstanding consensus for the existing redirects .',\n",
       " \"orangemarlin , you're an asshole and that's all there is to it !\",\n",
       " \"a misery = you have made my life a misery on wikipedia , and now you're gonna pay for it you disgusting , ignorant and stupid bastard .\",\n",
       " '> that is what i have asked the dude to do - take out the cities , but he insists upon keeping boston ( as the center of the world . clearly biased ) in no matter what . these bastrards on wikipedia do not know how to compromise or neogotiate . all they know is how they see things or how they want others to see things .',\n",
       " \"i'm in favour of your proposal too javits . now i understand better where you're coming from .\",\n",
       " '\" arthashastra in modern literature i have seen a modern literature section in here off and on . keeps getting reverted in the name of trivia . however , the author brad thor has an article , the mentioning of arthashastra is an uncommon topic in modern literature and in the book several true recipes for poisons , bio-warfare and chemical warfare are mentioned . all gleaned from arthashastra . i do not care to get into a silly edit war and considering the people watching this article for this fact modern literature \" \" trivia nonsense \" \" alone , i would also ask for an outside opinion . 98.214 . 81.82 \"',\n",
       " \"you're blocked for 700 days . shushing cow\",\n",
       " 'we can mention all of that . but those are all just theories . we cannot dismiss one theory over the other .',\n",
       " \"grow up you silly person it's not disruptive editing your reverting is disrupting - hey qed actually pay attention to wikipedia's own page devoted to people with the surname mckay not mckay because that name does not exist ! ( https://en.wikipedia.org/wiki/mckay ) your logic qed - suggests that this ( https://en.wikipedia.org/wiki/mckay ) is wrong because mckay has uses an uppercase letter ' k ' . you imbecile just ask a specialist in the field of surnames , specifically irish and scottish surnames and you will have your answer !\",\n",
       " 'sneering , transphobic sarcasm is not my idea of humour , but each to their own .',\n",
       " \"febuary 2009 i didn't vandalize the fucking page , so lay off me .\",\n",
       " '\" { | style = \" \" border-spacing :8 px ; margin : 0px - 8p x \" \" width = \" \" 100 % \" \" | class = \" \" mainpagebg \" \" style = \" \" width : 55 % ; border : 1px solid #084080 ; background-color : #f5fffa ; vertical-align : top ; color : #000000 ; font-size : 85 % \" \" | hello rangeetsen ! welcome to wikipedia ! thank you for your contributions . if you decide that you need help , check out getting help below , ask me on my talk page , or place { { helpme } } on your talk page and someone will show up shortly to answer your questions . please remember to sign your name on talk pages by clicking or using four tildes ( ~ ~ ~ ); this will automatically produce your name and the date . finally , please do your best to always fill in the edit summary field . below are some useful links to facilitate your involvement . happy editing ! talk { | style = \" \" border-spacing :8 px ; margin : 0px - 8p x \" \" width = \" \" 100 % \" \" | class = \" \" mainpagebg \" \" style = \" \" width : 55 % ; border : 1px solid #ffffff ; background-color : #f5fffa ; vertical-align : top \" \" | getting started wikipedia tutorial • the five pillars of wikipedia how to : edit a page • upload an image getting help frequently asked questions where to ask questions or make comments request administrator attention policies and guidelines neutral point of view • reliable sources verifiability • citing sources • no original research what wikipedia is not • biographies of living persons manual of style • three-revert rule • sock puppetry copyrights • fair use • image use policy external links • spam • vandalism deletion policy • conflict of interest • notability | class = \" \" mainpagebg \" \" style = \" \" width : 55 % ; border : 1px solid #ffffff ; background-color : #f5fffa ; vertical-align : top \" \" | { | width = \" \" 100 % \" \" cellpadding = \" \" 2 \" \" cellspacing = \" \" 5 \" \" style = \" \" vertical-align : top ; background-color : #f5fffa \" \" ! the community | - | style = \" \" color : #000 \" \" | build consensus • resolving disputes assume good faith • civility • etiquette [ [ wikipedia : no personal attacks | no',\n",
       " '\" mangojuice , i am not against articles on coats of arms as such , that would be absurd . i am against using western sahara as a subsitute for the \" \" sahrawi republic \" \" . this is where the bug lies and this goes across all topics related to the western sahara conflict where koavf is involved ( with his systematic reverts ) . western sahara is , again , 1 ) a disputed territroy and 2 ) under moroccan administration . it has as such no national coat of arms ( a part may be from the one of the power that administrates it ) . to have an article showing the coat of arms of the \" \" sahrawi republic \" \" on the disputed western sahara territory is nothing but using wikipedia for polisario political interests ! the \" \" sahrawi republic \" \" , which is nothing but a governement in exile , has one however . it can appear on its page , i have no problem with it . result : none - as far as i am aware of - is wanting to delete \" \" coat of arms of the sahrawi arab democratic republic \" \" . it should only not be same as \" \" coat of arms of western sahara \" \" i don\\'t know whether this is clear or not , otherwise happy to discuss every detail . the problem we are having with koavf is that he is a fervent militant of the \" \" sahrawi republic \" \" and wants absolutely to have western sahara be a subtitute for this republic ín wikipedia . and he is editwarring everyone who thinks differently , even when this costs him to be blocked on indefinite , and again and again . only a strong admin can stop him . the best solution would be to ban him from editing the topic as had been suggested once already . unfortunately he is unblocked every time by admins who want to show good will , although he does not care and just ignore them once they have unblocked him . we are having this situation not for the first time now and this is really exhausting ! kind regards - \"',\n",
       " 'what is wrong with a neutrally coloured map showing who figures ? the facts is stated above ? ? ?',\n",
       " \"small minded and ignorant wiki contributors . it seem sto me that th eoriginal noble aims of the founders have gone adrift due to the smallminded pettyness of many contributors . they usually manifest this smallminded ignorance by deleting any correction to their original articles as seemingly their godliness means the are the supreme authority on most topics even if as is the frequent case they live in some little place in usa ad have no real knowledge of life beyond the stripmalls . constant ingestion of burgers and fries makes them feel to be experts on all things even those of which they know nothing and have n personal experience of . thus when i spot an inconsitency in their pieces and add some correct and especially logical words to their precious piece they get their knickers in a twist and childishly erase my effort and thus leave all other wiki readers just as ignorant as they themselves . this is fascism and more fitting to hitler's germany or stalin's russia that the wide world of today . i will nevertheless continue to add , subtract or otherwise modify and improve various wiki articles i find as part of my conviction that eductaion should be progressive not regressive .\",\n",
       " '\" under wikipediapoliciy harrasment is \" \" harassment is defined as a pattern of offensive behavior that appears to a reasonable observer to have the purpose of adversely affecting a targeted person or persons , usually ( but not always ) for the purpose of threatening or intimidating the primary target . the intended outcome may be to make editing wikipedia unpleasant for the target , to undermine them , to frighten them , or to discourage them from editing entirely . \" \" no threats were made or implied only asked why the user continued to remove everything that showed themselves in an unflattering light . \"',\n",
       " 'the hell i care . 202.124 . 135.206',\n",
       " 'hi i have found some more links for you http://www.wwfindia.org/about_wwf/what_we_do/freshwater_wetlands/our_work/ramsar_sites/harike_wetlands_.cfm and http://www.birding.in/birdingsites/harike_lake.htm and also http://www.gisdevelopment.net/aars/acrs/1997/ts7/ts7008.asp and finally a brilliant article on the history http://www.punjabheritage.org/architectural-heritage/local-enthusiasm-but-official-neglect-for-anglo-sikh-war-monuments2704.html',\n",
       " \"image i would like to use the second paragraph as a caption for the image . i'll be working on that as i learn about infoboxes\",\n",
       " \"then for consistency , it needs to be linked to every other religion's portal as well . the impression is that irreligion is simply a rejection / reaction of christianity only . i think that anupam's discourse here does not indicate that there is a warrant for christianity remaining . in addition , christianity can be accessed through the overall religion portal put above anyway .\",\n",
       " 'support - mostly . i think there is room for a general article on thermonuclear weapons , separate from both nuclear weapons and this one . the issues of weapons design issues could be addressed in greater detail here , and issues of history and current status in the separate article .',\n",
       " '\" the graceful slick ... is non other than an ungraceful dick ! 86.131 . 154.230 \"',\n",
       " '\" i find it funny that mexia , if prounounced correctly in spanish would be very close to mejilla ( or cheek ) . þ ¡ æ ! \"',\n",
       " \"fuck you fuck all the faggot assed , cock suckin ' , drug addicted , shit sniffin ' , retarded megalomaniacs who call themselves admins . the couldn't get fucked up the arse if they bent over in a gay bar with $ 50 stuffed in their crack . they are just a bunch of lame ass losers with no life and even fewer friends . if real life came up and bit them on the as , they would die or just od .\",\n",
       " '\" \" \" bitch , suck my dick before i slap you with it . \" \" \" bitch , suck my dick before i slap you with it . \" \" \" bitch , suck my dick before i slap you with it . \" \" \" bitch , suck my dick before i slap you with it . \" \" \" bitch , suck my dick before i slap you with it . \" \" \" bitch , suck my dick before i slap you with it . \" \" \" bitch , suck my dick before i slap you with it . \" \" \" bitch , suck my dick before i slap you with it . \" \" \" bitch , suck my dick before i slap you with it . \" \" \" bitch , suck my dick before i slap you with it . \" \" \" bitch , suck my dick before i slap you with it . \" \" \" bitch , suck my dick before i slap you with it . \" \" \" bitch , suck my dick before i slap you with it . \" \" \" bitch , suck my dick before i slap you with it . \" \" \" bitch , suck my dick before i slap you with it . \" \" \" bitch , suck my dick before i slap you with it . \" \" \" bitch , suck my dick before i slap you with it . \" \" \" bitch , suck my dick before i slap you with it . \" \" \" bitch , suck my dick before i slap you with it . \" \" \" bitch , suck my dick before i slap you with it . \" \" \" bitch , suck my dick before i slap you with it . \" \" \" bitch , suck my dick before i slap you with it . \" \" \" bitch , suck my dick before i slap you with it . \" \" \" bitch , suck my dick before i slap you with it . \" \" \" bitch , suck my dick before i slap you with it . \" \" \" bitch , suck my dick before i slap you with it . \" \" \" bitch , suck my dick before i slap you with it . \" \" \" bitch , suck my dick before i slap you with it . \" \" \" bitch , suck my dick before i slap you with it . \" \" \" bitch , suck my dick before i slap you with it . \" \" \" bitch , suck my dick before i slap you with it . \" \" \" bitch , suck my dick before i slap you with it . \" \" \" bitch , suck my dick before i slap you with it . \" \" \" bitch , suck my dick before i slap you with it . \" \" \" bitch , suck my dick before i slap you with it . \" \" \"',\n",
       " \"wikipedia doesn't like it when stupidity of moderators is pointed out ! hahahaha . keep on deleting , i will be back to call this mod an idiot again .\"]"
      ]
     },
     "execution_count": 10,
     "metadata": {},
     "output_type": "execute_result"
    }
   ],
   "source": [
    "texts_train"
   ]
  },
  {
   "cell_type": "code",
   "execution_count": 7,
   "metadata": {
    "pycharm": {
     "name": "#%%\n"
    }
   },
   "outputs": [
    {
     "name": "stdout",
     "output_type": "stream",
     "text": [
      "example features: ['!', '12:20', '300', '_', 'adorned', 'alternative', 'archive', 'average', 'benkner', 'bout', 'came', 'chest', 'combined', 'consumers', 'cricket', 'decisions', 'dickheads', 'domestic', 'eductaion', 'essentially', 'faggot', 'firms', 'frustrated', 'goal', 'hanibal', 'hip-hop', 'identified', 'infoboxes', 'issue', 'kindergarten', 'lets', 'lot', \"mclaren's\", 'moderator', 'naturally', 'noticeable', 'opposing', 'pdf', 'plant', 'pretoria', 'punctuation', 'rebels', 'repetative', 'riadh', 'schulz', 'shes', 'slit', 'spoof', 'stupid', 't', 'theoretical', 'topic', 'uglyness', 'userspace', 'wanted', 'wikieditor', 'year', '←']\n"
     ]
    }
   ],
   "source": [
    "# task: find up to k most frequent tokens in texts_train,\n",
    "# sort them by number of occurences (highest first)\n",
    "k = 10000\n",
    "\n",
    "<YOUR CODE>\n",
    "\n",
    "bow_vocabulary = <YOUR CODE>\n",
    "\n",
    "print('example features:', sorted(bow_vocabulary)[::100])"
   ]
  },
  {
   "cell_type": "code",
   "execution_count": 8,
   "metadata": {
    "pycharm": {
     "name": "#%%\n"
    }
   },
   "outputs": [],
   "source": [
    "def text_to_bow(text):\n",
    "    \"\"\" convert text string to an array of token counts. Use bow_vocabulary. \"\"\"\n",
    "    <YOUR CODE>\n",
    "    \n",
    "    return np.array(<...>, 'float32')"
   ]
  },
  {
   "cell_type": "code",
   "execution_count": 9,
   "metadata": {
    "pycharm": {
     "name": "#%%\n"
    }
   },
   "outputs": [],
   "source": [
    "X_train_bow = np.stack(list(map(text_to_bow, texts_train)))\n",
    "X_test_bow = np.stack(list(map(text_to_bow, texts_test)))"
   ]
  },
  {
   "cell_type": "code",
   "execution_count": 10,
   "metadata": {
    "pycharm": {
     "name": "#%%\n"
    }
   },
   "outputs": [],
   "source": [
    "k_max = len(set(' '.join(texts_train).split()))\n",
    "assert X_train_bow.shape == (len(texts_train), min(k, k_max))\n",
    "assert X_test_bow.shape == (len(texts_test), min(k, k_max))\n",
    "assert np.all(X_train_bow[5:10].sum(-1) == np.array([len(s.split()) for s in  texts_train[5:10]]))\n",
    "assert len(bow_vocabulary) <= min(k, k_max)\n",
    "assert X_train_bow[6, bow_vocabulary.index('.')] == texts_train[6].split().count('.')"
   ]
  },
  {
   "cell_type": "markdown",
   "metadata": {
    "pycharm": {
     "name": "#%% md\n"
    }
   },
   "source": [
    "__Naive bayes:__ perhaps the simplest model that can solve your problem is the so called Naive Bayes Classifier. \n",
    "Its a trivial linear model that assumes the independence of input features and computes the coefficients by, well, counting probabilities.\n",
    "\n",
    "If you don't remember the math behind Naive Bayes, read [this chunk](https://lena-voita.github.io/nlp_course/text_classification.html#naive_bayes) to help refresh your memory. Done? Good! Now let's implement that :)"
   ]
  },
  {
   "cell_type": "code",
   "execution_count": null,
   "metadata": {
    "pycharm": {
     "name": "#%%\n"
    }
   },
   "outputs": [],
   "source": [
    "class BinaryNaiveBayes:\n",
    "    delta = 1.0  # add this to all word counts to smoothe probabilities\n",
    "    \n",
    "    def fit(self, X, y):\n",
    "        \"\"\"\n",
    "        Fit a NaiveBayes classifier for two classes\n",
    "        :param X: [batch_size, vocab_size] of bag-of-words features\n",
    "        :param y: [batch_size] of binary targets {0, 1}\n",
    "        \"\"\"\n",
    "        # first, compute marginal probabilities of every class, p(y=k) for k = 0,1\n",
    "        self.p_y = np.array(<YOUR CODE: probability of y=0 and of y=1 in that order>)\n",
    "        \n",
    "        # count occurences of each word in texts with label 1 and label 0 separately\n",
    "        word_counts_positive = <YOUR CODE HERE>\n",
    "        word_counts_negative = <YOUR CODE HERE>\n",
    "        # ^-- both must be vectors of shape [vocab_size].\n",
    "        \n",
    "        # finally, lets use those counts to estimate p(x | y = k) for k = 0, 1\n",
    "        \n",
    "        <YOUR CODE HERE>\n",
    "        self.p_x_given_positive = <...>\n",
    "        self.p_x_given_negative = <...>\n",
    "        # both must be of shape [vocab_size]; and don't forget to add self.delta!\n",
    "        \n",
    "        return self\n",
    "    \n",
    "    def predict_scores(self, X):\n",
    "        \"\"\"\n",
    "        :param X: [batch_size, vocab_size] of bag-of-words features\n",
    "        :returns: a matrix of scores [batch_size, k] of scores for k-th class\n",
    "        \"\"\"\n",
    "        # compute scores for positive and negative classes separately.\n",
    "        # these scores should be proportional to log-probabilities of the respective target {0, 1}\n",
    "        # note: if you apply logarithm to p_x_given_*, the total log-probability can be written\n",
    "        # as a dot-product with X\n",
    "        score_negative = <YOUR CODE HERE - compute unnormalized negative log-probability>\n",
    "        score_positive = <YOUR CODE HERE - compute unnormalized positive log-probability>\n",
    "        \n",
    "        # you can compute total p(x | y=k) with a dot product\n",
    "        return np.stack([score_negative, score_positive], axis=-1)\n",
    "    \n",
    "    def predict(self, X):\n",
    "        return self.predict_scores(X).argmax(axis=-1)"
   ]
  },
  {
   "cell_type": "code",
   "execution_count": null,
   "metadata": {
    "pycharm": {
     "name": "#%%\n"
    }
   },
   "outputs": [],
   "source": [
    "naive_model = BinaryNaiveBayes().fit(X_train_bow, y_train)"
   ]
  },
  {
   "cell_type": "code",
   "execution_count": null,
   "metadata": {
    "pycharm": {
     "name": "#%%\n"
    }
   },
   "outputs": [],
   "source": [
    "assert naive_model.p_y.shape == (2,) and naive_model.p_y.sum() == 1 and naive_model.p_y[0] > naive_model.p_y[1]\n",
    "assert naive_model.p_x_given_positive.shape == naive_model.p_x_given_negative.shape == X_train_bow.shape[1:]\n",
    "assert np.allclose(naive_model.p_x_given_positive.sum(), 1.0)\n",
    "assert np.allclose(naive_model.p_x_given_negative.sum(), 1.0)\n",
    "assert naive_model.p_x_given_negative.min() > 0, \"did you forget to add delta?\"\n",
    "\n",
    "f_index = bow_vocabulary.index('fuck')  # offensive tweets should contain more of this\n",
    "assert naive_model.p_x_given_positive[f_index] > naive_model.p_x_given_negative[f_index]\n",
    "\n",
    "g_index = bow_vocabulary.index('good')  # offensive tweets should contain less of this\n",
    "assert naive_model.p_x_given_positive[g_index] < naive_model.p_x_given_negative[g_index]"
   ]
  },
  {
   "cell_type": "code",
   "execution_count": null,
   "metadata": {
    "pycharm": {
     "name": "#%%\n"
    }
   },
   "outputs": [],
   "source": [
    "from sklearn.metrics import roc_auc_score, roc_curve\n",
    "\n",
    "for name, X, y, model in [\n",
    "    ('train', X_train_bow, y_train, naive_model),\n",
    "    ('test ', X_test_bow, y_test, naive_model)\n",
    "]:\n",
    "    proba = model.predict_scores(X)[:, 1] - model.predict_scores(X)[:, 0]\n",
    "    auc = roc_auc_score(y, proba)\n",
    "    plt.plot(*roc_curve(y, proba)[:2], label='%s AUC=%.4f' % (name, auc))\n",
    "\n",
    "plt.plot([0, 1], [0, 1], '--', color='black',)\n",
    "plt.legend(fontsize='large')\n",
    "plt.grid()\n",
    "\n",
    "test_accuracy = np.mean(naive_model.predict(X_test_bow) == y_test)\n",
    "print(f\"Model accuracy: {test_accuracy:.3f}\")\n",
    "assert test_accuracy > 0.75, \"Accuracy too low. There's likely a mistake in the code.\"\n",
    "print(\"Well done!\")"
   ]
  },
  {
   "cell_type": "markdown",
   "metadata": {
    "pycharm": {
     "name": "#%% md\n"
    }
   },
   "source": [
    "Okay, it definitely learned *something*. Now let's figure out what exactly it learned. The simplest way to do that is by highlighting which words have a greatest ratio of positive to negative probability or vice versa. We'll go with the positive one [because reasons](https://www.urbandictionary.com/define.php?term=because%20reasons).\n",
    "\n",
    "__Your task__ is to compute top-25 words that have the __highest__ ratio of ${p(x_i | y=1)} \\over {p(x_i | y=0)}$. Enjoy!"
   ]
  },
  {
   "cell_type": "code",
   "execution_count": null,
   "metadata": {
    "pycharm": {
     "name": "#%%\n"
    }
   },
   "outputs": [],
   "source": [
    "# hint: use naive_model.p_*\n",
    "probability_ratio = <YOUR CODE: compute the ratio as defined above, must be a vector of [vocab_size]>\n",
    "top_negative_words = <YOUR CODE: find 25 words with highest probability_ratio, return list of str>\n",
    "\n",
    "assert len(top_negative_words) == 25 and [isinstance(w, str) for w in top_negative_words]\n",
    "assert 'j.delanoy' in top_negative_words and 'college' in top_negative_words\n",
    "\n",
    "for i, word in enumerate(top_negative_words):\n",
    "    print(f\"#{i}\\t{word.rjust(10, ' ')}\\t(ratio={probability_ratio[bow_vocabulary.index(word)]})\")"
   ]
  },
  {
   "cell_type": "markdown",
   "metadata": {
    "pycharm": {
     "name": "#%% md\n"
    }
   },
   "source": [
    "Now lets try something less prehistoric: __Logistic Regression__. Turns out, if you're using silicon instead of an abacus, you can find model weights by optimizing the log-probability of the answer. Though, of course, you don't even need to write it by hand anymore. Let's sklearn it!"
   ]
  },
  {
   "cell_type": "code",
   "execution_count": null,
   "metadata": {
    "pycharm": {
     "name": "#%%\n"
    }
   },
   "outputs": [],
   "source": [
    "from sklearn.linear_model import LogisticRegression\n",
    "bow_model = <YOUR CODE HERE - train a logistic regression>"
   ]
  },
  {
   "cell_type": "code",
   "execution_count": null,
   "metadata": {
    "pycharm": {
     "name": "#%%\n"
    }
   },
   "outputs": [],
   "source": [
    "from sklearn.metrics import roc_auc_score, roc_curve\n",
    "\n",
    "for name, X, y, model in [\n",
    "    ('train', X_train_bow, y_train, bow_model),\n",
    "    ('test ', X_test_bow, y_test, bow_model)\n",
    "]:\n",
    "    proba = model.predict_proba(X)[:, 1]\n",
    "    auc = roc_auc_score(y, proba)\n",
    "    plt.plot(*roc_curve(y, proba)[:2], label='%s AUC=%.4f' % (name, auc))\n",
    "\n",
    "plt.plot([0, 1], [0, 1], '--', color='black',)\n",
    "plt.legend(fontsize='large')\n",
    "plt.grid()\n",
    "\n",
    "test_accuracy = np.mean(bow_model.predict(X_test_bow) == y_test)\n",
    "print(f\"Model accuracy: {test_accuracy:.3f}\")\n",
    "assert test_accuracy > 0.77, \"Hint: tune the parameter C to improve performance\"\n",
    "print(\"Well done!\")"
   ]
  },
  {
   "cell_type": "markdown",
   "metadata": {
    "pycharm": {
     "name": "#%% md\n"
    }
   },
   "source": [
    "### Task: implement TF-IDF features\n",
    "\n",
    "Not all words are equally useful. One can prioritize rare words and downscale words like \"and\"/\"or\" by using __tf-idf features__. This abbreviation stands for __text frequency/inverse document frequence__ and means exactly that:\n",
    "\n",
    "$$ feature_i = { Count(word_i \\in x) \\times { log {N \\over Count(word_i \\in D) + \\alpha} }} $$\n",
    "\n",
    "\n",
    ", where x is a single text, D is your dataset (a collection of texts), N is a total number of documents and $\\alpha$ is a smoothing hyperparameter (typically 1). \n",
    "And $Count(word_i \\in D)$ is the number of documents where $word_i$ appears.\n",
    "\n",
    "It may also be a good idea to normalize each data sample after computing tf-idf features.\n",
    "\n",
    "__Your task:__ implement tf-idf features, train a model and evaluate ROC curve. Compare it with basic BagOfWords model from above.\n",
    "\n",
    "Please don't use sklearn/nltk builtin tf-idf vectorizers in your solution :) You can still use 'em for debugging though."
   ]
  },
  {
   "cell_type": "code",
   "execution_count": null,
   "metadata": {
    "pycharm": {
     "name": "#%%\n"
    }
   },
   "outputs": [],
   "source": []
  },
  {
   "cell_type": "markdown",
   "metadata": {
    "pycharm": {
     "name": "#%% md\n"
    }
   },
   "source": [
    "```\n",
    "\n",
    "```\n",
    "\n",
    "```\n",
    "\n",
    "```\n",
    "\n",
    "```\n",
    "\n",
    "```\n",
    "\n",
    "```\n",
    "\n",
    "```\n",
    "\n",
    "```\n",
    "\n",
    "```\n",
    "\n",
    "```\n",
    "\n",
    "```\n",
    "\n",
    "```\n",
    "\n",
    "```\n",
    "\n",
    "```\n",
    "\n",
    "```\n",
    "\n",
    "\n",
    "### Solving it better: word vectors\n",
    "\n",
    "Let's try another approach: instead of counting per-word frequencies, we shall map all words to pre-trained word vectors and average over them to get text features.\n",
    "\n",
    "This should give us two key advantages: (1) we now have 10^2 features instead of 10^4 and (2) our model can generalize to word that are not in training dataset.\n",
    "\n",
    "We begin with a standard approach with pre-trained word vectors. However, you may also try\n",
    "* training embeddings from scratch on relevant (unlabeled) data\n",
    "* multiplying word vectors by inverse word frequency in dataset (like tf-idf).\n",
    "* concatenating several embeddings\n",
    "    * call `gensim.downloader.info()['models'].keys()` to get a list of available models\n",
    "* clusterizing words by their word-vectors and try bag of cluster_ids\n",
    "\n",
    "__Note:__ loading pre-trained model may take a while. It's a perfect opportunity to refill your cup of tea/coffee and grab some extra cookies. Or binge-watch some tv series if you're slow on internet connection"
   ]
  },
  {
   "cell_type": "code",
   "execution_count": 13,
   "metadata": {
    "collapsed": true,
    "scrolled": false,
    "pycharm": {
     "name": "#%%\n"
    }
   },
   "outputs": [],
   "source": [
    "import gensim.downloader \n",
    "embeddings = gensim.downloader.load(\"fasttext-wiki-news-subwords-300\")\n",
    "\n",
    "# If you're low on RAM or download speed, use \"glove-wiki-gigaword-100\" instead. Ignore all further asserts."
   ]
  },
  {
   "cell_type": "code",
   "execution_count": 14,
   "metadata": {
    "collapsed": true,
    "pycharm": {
     "name": "#%%\n"
    }
   },
   "outputs": [],
   "source": [
    "def vectorize_sum(comment):\n",
    "    \"\"\"\n",
    "    implement a function that converts preprocessed comment to a sum of token vectors\n",
    "    \"\"\"\n",
    "    embedding_dim = embeddings.wv.vectors.shape[1]\n",
    "    features = np.zeros([embedding_dim], dtype='float32')\n",
    "    \n",
    "    <YOUR CODE>\n",
    "    \n",
    "    return features\n",
    "\n",
    "assert np.allclose(\n",
    "    vectorize_sum(\"who cares anymore . they attack with impunity .\")[::70],\n",
    "    np.array([ 0.0108616 ,  0.0261663 ,  0.13855131, -0.18510573, -0.46380025])\n",
    ")"
   ]
  },
  {
   "cell_type": "code",
   "execution_count": 18,
   "metadata": {
    "collapsed": true,
    "pycharm": {
     "name": "#%%\n"
    }
   },
   "outputs": [],
   "source": [
    "X_train_wv = np.stack([vectorize_sum(text) for text in texts_train])\n",
    "X_test_wv = np.stack([vectorize_sum(text) for text in texts_test])"
   ]
  },
  {
   "cell_type": "code",
   "execution_count": 19,
   "metadata": {
    "pycharm": {
     "name": "#%%\n"
    }
   },
   "outputs": [
    {
     "data": {
      "image/png": "[encoded data removed]",
      "text/plain": [
       "<matplotlib.figure.Figure at 0x7fc2d6dba550>"
      ]
     },
     "metadata": {},
     "output_type": "display_data"
    }
   ],
   "source": [
    "wv_model = LogisticRegression().fit(X_train_wv, y_train)\n",
    "\n",
    "for name, X, y, model in [\n",
    "    ('bow train', X_train_bow, y_train, bow_model),\n",
    "    ('bow test ', X_test_bow, y_test, bow_model),\n",
    "    ('vec train', X_train_wv, y_train, wv_model),\n",
    "    ('vec test ', X_test_wv, y_test, wv_model)\n",
    "]:\n",
    "    proba = model.predict_proba(X)[:, 1]\n",
    "    auc = roc_auc_score(y, proba)\n",
    "    plt.plot(*roc_curve(y, proba)[:2], label='%s AUC=%.4f' % (name, auc))\n",
    "\n",
    "plt.plot([0, 1], [0, 1], '--', color='black',)\n",
    "plt.legend(fontsize='large')\n",
    "plt.grid()\n",
    "\n",
    "assert roc_auc_score(y_test, wv_model.predict_proba(X_test_wv)[:, 1]) > 0.92, \"something's wrong with your features\""
   ]
  },
  {
   "cell_type": "markdown",
   "metadata": {
    "pycharm": {
     "name": "#%% md\n"
    }
   },
   "source": [
    "If everything went right, you've just managed to reduce misclassification rate by a factor of two.\n",
    "This trick is very useful when you're dealing with small datasets. However, if you have hundreds of thousands of samples, there's a whole different range of methods for that. We'll get there in the second part."
   ]
  }
 ],
 "metadata": {
  "kernelspec": {
   "display_name": "Python 3",
   "language": "python",
   "name": "python3"
  },
  "language_info": {
   "codemirror_mode": {
    "name": "ipython",
    "version": 3
   },
   "file_extension": ".py",
   "mimetype": "text/x-python",
   "name": "python",
   "nbconvert_exporter": "python",
   "pygments_lexer": "ipython3",
   "version": "3.8.10"
  }
 },
 "nbformat": 4,
 "nbformat_minor": 2
}