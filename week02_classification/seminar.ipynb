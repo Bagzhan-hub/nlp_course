{
 "cells": [
  {
   "cell_type": "markdown",
   "metadata": {
    "pycharm": {
     "name": "#%% md\n"
    }
   },
   "source": [
    "# Large scale text analysis with deep learning (3 points)\n",
    "\n",
    "Today we're gonna apply the newly learned tools for the task of predicting job salary.\n",
    "\n",
    "<img src=\"https://storage.googleapis.com/kaggle-competitions/kaggle/3342/media/salary%20prediction%20engine%20v2.png\" width=400px>\n",
    "\n",
    "_Special thanks to [Oleg Vasilev](https://github.com/Omrigan/) for the core assignment idea._"
   ]
  },
  {
   "cell_type": "code",
   "execution_count": 1,
   "metadata": {
    "pycharm": {
     "name": "#%%\n"
    }
   },
   "outputs": [],
   "source": [
    "import numpy as np\n",
    "import pandas as pd\n",
    "import matplotlib.pyplot as plt\n",
    "%matplotlib inline"
   ]
  },
  {
   "cell_type": "markdown",
   "metadata": {
    "pycharm": {
     "name": "#%% md\n"
    }
   },
   "source": [
    "### About the challenge\n",
    "For starters, let's download and unpack the data from [here]. \n",
    "\n",
    "You can also get it from [yadisk url](https://yadi.sk/d/vVEOWPFY3NruT7) the competition [page](https://www.kaggle.com/c/job-salary-prediction/data) (pick `Train_rev1.*`)."
   ]
  },
  {
   "cell_type": "code",
   "execution_count": 2,
   "metadata": {
    "pycharm": {
     "name": "#%%\n"
    }
   },
   "outputs": [
    {
     "name": "stdout",
     "output_type": "stream",
     "text": [
      "--2022-09-02 18:17:24--  https://ysda-seminars.s3.eu-central-1.amazonaws.com/Train_rev1.zip\r\n",
      "Resolving ysda-seminars.s3.eu-central-1.amazonaws.com (ysda-seminars.s3.eu-central-1.amazonaws.com)... 52.219.72.205\r\n",
      "Connecting to ysda-seminars.s3.eu-central-1.amazonaws.com (ysda-seminars.s3.eu-central-1.amazonaws.com)|52.219.72.205|:443... connected.\r\n",
      "HTTP request sent, awaiting response... 200 OK\r\n",
      "Length: 128356352 (122M) [application/zip]\r\n",
      "Saving to: ‘Train_rev1.zip’\r\n",
      "\r\n",
      "Train_rev1.zip      100%[===================>] 122.41M  9.82MB/s    in 13s     \r\n",
      "\r\n",
      "2022-09-02 18:17:38 (9.09 MB/s) - ‘Train_rev1.zip’ saved [128356352/128356352]\r\n",
      "\r\n",
      "Archive:  Train_rev1.zip\r\n",
      "  inflating: Train_rev1.csv          \r\n"
     ]
    },
    {
     "data": {
      "text/plain": "(244768, 12)"
     },
     "execution_count": 2,
     "metadata": {},
     "output_type": "execute_result"
    }
   ],
   "source": [
    "!wget https://ysda-seminars.s3.eu-central-1.amazonaws.com/Train_rev1.zip\n",
    "!unzip Train_rev1.zip\n",
    "data = pd.read_csv(\"./Train_rev1.csv\", index_col=None)\n",
    "data.shape"
   ]
  },
  {
   "cell_type": "code",
   "execution_count": 3,
   "metadata": {
    "pycharm": {
     "name": "#%%\n"
    }
   },
   "outputs": [
    {
     "data": {
      "text/plain": "         Id                                              Title  \\\n0  12612628                        Engineering Systems Analyst   \n1  12612830                            Stress Engineer Glasgow   \n2  12612844                   Modelling and simulation analyst   \n3  12613049  Engineering Systems Analyst / Mathematical Mod...   \n4  12613647         Pioneer, Miser Engineering Systems Analyst   \n\n                                     FullDescription  \\\n0  Engineering Systems Analyst Dorking Surrey Sal...   \n1  Stress Engineer Glasgow Salary **** to **** We...   \n2  Mathematical Modeller / Simulation Analyst / O...   \n3  Engineering Systems Analyst / Mathematical Mod...   \n4  Pioneer, Miser  Engineering Systems Analyst Do...   \n\n                         LocationRaw LocationNormalized ContractType  \\\n0            Dorking, Surrey, Surrey            Dorking          NaN   \n1        Glasgow, Scotland, Scotland            Glasgow          NaN   \n2  Hampshire, South East, South East          Hampshire          NaN   \n3     Surrey, South East, South East             Surrey          NaN   \n4     Surrey, South East, South East             Surrey          NaN   \n\n  ContractTime                       Company          Category  \\\n0    permanent  Gregory Martin International  Engineering Jobs   \n1    permanent  Gregory Martin International  Engineering Jobs   \n2    permanent  Gregory Martin International  Engineering Jobs   \n3    permanent  Gregory Martin International  Engineering Jobs   \n4    permanent  Gregory Martin International  Engineering Jobs   \n\n                                SalaryRaw  SalaryNormalized        SourceName  \n0              20000 - 30000/annum 20-30K             25000  cv-library.co.uk  \n1              25000 - 35000/annum 25-35K             30000  cv-library.co.uk  \n2              20000 - 40000/annum 20-40K             30000  cv-library.co.uk  \n3  25000 - 30000/annum 25K-30K negotiable             27500  cv-library.co.uk  \n4              20000 - 30000/annum 20-30K             25000  cv-library.co.uk  ",
      "text/html": "<div>\n<style scoped>\n    .dataframe tbody tr th:only-of-type {\n        vertical-align: middle;\n    }\n\n    .dataframe tbody tr th {\n        vertical-align: top;\n    }\n\n    .dataframe thead th {\n        text-align: right;\n    }\n</style>\n<table border=\"1\" class=\"dataframe\">\n  <thead>\n    <tr style=\"text-align: right;\">\n      <th></th>\n      <th>Id</th>\n      <th>Title</th>\n      <th>FullDescription</th>\n      <th>LocationRaw</th>\n      <th>LocationNormalized</th>\n      <th>ContractType</th>\n      <th>ContractTime</th>\n      <th>Company</th>\n      <th>Category</th>\n      <th>SalaryRaw</th>\n      <th>SalaryNormalized</th>\n      <th>SourceName</th>\n    </tr>\n  </thead>\n  <tbody>\n    <tr>\n      <th>0</th>\n      <td>12612628</td>\n      <td>Engineering Systems Analyst</td>\n      <td>Engineering Systems Analyst Dorking Surrey Sal...</td>\n      <td>Dorking, Surrey, Surrey</td>\n      <td>Dorking</td>\n      <td>NaN</td>\n      <td>permanent</td>\n      <td>Gregory Martin International</td>\n      <td>Engineering Jobs</td>\n      <td>20000 - 30000/annum 20-30K</td>\n      <td>25000</td>\n      <td>cv-library.co.uk</td>\n    </tr>\n    <tr>\n      <th>1</th>\n      <td>12612830</td>\n      <td>Stress Engineer Glasgow</td>\n      <td>Stress Engineer Glasgow Salary **** to **** We...</td>\n      <td>Glasgow, Scotland, Scotland</td>\n      <td>Glasgow</td>\n      <td>NaN</td>\n      <td>permanent</td>\n      <td>Gregory Martin International</td>\n      <td>Engineering Jobs</td>\n      <td>25000 - 35000/annum 25-35K</td>\n      <td>30000</td>\n      <td>cv-library.co.uk</td>\n    </tr>\n    <tr>\n      <th>2</th>\n      <td>12612844</td>\n      <td>Modelling and simulation analyst</td>\n      <td>Mathematical Modeller / Simulation Analyst / O...</td>\n      <td>Hampshire, South East, South East</td>\n      <td>Hampshire</td>\n      <td>NaN</td>\n      <td>permanent</td>\n      <td>Gregory Martin International</td>\n      <td>Engineering Jobs</td>\n      <td>20000 - 40000/annum 20-40K</td>\n      <td>30000</td>\n      <td>cv-library.co.uk</td>\n    </tr>\n    <tr>\n      <th>3</th>\n      <td>12613049</td>\n      <td>Engineering Systems Analyst / Mathematical Mod...</td>\n      <td>Engineering Systems Analyst / Mathematical Mod...</td>\n      <td>Surrey, South East, South East</td>\n      <td>Surrey</td>\n      <td>NaN</td>\n      <td>permanent</td>\n      <td>Gregory Martin International</td>\n      <td>Engineering Jobs</td>\n      <td>25000 - 30000/annum 25K-30K negotiable</td>\n      <td>27500</td>\n      <td>cv-library.co.uk</td>\n    </tr>\n    <tr>\n      <th>4</th>\n      <td>12613647</td>\n      <td>Pioneer, Miser Engineering Systems Analyst</td>\n      <td>Pioneer, Miser  Engineering Systems Analyst Do...</td>\n      <td>Surrey, South East, South East</td>\n      <td>Surrey</td>\n      <td>NaN</td>\n      <td>permanent</td>\n      <td>Gregory Martin International</td>\n      <td>Engineering Jobs</td>\n      <td>20000 - 30000/annum 20-30K</td>\n      <td>25000</td>\n      <td>cv-library.co.uk</td>\n    </tr>\n  </tbody>\n</table>\n</div>"
     },
     "execution_count": 3,
     "metadata": {},
     "output_type": "execute_result"
    }
   ],
   "source": [
    "data.head()"
   ]
  },
  {
   "cell_type": "markdown",
   "metadata": {
    "pycharm": {
     "name": "#%% md\n"
    }
   },
   "source": [
    "One problem with salary prediction is that it's oddly distributed: there are many people who are paid standard salaries and a few that get tons o money. The distribution is fat-tailed on the right side, which is inconvenient for MSE minimization.\n",
    "\n",
    "There are several techniques to combat this: using a different loss function, predicting log-target instead of raw target or even replacing targets with their percentiles among all salaries in the training set. We gonna use logarithm for now.\n",
    "\n",
    "_You can read more [in the official description](https://www.kaggle.com/c/job-salary-prediction#description)._"
   ]
  },
  {
   "cell_type": "code",
   "execution_count": 4,
   "metadata": {
    "pycharm": {
     "name": "#%%\n"
    }
   },
   "outputs": [
    {
     "data": {
      "text/plain": "<Figure size 576x288 with 2 Axes>",
      "image/png": "[encoded data removed]"
     },
     "metadata": {
      "needs_background": "light"
     },
     "output_type": "display_data"
    }
   ],
   "source": [
    "data['Log1pSalary'] = np.log1p(data['SalaryNormalized']).astype('float32')\n",
    "\n",
    "plt.figure(figsize=[8, 4])\n",
    "plt.subplot(1, 2, 1)\n",
    "plt.hist(data[\"SalaryNormalized\"], bins=20);\n",
    "\n",
    "plt.subplot(1, 2, 2)\n",
    "plt.hist(data['Log1pSalary'], bins=20);"
   ]
  },
  {
   "cell_type": "markdown",
   "metadata": {
    "pycharm": {
     "name": "#%% md\n"
    }
   },
   "source": [
    "Our task is to predict one number, __Log1pSalary__.\n",
    "\n",
    "To do so, our model can access a number of features:\n",
    "* Free text: __`Title`__ and  __`FullDescription`__\n",
    "* Categorical: __`Category`__, __`Company`__, __`LocationNormalized`__, __`ContractType`__, and __`ContractTime`__."
   ]
  },
  {
   "cell_type": "code",
   "execution_count": 5,
   "metadata": {
    "pycharm": {
     "name": "#%%\n"
    }
   },
   "outputs": [
    {
     "data": {
      "text/plain": "              Id                                              Title  \\\n204567  72114669  Governance, Rick and Compliance/Informaton Sec...   \n25311   67770120                                  Economics Teacher   \n122855  69948345                             Housekeeping Assistant   \n\n                                          FullDescription         LocationRaw  \\\n204567  Governance, Risk and Compliance Internal Consu...  North West England   \n25311   Progressive college near to Cambridge is curre...  Newmarket, England   \n122855  Modern Apprenticeship in Housekeeping availabl...             Dornoch   \n\n        LocationNormalized ContractType ContractTime  \\\n204567  North West England          NaN    permanent   \n25311            Newmarket          NaN          NaN   \n122855             Dornoch    full_time          NaN   \n\n                               Company                     Category  \\\n204567                             NaN                      IT Jobs   \n25311                              NaN                Teaching Jobs   \n122855  Forte Business Consultants Ltd  Hospitality & Catering Jobs   \n\n               SalaryRaw  SalaryNormalized               SourceName  \\\n204567  50000 - 68000 pa             59000  securityclearedjobs.com   \n25311              35000             35000     britishjobsonthe.net   \n122855     4.60 per hour              8832           Jobcentre Plus   \n\n        Log1pSalary  \n204567    10.985310  \n25311     10.463132  \n122855     9.086250  ",
      "text/html": "<div>\n<style scoped>\n    .dataframe tbody tr th:only-of-type {\n        vertical-align: middle;\n    }\n\n    .dataframe tbody tr th {\n        vertical-align: top;\n    }\n\n    .dataframe thead th {\n        text-align: right;\n    }\n</style>\n<table border=\"1\" class=\"dataframe\">\n  <thead>\n    <tr style=\"text-align: right;\">\n      <th></th>\n      <th>Id</th>\n      <th>Title</th>\n      <th>FullDescription</th>\n      <th>LocationRaw</th>\n      <th>LocationNormalized</th>\n      <th>ContractType</th>\n      <th>ContractTime</th>\n      <th>Company</th>\n      <th>Category</th>\n      <th>SalaryRaw</th>\n      <th>SalaryNormalized</th>\n      <th>SourceName</th>\n      <th>Log1pSalary</th>\n    </tr>\n  </thead>\n  <tbody>\n    <tr>\n      <th>204567</th>\n      <td>72114669</td>\n      <td>Governance, Rick and Compliance/Informaton Sec...</td>\n      <td>Governance, Risk and Compliance Internal Consu...</td>\n      <td>North West England</td>\n      <td>North West England</td>\n      <td>NaN</td>\n      <td>permanent</td>\n      <td>NaN</td>\n      <td>IT Jobs</td>\n      <td>50000 - 68000 pa</td>\n      <td>59000</td>\n      <td>securityclearedjobs.com</td>\n      <td>10.985310</td>\n    </tr>\n    <tr>\n      <th>25311</th>\n      <td>67770120</td>\n      <td>Economics Teacher</td>\n      <td>Progressive college near to Cambridge is curre...</td>\n      <td>Newmarket, England</td>\n      <td>Newmarket</td>\n      <td>NaN</td>\n      <td>NaN</td>\n      <td>NaN</td>\n      <td>Teaching Jobs</td>\n      <td>35000</td>\n      <td>35000</td>\n      <td>britishjobsonthe.net</td>\n      <td>10.463132</td>\n    </tr>\n    <tr>\n      <th>122855</th>\n      <td>69948345</td>\n      <td>Housekeeping Assistant</td>\n      <td>Modern Apprenticeship in Housekeeping availabl...</td>\n      <td>Dornoch</td>\n      <td>Dornoch</td>\n      <td>full_time</td>\n      <td>NaN</td>\n      <td>Forte Business Consultants Ltd</td>\n      <td>Hospitality &amp; Catering Jobs</td>\n      <td>4.60 per hour</td>\n      <td>8832</td>\n      <td>Jobcentre Plus</td>\n      <td>9.086250</td>\n    </tr>\n  </tbody>\n</table>\n</div>"
     },
     "execution_count": 5,
     "metadata": {},
     "output_type": "execute_result"
    }
   ],
   "source": [
    "text_columns = [\"Title\", \"FullDescription\"]\n",
    "categorical_columns = [\"Category\", \"Company\", \"LocationNormalized\", \"ContractType\", \"ContractTime\"]\n",
    "TARGET_COLUMN = \"Log1pSalary\"\n",
    "\n",
    "data[categorical_columns] = data[categorical_columns].fillna('NaN') # cast missing values to string \"NaN\"\n",
    "\n",
    "data.sample(3)"
   ]
  },
  {
   "cell_type": "markdown",
   "metadata": {
    "pycharm": {
     "name": "#%% md\n"
    }
   },
   "source": [
    "### Preprocessing text data\n",
    "\n",
    "Just like last week, applying NLP to a problem begins from tokenization: splitting raw text into sequences of tokens (words, punctuation, etc).\n",
    "\n",
    "__Your task__ is to lowercase and tokenize all texts under `Title` and `FullDescription` columns. Store the tokenized data as a __space-separated__ string of tokens for performance reasons.\n",
    "\n",
    "It's okay to use nltk tokenizers. Assertions were designed for WordPunctTokenizer, slight deviations are okay."
   ]
  },
  {
   "cell_type": "code",
   "execution_count": 6,
   "metadata": {
    "scrolled": true,
    "pycharm": {
     "name": "#%%\n"
    }
   },
   "outputs": [
    {
     "name": "stdout",
     "output_type": "stream",
     "text": [
      "Raw text:\n",
      "2         Mathematical Modeller / Simulation Analyst / O...\n",
      "100002    A successful and high achieving specialist sch...\n",
      "200002    Web Designer  HTML, CSS, JavaScript, Photoshop...\n",
      "Name: FullDescription, dtype: object\n"
     ]
    }
   ],
   "source": [
    "print(\"Raw text:\")\n",
    "print(data[\"FullDescription\"][2::100000])"
   ]
  },
  {
   "cell_type": "code",
   "execution_count": 7,
   "metadata": {
    "pycharm": {
     "name": "#%%\n"
    }
   },
   "outputs": [],
   "source": [
    "import nltk\n",
    "#TODO YOUR CODE HERE\n",
    "\n",
    "tokenizer = nltk.tokenize.WordPunctTokenizer()\n",
    "data['FullDescription'] = data['FullDescription'].apply(lambda x: ' '.join(tokenizer.tokenize(str(x).lower())))\n",
    "data['Title'] = data['Title'].apply(lambda x: ' '.join(tokenizer.tokenize(str(x).lower())))"
   ]
  },
  {
   "cell_type": "code",
   "execution_count": null,
   "outputs": [],
   "source": [
    "tokenizer."
   ],
   "metadata": {
    "collapsed": false,
    "pycharm": {
     "name": "#%%\n"
    }
   }
  },
  {
   "cell_type": "markdown",
   "metadata": {
    "pycharm": {
     "name": "#%% md\n"
    }
   },
   "source": [
    "Now we can assume that our text is a space-separated list of tokens:"
   ]
  },
  {
   "cell_type": "code",
   "execution_count": 8,
   "metadata": {
    "pycharm": {
     "name": "#%%\n"
    }
   },
   "outputs": [
    {
     "name": "stdout",
     "output_type": "stream",
     "text": [
      "Tokenized:\n",
      "2         mathematical modeller / simulation analyst / o...\n",
      "100002    a successful and high achieving specialist sch...\n",
      "200002    web designer html , css , javascript , photosh...\n",
      "Name: FullDescription, dtype: object\n"
     ]
    }
   ],
   "source": [
    "print(\"Tokenized:\")\n",
    "print(data[\"FullDescription\"][2::100000])\n",
    "assert data[\"FullDescription\"][2][:50] == 'mathematical modeller / simulation analyst / opera'\n",
    "assert data[\"Title\"][54321] == 'international digital account manager ( german )'"
   ]
  },
  {
   "cell_type": "markdown",
   "metadata": {
    "pycharm": {
     "name": "#%% md\n"
    }
   },
   "source": [
    "Not all words are equally useful. Some of them are typos or rare words that are only present a few times. \n",
    "\n",
    "Let's count how many times is each word present in the data so that we can build a \"white list\" of known words."
   ]
  },
  {
   "cell_type": "code",
   "execution_count": 19,
   "metadata": {
    "pycharm": {
     "name": "#%%\n"
    }
   },
   "outputs": [],
   "source": [
    "from collections import Counter\n",
    "token_counts = Counter()\n",
    "\n",
    "for row in data[['FullDescription', 'Title']].values:\n",
    "    token_counts.update(row[0].split())\n",
    "    token_counts.update(row[1].split())\n",
    "# Count how many times does each token occur in both \"Title\" and \"FullDescription\" in total"
   ]
  },
  {
   "cell_type": "code",
   "execution_count": 20,
   "metadata": {
    "pycharm": {
     "name": "#%%\n"
    }
   },
   "outputs": [
    {
     "name": "stdout",
     "output_type": "stream",
     "text": [
      "Total unique tokens : 202704\n",
      "('and', 2657388)\n",
      "('.', 2523216)\n",
      "(',', 2318606)\n",
      "('the', 2080994)\n",
      "('to', 2019884)\n",
      "...\n",
      "('stephanietraveltraderecruitmnt', 1)\n",
      "('ruabon', 1)\n",
      "('lowehays', 1)\n",
      "Correct!\n"
     ]
    }
   ],
   "source": [
    "print(\"Total unique tokens :\", len(token_counts))\n",
    "print('\\n'.join(map(str, token_counts.most_common(n=5))))\n",
    "print('...')\n",
    "print('\\n'.join(map(str, token_counts.most_common()[-3:])))\n",
    "\n",
    "assert token_counts.most_common(1)[0][1] in  range(2600000, 2700000)\n",
    "assert len(token_counts) in range(200000, 210000)\n",
    "print('Correct!')"
   ]
  },
  {
   "cell_type": "code",
   "execution_count": 21,
   "metadata": {
    "pycharm": {
     "name": "#%%\n"
    }
   },
   "outputs": [
    {
     "data": {
      "text/plain": "<Figure size 432x288 with 1 Axes>",
      "image/png": "[encoded data removed]"
     },
     "metadata": {
      "needs_background": "light"
     },
     "output_type": "display_data"
    }
   ],
   "source": [
    "# Let's see how many words are there for each count\n",
    "plt.hist(list(token_counts.values()), range=[0, 10**4], bins=50, log=True)\n",
    "plt.xlabel(\"Word counts\");"
   ]
  },
  {
   "cell_type": "markdown",
   "metadata": {
    "pycharm": {
     "name": "#%% md\n"
    }
   },
   "source": [
    "__Task 1.1__ Get a list of all tokens that occur at least 10 times."
   ]
  },
  {
   "cell_type": "code",
   "execution_count": 22,
   "metadata": {
    "pycharm": {
     "name": "#%%\n"
    }
   },
   "outputs": [],
   "source": [
    "min_count = 10\n",
    "\n",
    "# tokens from token_counts keys that had at least min_count occurrences throughout the dataset\n",
    "tokens = sorted(t for t, c in token_counts.items() if c >= min_count)#TODO<YOUR CODE HERE>\n",
    "\n",
    "# Add a special tokens for unknown and empty words\n",
    "UNK, PAD = \"UNK\", \"PAD\"\n",
    "tokens = [UNK, PAD] + tokens"
   ]
  },
  {
   "cell_type": "code",
   "execution_count": 24,
   "outputs": [
    {
     "data": {
      "text/plain": "['UNK',\n 'PAD',\n '\"',\n '$',\n '$****',\n '$****$****',\n '$****;',\n '%',\n '%)',\n '%),',\n '%).',\n '%****',\n '%,',\n '%.',\n '%/',\n '%;',\n '&',\n '&****',\n '&/',\n \"'\",\n \"'&\",\n \"''\",\n \"')\",\n \"').\",\n \"'****\",\n \"'****'\",\n \"',\",\n \"'.\",\n \"';\",\n \"'>\",\n \"'>****\",\n \"'>•\",\n \"'?\",\n '(',\n '($****',\n '(%',\n '(&',\n \"('\",\n '((',\n '()',\n '().',\n '(****',\n '(****%)',\n '(****)',\n '(****)(',\n '(****)****',\n '(****),',\n '(****).',\n '(********',\n '(********)',\n '(****/',\n '(****/****',\n '(****/****)',\n '(****/****),',\n '(****/****/****)',\n '(****:',\n '(****:****',\n '(****:****)',\n '(****:****:****)',\n '(.',\n '(>',\n '(>****',\n '(?)',\n '(‘',\n '(“',\n ')',\n ')&',\n \")'\",\n ')(',\n '))',\n ')).',\n ')****',\n '),',\n ').',\n ').•',\n ')/',\n '):',\n ');',\n ')>',\n ')?',\n ')–',\n ')•',\n '****',\n '****%',\n '****%)',\n '****%,',\n '****%.',\n '****&',\n '****&****',\n \"****'\",\n \"****'****\",\n \"****'********'****\",\n \"****',\",\n \"****'>\",\n '****(',\n '****(****',\n '****(****)',\n '****(****)(',\n '****(****)****',\n '****)',\n '****)****',\n '****),',\n '****).',\n '****):',\n '*******',\n '********',\n '********%',\n '********)',\n '************',\n '********,',\n '********.',\n '********/',\n '********?',\n '****,',\n '****.',\n '****.****',\n '****/',\n '****/****',\n '****/****)',\n '****/****).',\n '****/****/',\n '****/****/****',\n '****/****/****)',\n '****/****/****/****',\n '****/****:',\n '****/****;',\n '****:',\n '****:****',\n '****:****)',\n '****:****),',\n '****:****,',\n '****:****:',\n '****:****:****',\n '****:****:****)',\n '****:****;',\n '****;',\n '****;****',\n '****?',\n '****???',\n '****[',\n '****]',\n '****`',\n '****`****',\n '****–',\n '****–****',\n '****’',\n '****’****',\n '****”',\n '****…',\n '++',\n '++)',\n '++),',\n '++).',\n '++,',\n '++.',\n '++/',\n '++;',\n '++?',\n ',',\n ',&',\n ',(',\n ',)',\n ',).',\n ',****',\n ',,',\n ',.',\n ',/',\n ',;',\n ',??',\n '.',\n '.&',\n \".'\",\n '.(',\n '.)',\n '.),',\n '.).',\n '.);',\n '.****',\n '.****%',\n '.****)',\n '.********',\n '.****/',\n '.,',\n './',\n './/',\n '.:',\n '.;',\n '.>',\n '.?',\n '.??',\n '.]',\n '.\\u200b',\n '.’',\n '.”',\n '.•',\n '.\\uf0a7',\n '.\\uf0b7',\n '/',\n '/(',\n '/)',\n '/****',\n '/****)',\n '/****).',\n '/********/',\n '/****/',\n '/****/****',\n '/****/****)',\n '/****/****/',\n '/****/****/****',\n '/****:',\n '/****?',\n '/.',\n '//',\n '///////',\n '/>',\n '/?',\n '0',\n '00',\n '000',\n '00025',\n '000company',\n '000market',\n '000multi',\n '000my',\n '000the',\n '001',\n '005',\n '00am',\n '00am2',\n '00am3',\n '00am4',\n '00am5',\n '00am6',\n '00m',\n '00pm',\n '00pm9',\n '01',\n '010',\n '011',\n '011737015',\n '01189520151',\n '012',\n '013',\n '014',\n '015',\n '019',\n '02',\n '03',\n '04',\n '044',\n '046',\n '05',\n '05years',\n '06',\n '07',\n '07788318687',\n '08',\n '0800',\n '09',\n '0am',\n '0bed',\n '0k',\n '0m',\n '0mq',\n '0pm',\n '1',\n '10',\n '100',\n '1000',\n '100k',\n '100m',\n '100million',\n '1012',\n '1015',\n '102',\n '1020',\n '106',\n '106pm',\n '107',\n '108',\n '109',\n '10am',\n '10am2pm',\n '10am3pm',\n '10am4pm',\n '10am5pm',\n '10am6',\n '10am6pm',\n '10am7pm',\n '10bn',\n '10g',\n '10hrs',\n '10k',\n '10m',\n '10million',\n '10pm',\n '10pm6am',\n '10th',\n '10years',\n '11',\n '110',\n '1116',\n '1118',\n '112',\n '113',\n '115',\n '11am',\n '11g',\n '11i',\n '11pm',\n '11th',\n '12',\n '120',\n '120m',\n '1215',\n '1216',\n '1218',\n '1224',\n '125',\n '128pm',\n '12am',\n '12m',\n '12month',\n '12months',\n '12mths',\n '12pm',\n '12pm2pm',\n '12pm8pm',\n '12th',\n '13',\n '130',\n '130m',\n '13485',\n '135',\n '136',\n '13jan13',\n '13mk',\n '13th',\n '14',\n '140',\n '14001',\n '145',\n '14688',\n '14689',\n '147',\n '149',\n '14feb13',\n '14m',\n '14th',\n '15',\n '150',\n '1500',\n '15022',\n '150m',\n '1520',\n '154',\n '156',\n '15am',\n '15m',\n '15million',\n '15pm',\n '15th',\n '16',\n '160',\n '1600',\n '163',\n '1630',\n '165million',\n '16bit',\n '16m',\n '16th',\n '17',\n '170',\n '1700',\n '17025',\n '1730',\n '175',\n '176',\n '17m',\n '17pm',\n '17th',\n '17week',\n '18',\n '180',\n '1800',\n '18000',\n '18001',\n '1824',\n '183',\n '185',\n '18k',\n '18m',\n '18months',\n '18th',\n '19',\n '190',\n '197',\n '1973',\n '1974',\n '1976',\n '1978',\n '1980',\n '1982',\n '1983',\n '1984',\n '1985',\n '1986',\n '1987',\n '1988',\n '1989',\n '199',\n '1990',\n '1991',\n '1992',\n '1993',\n '1994',\n '1995',\n '1996',\n '1997',\n '1998',\n '1999',\n '19jan13',\n '19th',\n '1a',\n '1aa',\n '1am',\n '1b',\n '1bn',\n '1k',\n '1lp',\n '1m',\n '1million',\n '1nn',\n '1nx',\n '1pgrjobs',\n '1pm',\n '1pm3',\n '1st',\n '1st3rd',\n '1stassistantmanager_job',\n '1stplacegraduaterecruitment',\n '1week',\n '1years',\n '2',\n '20',\n '200',\n '2000',\n '20000',\n '2001',\n '2002',\n '20022',\n '2003',\n '2004',\n '2005',\n '2006',\n '2007',\n '2008',\n '2008r',\n '2008r2',\n '2009',\n '200m',\n '200million',\n '201',\n '2010',\n '2011',\n '2011number',\n '2012',\n '2013',\n '2013interview',\n '2013the',\n '2014',\n '2015',\n '201513',\n '2016',\n '2017',\n '2018',\n '2019',\n '202011',\n '2025',\n '2030',\n '20a',\n '20annex',\n '20application',\n '20convictions',\n '20days',\n '20feb',\n '20form',\n '20hrs',\n '20jan13',\n '20k',\n '20m',\n '20million',\n '20pm',\n '20th',\n '21',\n '210',\n '21st',\n '22',\n '220',\n '22000',\n '22k',\n '22nd',\n '23',\n '23000',\n '230strong',\n '237',\n '23feb',\n '23rd',\n '24',\n '240',\n '24hour',\n '24th',\n '25',\n '250',\n '250450',\n '250m',\n '2530',\n '25days',\n '25hrs',\n '25k',\n '25m',\n '25million',\n '25th',\n '26',\n '260',\n '26262',\n '2630',\n '26jan',\n '26th',\n '27',\n '27000',\n '27001',\n '275',\n '279',\n '27jan',\n '27k',\n '27m',\n '27th',\n '28',\n '280',\n '28k',\n '28pm',\n '28th',\n '29',\n '29th',\n '2aa',\n '2am',\n '2b',\n '2bn',\n '2d',\n '2form',\n '2hrs',\n '2ju',\n '2k',\n '2m',\n '2million',\n '2months',\n '2nd',\n '2ndline',\n '2pm',\n '2pm10pm',\n '2week',\n '2x',\n '2years',\n '2yrs',\n '3',\n '30',\n '300',\n '300m',\n '300million',\n '3035',\n '3035k',\n '304',\n '3040',\n '305',\n '3050',\n '305pm',\n '306',\n '306pm',\n '308',\n '309pm',\n '30am',\n '30am1',\n '30am12',\n '30am1pm',\n '30am3',\n '30am4',\n '30am4pm',\n '30am5',\n '30am5pm',\n '30am6',\n '30am6pm',\n '30am8',\n '30children',\n '30countries',\n '30hrs',\n '30k',\n '30m',\n '30million',\n '30pm',\n '30pm7',\n '30pm8',\n '30pm9',\n '30pm9pm',\n '30th',\n '31',\n '310',\n '312',\n '31st',\n '32',\n '320',\n '32bit',\n '33',\n '333',\n '336',\n '33k',\n '34',\n '340',\n '35',\n '350',\n '35000',\n '350m',\n '35635',\n '35k',\n '35m',\n '36',\n '360',\n '365',\n '36months',\n '37',\n '371',\n '37hour',\n '37hrs',\n '38',\n '39',\n '39hrs',\n '3aa',\n '3am',\n '3bn',\n '3d',\n '3days',\n '3e',\n '3g',\n '3gpp',\n '3k',\n '3m',\n '3million',\n '3month',\n '3months',\n '3par',\n '3pl',\n '3pm',\n '3pm11pm',\n '3rd',\n '3rdparty',\n '3x',\n '3years',\n '3yrs',\n '4',\n '40',\n '400',\n '4000',\n '40000',\n '400m',\n '4045',\n '40hrs',\n '40k',\n '40m',\n '40million',\n '41',\n '410',\n '415',\n '42',\n '43',\n '44',\n '45',\n '450',\n '4550',\n '45am',\n '45am6pm',\n '45k',\n '45m',\n '45pm',\n '46',\n '47',\n '48',\n '48pm',\n '49',\n '4am',\n '4children',\n '4d',\n '4days',\n '4hrs',\n '4k',\n '4m',\n '4million',\n '4off',\n '4on',\n '4pm',\n '4pm8pm',\n '4social',\n '4star',\n '4th',\n '4week',\n '5',\n '50',\n '500',\n '500m',\n '5060',\n '50am',\n '50k',\n '50m',\n '50million',\n '50pm',\n '51',\n '510',\n '515',\n '52',\n '53',\n '530pm',\n '54',\n '55',\n '550m',\n '551',\n '55th',\n '56',\n '57',\n '58',\n '59',\n '59pm',\n '5am',\n '5billion',\n '5days',\n '5hours',\n '5hrs',\n '5k',\n '5m',\n '5mb',\n '5million',\n '5pm',\n '5pm9pm',\n '5q',\n '5s',\n '5star',\n '5th',\n '5why',\n '5x',\n '5y',\n '5years',\n '5yrs',\n '6',\n '60',\n '600',\n '600m',\n '60k',\n '60m',\n '61',\n '610',\n '610am',\n '612',\n '61656',\n '62',\n '63',\n '64',\n '64bit',\n '65',\n '65365',\n '65822',\n '65m',\n '66',\n '67',\n '670',\n '68',\n '68am',\n '69',\n '69am',\n '6am',\n '6am2pm',\n '6am6pm',\n '6jb',\n '6k',\n '6m',\n '6million',\n '6month',\n '6months',\n '6pm',\n '6pm6am',\n '6th',\n '6weeks',\n '7',\n '70',\n '700',\n '7000',\n '70m',\n '71',\n '710',\n '712',\n '72',\n '73',\n '74',\n '75',\n '750',\n '750m',\n '75m',\n '76',\n '77',\n '78',\n '79',\n '7am',\n '7am10am',\n '7am11am',\n '7am11pm',\n '7am2pm',\n '7am3',\n '7am3pm',\n '7am4pm',\n '7am5pm',\n '7am7pm',\n '7days',\n '7k',\n '7m',\n '7million',\n '7pm',\n '7pm7am',\n '7th',\n '8',\n '80',\n '800',\n '80800',\n '8090',\n '80m',\n '81',\n '810',\n '812',\n '82',\n '8226',\n '8232',\n '83',\n '84',\n '85',\n '850m',\n '85pm',\n '86',\n '87',\n '88',\n '88pm',\n '89',\n '896',\n '8a',\n '8am',\n '8am12pm',\n '8am1pm',\n '8am2pm',\n '8am4',\n '8am4pm',\n '8am5',\n '8am5pm',\n '8am6pm',\n '8am7pm',\n '8am8pm',\n '8am9pm',\n '8c',\n '8d',\n '8m',\n '8pm',\n '8pm8am',\n '8sb',\n '8th',\n '9',\n '90',\n '900',\n '9000',\n '9001',\n '9001en',\n '9002',\n '90day',\n '90m',\n '91',\n '912',\n '92',\n '93',\n '9320100',\n '94',\n '95',\n '95pm',\n '96',\n '9632',\n '96pm',\n '97',\n '98',\n '99',\n '997',\n '998',\n '9am',\n '9am12pm',\n '9am1pm',\n '9am2pm',\n '9am3pm',\n '9am4pm',\n '9am5',\n '9am5pm',\n '9am6pm',\n '9am9pm',\n '9months',\n '9ph',\n '9pm',\n '9th',\n ':',\n ':&',\n \":'\",\n ':(',\n ':)',\n ':****',\n ':****)',\n ':********',\n ':****/',\n ':****/****',\n ':****/****/',\n ':****:',\n ':****:****',\n ':,',\n ':.',\n ':/',\n '://',\n '::',\n ':>',\n ':?',\n ':•',\n ';',\n ';)',\n ';****',\n ';****/',\n ';****;****;',\n ';,',\n ';.',\n ';;',\n ';•',\n '<',\n '>',\n '>****',\n '>>',\n '>>>',\n '>??',\n '?',\n \"?'\",\n '?)',\n '?).',\n '?****',\n '?,',\n '?.',\n '?:',\n '??',\n '??,',\n '??.',\n '???',\n '????',\n '??????',\n '??????????',\n '????????????',\n '??????????????',\n '?”',\n '[',\n ']',\n '],',\n '],****',\n '].',\n ']/',\n ']:',\n '^',\n '_',\n '__',\n '_____________________',\n '___________________________',\n '________________________________________',\n '______________________________________________________________________________',\n '_a',\n '_experience',\n '_job',\n '`',\n '`,',\n '`.',\n '``',\n 'a',\n 'a1',\n 'a1cae',\n 'a2',\n 'a24',\n 'a24connect',\n 'a3',\n 'a4',\n 'a400m',\n 'a4e',\n 'a4lfw4l',\n 'a4lg',\n 'aa',\n 'aaa',\n 'aaad',\n 'aaappointments',\n 'aab',\n 'aac',\n ...]"
     },
     "execution_count": 24,
     "metadata": {},
     "output_type": "execute_result"
    }
   ],
   "source": [
    "tokens"
   ],
   "metadata": {
    "collapsed": false,
    "pycharm": {
     "name": "#%%\n"
    }
   }
  },
  {
   "cell_type": "code",
   "execution_count": 23,
   "metadata": {
    "pycharm": {
     "name": "#%%\n"
    }
   },
   "outputs": [
    {
     "name": "stdout",
     "output_type": "stream",
     "text": [
      "Vocabulary size: 34158\n",
      "Correct!\n"
     ]
    }
   ],
   "source": [
    "print(\"Vocabulary size:\", len(tokens))\n",
    "assert type(tokens) == list\n",
    "assert len(tokens) in range(32000, 35000)\n",
    "assert 'me' in tokens\n",
    "assert UNK in tokens\n",
    "print(\"Correct!\")"
   ]
  },
  {
   "cell_type": "markdown",
   "metadata": {
    "pycharm": {
     "name": "#%% md\n"
    }
   },
   "source": [
    "__Task 1.2__ Build an inverse token index: a dictionary from token(string) to it's index in `tokens` (int)"
   ]
  },
  {
   "cell_type": "code",
   "execution_count": 25,
   "metadata": {
    "pycharm": {
     "name": "#%%\n"
    }
   },
   "outputs": [
    {
     "data": {
      "text/plain": "{'UNK': 0,\n 'PAD': 1,\n '\"': 2,\n '$': 3,\n '$****': 4,\n '$****$****': 5,\n '$****;': 6,\n '%': 7,\n '%)': 8,\n '%),': 9,\n '%).': 10,\n '%****': 11,\n '%,': 12,\n '%.': 13,\n '%/': 14,\n '%;': 15,\n '&': 16,\n '&****': 17,\n '&/': 18,\n \"'\": 19,\n \"'&\": 20,\n \"''\": 21,\n \"')\": 22,\n \"').\": 23,\n \"'****\": 24,\n \"'****'\": 25,\n \"',\": 26,\n \"'.\": 27,\n \"';\": 28,\n \"'>\": 29,\n \"'>****\": 30,\n \"'>•\": 31,\n \"'?\": 32,\n '(': 33,\n '($****': 34,\n '(%': 35,\n '(&': 36,\n \"('\": 37,\n '((': 38,\n '()': 39,\n '().': 40,\n '(****': 41,\n '(****%)': 42,\n '(****)': 43,\n '(****)(': 44,\n '(****)****': 45,\n '(****),': 46,\n '(****).': 47,\n '(********': 48,\n '(********)': 49,\n '(****/': 50,\n '(****/****': 51,\n '(****/****)': 52,\n '(****/****),': 53,\n '(****/****/****)': 54,\n '(****:': 55,\n '(****:****': 56,\n '(****:****)': 57,\n '(****:****:****)': 58,\n '(.': 59,\n '(>': 60,\n '(>****': 61,\n '(?)': 62,\n '(‘': 63,\n '(“': 64,\n ')': 65,\n ')&': 66,\n \")'\": 67,\n ')(': 68,\n '))': 69,\n ')).': 70,\n ')****': 71,\n '),': 72,\n ').': 73,\n ').•': 74,\n ')/': 75,\n '):': 76,\n ');': 77,\n ')>': 78,\n ')?': 79,\n ')–': 80,\n ')•': 81,\n '****': 82,\n '****%': 83,\n '****%)': 84,\n '****%,': 85,\n '****%.': 86,\n '****&': 87,\n '****&****': 88,\n \"****'\": 89,\n \"****'****\": 90,\n \"****'********'****\": 91,\n \"****',\": 92,\n \"****'>\": 93,\n '****(': 94,\n '****(****': 95,\n '****(****)': 96,\n '****(****)(': 97,\n '****(****)****': 98,\n '****)': 99,\n '****)****': 100,\n '****),': 101,\n '****).': 102,\n '****):': 103,\n '*******': 104,\n '********': 105,\n '********%': 106,\n '********)': 107,\n '************': 108,\n '********,': 109,\n '********.': 110,\n '********/': 111,\n '********?': 112,\n '****,': 113,\n '****.': 114,\n '****.****': 115,\n '****/': 116,\n '****/****': 117,\n '****/****)': 118,\n '****/****).': 119,\n '****/****/': 120,\n '****/****/****': 121,\n '****/****/****)': 122,\n '****/****/****/****': 123,\n '****/****:': 124,\n '****/****;': 125,\n '****:': 126,\n '****:****': 127,\n '****:****)': 128,\n '****:****),': 129,\n '****:****,': 130,\n '****:****:': 131,\n '****:****:****': 132,\n '****:****:****)': 133,\n '****:****;': 134,\n '****;': 135,\n '****;****': 136,\n '****?': 137,\n '****???': 138,\n '****[': 139,\n '****]': 140,\n '****`': 141,\n '****`****': 142,\n '****–': 143,\n '****–****': 144,\n '****’': 145,\n '****’****': 146,\n '****”': 147,\n '****…': 148,\n '++': 149,\n '++)': 150,\n '++),': 151,\n '++).': 152,\n '++,': 153,\n '++.': 154,\n '++/': 155,\n '++;': 156,\n '++?': 157,\n ',': 158,\n ',&': 159,\n ',(': 160,\n ',)': 161,\n ',).': 162,\n ',****': 163,\n ',,': 164,\n ',.': 165,\n ',/': 166,\n ',;': 167,\n ',??': 168,\n '.': 169,\n '.&': 170,\n \".'\": 171,\n '.(': 172,\n '.)': 173,\n '.),': 174,\n '.).': 175,\n '.);': 176,\n '.****': 177,\n '.****%': 178,\n '.****)': 179,\n '.********': 180,\n '.****/': 181,\n '.,': 182,\n './': 183,\n './/': 184,\n '.:': 185,\n '.;': 186,\n '.>': 187,\n '.?': 188,\n '.??': 189,\n '.]': 190,\n '.\\u200b': 191,\n '.’': 192,\n '.”': 193,\n '.•': 194,\n '.\\uf0a7': 195,\n '.\\uf0b7': 196,\n '/': 197,\n '/(': 198,\n '/)': 199,\n '/****': 200,\n '/****)': 201,\n '/****).': 202,\n '/********/': 203,\n '/****/': 204,\n '/****/****': 205,\n '/****/****)': 206,\n '/****/****/': 207,\n '/****/****/****': 208,\n '/****:': 209,\n '/****?': 210,\n '/.': 211,\n '//': 212,\n '///////': 213,\n '/>': 214,\n '/?': 215,\n '0': 216,\n '00': 217,\n '000': 218,\n '00025': 219,\n '000company': 220,\n '000market': 221,\n '000multi': 222,\n '000my': 223,\n '000the': 224,\n '001': 225,\n '005': 226,\n '00am': 227,\n '00am2': 228,\n '00am3': 229,\n '00am4': 230,\n '00am5': 231,\n '00am6': 232,\n '00m': 233,\n '00pm': 234,\n '00pm9': 235,\n '01': 236,\n '010': 237,\n '011': 238,\n '011737015': 239,\n '01189520151': 240,\n '012': 241,\n '013': 242,\n '014': 243,\n '015': 244,\n '019': 245,\n '02': 246,\n '03': 247,\n '04': 248,\n '044': 249,\n '046': 250,\n '05': 251,\n '05years': 252,\n '06': 253,\n '07': 254,\n '07788318687': 255,\n '08': 256,\n '0800': 257,\n '09': 258,\n '0am': 259,\n '0bed': 260,\n '0k': 261,\n '0m': 262,\n '0mq': 263,\n '0pm': 264,\n '1': 265,\n '10': 266,\n '100': 267,\n '1000': 268,\n '100k': 269,\n '100m': 270,\n '100million': 271,\n '1012': 272,\n '1015': 273,\n '102': 274,\n '1020': 275,\n '106': 276,\n '106pm': 277,\n '107': 278,\n '108': 279,\n '109': 280,\n '10am': 281,\n '10am2pm': 282,\n '10am3pm': 283,\n '10am4pm': 284,\n '10am5pm': 285,\n '10am6': 286,\n '10am6pm': 287,\n '10am7pm': 288,\n '10bn': 289,\n '10g': 290,\n '10hrs': 291,\n '10k': 292,\n '10m': 293,\n '10million': 294,\n '10pm': 295,\n '10pm6am': 296,\n '10th': 297,\n '10years': 298,\n '11': 299,\n '110': 300,\n '1116': 301,\n '1118': 302,\n '112': 303,\n '113': 304,\n '115': 305,\n '11am': 306,\n '11g': 307,\n '11i': 308,\n '11pm': 309,\n '11th': 310,\n '12': 311,\n '120': 312,\n '120m': 313,\n '1215': 314,\n '1216': 315,\n '1218': 316,\n '1224': 317,\n '125': 318,\n '128pm': 319,\n '12am': 320,\n '12m': 321,\n '12month': 322,\n '12months': 323,\n '12mths': 324,\n '12pm': 325,\n '12pm2pm': 326,\n '12pm8pm': 327,\n '12th': 328,\n '13': 329,\n '130': 330,\n '130m': 331,\n '13485': 332,\n '135': 333,\n '136': 334,\n '13jan13': 335,\n '13mk': 336,\n '13th': 337,\n '14': 338,\n '140': 339,\n '14001': 340,\n '145': 341,\n '14688': 342,\n '14689': 343,\n '147': 344,\n '149': 345,\n '14feb13': 346,\n '14m': 347,\n '14th': 348,\n '15': 349,\n '150': 350,\n '1500': 351,\n '15022': 352,\n '150m': 353,\n '1520': 354,\n '154': 355,\n '156': 356,\n '15am': 357,\n '15m': 358,\n '15million': 359,\n '15pm': 360,\n '15th': 361,\n '16': 362,\n '160': 363,\n '1600': 364,\n '163': 365,\n '1630': 366,\n '165million': 367,\n '16bit': 368,\n '16m': 369,\n '16th': 370,\n '17': 371,\n '170': 372,\n '1700': 373,\n '17025': 374,\n '1730': 375,\n '175': 376,\n '176': 377,\n '17m': 378,\n '17pm': 379,\n '17th': 380,\n '17week': 381,\n '18': 382,\n '180': 383,\n '1800': 384,\n '18000': 385,\n '18001': 386,\n '1824': 387,\n '183': 388,\n '185': 389,\n '18k': 390,\n '18m': 391,\n '18months': 392,\n '18th': 393,\n '19': 394,\n '190': 395,\n '197': 396,\n '1973': 397,\n '1974': 398,\n '1976': 399,\n '1978': 400,\n '1980': 401,\n '1982': 402,\n '1983': 403,\n '1984': 404,\n '1985': 405,\n '1986': 406,\n '1987': 407,\n '1988': 408,\n '1989': 409,\n '199': 410,\n '1990': 411,\n '1991': 412,\n '1992': 413,\n '1993': 414,\n '1994': 415,\n '1995': 416,\n '1996': 417,\n '1997': 418,\n '1998': 419,\n '1999': 420,\n '19jan13': 421,\n '19th': 422,\n '1a': 423,\n '1aa': 424,\n '1am': 425,\n '1b': 426,\n '1bn': 427,\n '1k': 428,\n '1lp': 429,\n '1m': 430,\n '1million': 431,\n '1nn': 432,\n '1nx': 433,\n '1pgrjobs': 434,\n '1pm': 435,\n '1pm3': 436,\n '1st': 437,\n '1st3rd': 438,\n '1stassistantmanager_job': 439,\n '1stplacegraduaterecruitment': 440,\n '1week': 441,\n '1years': 442,\n '2': 443,\n '20': 444,\n '200': 445,\n '2000': 446,\n '20000': 447,\n '2001': 448,\n '2002': 449,\n '20022': 450,\n '2003': 451,\n '2004': 452,\n '2005': 453,\n '2006': 454,\n '2007': 455,\n '2008': 456,\n '2008r': 457,\n '2008r2': 458,\n '2009': 459,\n '200m': 460,\n '200million': 461,\n '201': 462,\n '2010': 463,\n '2011': 464,\n '2011number': 465,\n '2012': 466,\n '2013': 467,\n '2013interview': 468,\n '2013the': 469,\n '2014': 470,\n '2015': 471,\n '201513': 472,\n '2016': 473,\n '2017': 474,\n '2018': 475,\n '2019': 476,\n '202011': 477,\n '2025': 478,\n '2030': 479,\n '20a': 480,\n '20annex': 481,\n '20application': 482,\n '20convictions': 483,\n '20days': 484,\n '20feb': 485,\n '20form': 486,\n '20hrs': 487,\n '20jan13': 488,\n '20k': 489,\n '20m': 490,\n '20million': 491,\n '20pm': 492,\n '20th': 493,\n '21': 494,\n '210': 495,\n '21st': 496,\n '22': 497,\n '220': 498,\n '22000': 499,\n '22k': 500,\n '22nd': 501,\n '23': 502,\n '23000': 503,\n '230strong': 504,\n '237': 505,\n '23feb': 506,\n '23rd': 507,\n '24': 508,\n '240': 509,\n '24hour': 510,\n '24th': 511,\n '25': 512,\n '250': 513,\n '250450': 514,\n '250m': 515,\n '2530': 516,\n '25days': 517,\n '25hrs': 518,\n '25k': 519,\n '25m': 520,\n '25million': 521,\n '25th': 522,\n '26': 523,\n '260': 524,\n '26262': 525,\n '2630': 526,\n '26jan': 527,\n '26th': 528,\n '27': 529,\n '27000': 530,\n '27001': 531,\n '275': 532,\n '279': 533,\n '27jan': 534,\n '27k': 535,\n '27m': 536,\n '27th': 537,\n '28': 538,\n '280': 539,\n '28k': 540,\n '28pm': 541,\n '28th': 542,\n '29': 543,\n '29th': 544,\n '2aa': 545,\n '2am': 546,\n '2b': 547,\n '2bn': 548,\n '2d': 549,\n '2form': 550,\n '2hrs': 551,\n '2ju': 552,\n '2k': 553,\n '2m': 554,\n '2million': 555,\n '2months': 556,\n '2nd': 557,\n '2ndline': 558,\n '2pm': 559,\n '2pm10pm': 560,\n '2week': 561,\n '2x': 562,\n '2years': 563,\n '2yrs': 564,\n '3': 565,\n '30': 566,\n '300': 567,\n '300m': 568,\n '300million': 569,\n '3035': 570,\n '3035k': 571,\n '304': 572,\n '3040': 573,\n '305': 574,\n '3050': 575,\n '305pm': 576,\n '306': 577,\n '306pm': 578,\n '308': 579,\n '309pm': 580,\n '30am': 581,\n '30am1': 582,\n '30am12': 583,\n '30am1pm': 584,\n '30am3': 585,\n '30am4': 586,\n '30am4pm': 587,\n '30am5': 588,\n '30am5pm': 589,\n '30am6': 590,\n '30am6pm': 591,\n '30am8': 592,\n '30children': 593,\n '30countries': 594,\n '30hrs': 595,\n '30k': 596,\n '30m': 597,\n '30million': 598,\n '30pm': 599,\n '30pm7': 600,\n '30pm8': 601,\n '30pm9': 602,\n '30pm9pm': 603,\n '30th': 604,\n '31': 605,\n '310': 606,\n '312': 607,\n '31st': 608,\n '32': 609,\n '320': 610,\n '32bit': 611,\n '33': 612,\n '333': 613,\n '336': 614,\n '33k': 615,\n '34': 616,\n '340': 617,\n '35': 618,\n '350': 619,\n '35000': 620,\n '350m': 621,\n '35635': 622,\n '35k': 623,\n '35m': 624,\n '36': 625,\n '360': 626,\n '365': 627,\n '36months': 628,\n '37': 629,\n '371': 630,\n '37hour': 631,\n '37hrs': 632,\n '38': 633,\n '39': 634,\n '39hrs': 635,\n '3aa': 636,\n '3am': 637,\n '3bn': 638,\n '3d': 639,\n '3days': 640,\n '3e': 641,\n '3g': 642,\n '3gpp': 643,\n '3k': 644,\n '3m': 645,\n '3million': 646,\n '3month': 647,\n '3months': 648,\n '3par': 649,\n '3pl': 650,\n '3pm': 651,\n '3pm11pm': 652,\n '3rd': 653,\n '3rdparty': 654,\n '3x': 655,\n '3years': 656,\n '3yrs': 657,\n '4': 658,\n '40': 659,\n '400': 660,\n '4000': 661,\n '40000': 662,\n '400m': 663,\n '4045': 664,\n '40hrs': 665,\n '40k': 666,\n '40m': 667,\n '40million': 668,\n '41': 669,\n '410': 670,\n '415': 671,\n '42': 672,\n '43': 673,\n '44': 674,\n '45': 675,\n '450': 676,\n '4550': 677,\n '45am': 678,\n '45am6pm': 679,\n '45k': 680,\n '45m': 681,\n '45pm': 682,\n '46': 683,\n '47': 684,\n '48': 685,\n '48pm': 686,\n '49': 687,\n '4am': 688,\n '4children': 689,\n '4d': 690,\n '4days': 691,\n '4hrs': 692,\n '4k': 693,\n '4m': 694,\n '4million': 695,\n '4off': 696,\n '4on': 697,\n '4pm': 698,\n '4pm8pm': 699,\n '4social': 700,\n '4star': 701,\n '4th': 702,\n '4week': 703,\n '5': 704,\n '50': 705,\n '500': 706,\n '500m': 707,\n '5060': 708,\n '50am': 709,\n '50k': 710,\n '50m': 711,\n '50million': 712,\n '50pm': 713,\n '51': 714,\n '510': 715,\n '515': 716,\n '52': 717,\n '53': 718,\n '530pm': 719,\n '54': 720,\n '55': 721,\n '550m': 722,\n '551': 723,\n '55th': 724,\n '56': 725,\n '57': 726,\n '58': 727,\n '59': 728,\n '59pm': 729,\n '5am': 730,\n '5billion': 731,\n '5days': 732,\n '5hours': 733,\n '5hrs': 734,\n '5k': 735,\n '5m': 736,\n '5mb': 737,\n '5million': 738,\n '5pm': 739,\n '5pm9pm': 740,\n '5q': 741,\n '5s': 742,\n '5star': 743,\n '5th': 744,\n '5why': 745,\n '5x': 746,\n '5y': 747,\n '5years': 748,\n '5yrs': 749,\n '6': 750,\n '60': 751,\n '600': 752,\n '600m': 753,\n '60k': 754,\n '60m': 755,\n '61': 756,\n '610': 757,\n '610am': 758,\n '612': 759,\n '61656': 760,\n '62': 761,\n '63': 762,\n '64': 763,\n '64bit': 764,\n '65': 765,\n '65365': 766,\n '65822': 767,\n '65m': 768,\n '66': 769,\n '67': 770,\n '670': 771,\n '68': 772,\n '68am': 773,\n '69': 774,\n '69am': 775,\n '6am': 776,\n '6am2pm': 777,\n '6am6pm': 778,\n '6jb': 779,\n '6k': 780,\n '6m': 781,\n '6million': 782,\n '6month': 783,\n '6months': 784,\n '6pm': 785,\n '6pm6am': 786,\n '6th': 787,\n '6weeks': 788,\n '7': 789,\n '70': 790,\n '700': 791,\n '7000': 792,\n '70m': 793,\n '71': 794,\n '710': 795,\n '712': 796,\n '72': 797,\n '73': 798,\n '74': 799,\n '75': 800,\n '750': 801,\n '750m': 802,\n '75m': 803,\n '76': 804,\n '77': 805,\n '78': 806,\n '79': 807,\n '7am': 808,\n '7am10am': 809,\n '7am11am': 810,\n '7am11pm': 811,\n '7am2pm': 812,\n '7am3': 813,\n '7am3pm': 814,\n '7am4pm': 815,\n '7am5pm': 816,\n '7am7pm': 817,\n '7days': 818,\n '7k': 819,\n '7m': 820,\n '7million': 821,\n '7pm': 822,\n '7pm7am': 823,\n '7th': 824,\n '8': 825,\n '80': 826,\n '800': 827,\n '80800': 828,\n '8090': 829,\n '80m': 830,\n '81': 831,\n '810': 832,\n '812': 833,\n '82': 834,\n '8226': 835,\n '8232': 836,\n '83': 837,\n '84': 838,\n '85': 839,\n '850m': 840,\n '85pm': 841,\n '86': 842,\n '87': 843,\n '88': 844,\n '88pm': 845,\n '89': 846,\n '896': 847,\n '8a': 848,\n '8am': 849,\n '8am12pm': 850,\n '8am1pm': 851,\n '8am2pm': 852,\n '8am4': 853,\n '8am4pm': 854,\n '8am5': 855,\n '8am5pm': 856,\n '8am6pm': 857,\n '8am7pm': 858,\n '8am8pm': 859,\n '8am9pm': 860,\n '8c': 861,\n '8d': 862,\n '8m': 863,\n '8pm': 864,\n '8pm8am': 865,\n '8sb': 866,\n '8th': 867,\n '9': 868,\n '90': 869,\n '900': 870,\n '9000': 871,\n '9001': 872,\n '9001en': 873,\n '9002': 874,\n '90day': 875,\n '90m': 876,\n '91': 877,\n '912': 878,\n '92': 879,\n '93': 880,\n '9320100': 881,\n '94': 882,\n '95': 883,\n '95pm': 884,\n '96': 885,\n '9632': 886,\n '96pm': 887,\n '97': 888,\n '98': 889,\n '99': 890,\n '997': 891,\n '998': 892,\n '9am': 893,\n '9am12pm': 894,\n '9am1pm': 895,\n '9am2pm': 896,\n '9am3pm': 897,\n '9am4pm': 898,\n '9am5': 899,\n '9am5pm': 900,\n '9am6pm': 901,\n '9am9pm': 902,\n '9months': 903,\n '9ph': 904,\n '9pm': 905,\n '9th': 906,\n ':': 907,\n ':&': 908,\n \":'\": 909,\n ':(': 910,\n ':)': 911,\n ':****': 912,\n ':****)': 913,\n ':********': 914,\n ':****/': 915,\n ':****/****': 916,\n ':****/****/': 917,\n ':****:': 918,\n ':****:****': 919,\n ':,': 920,\n ':.': 921,\n ':/': 922,\n '://': 923,\n '::': 924,\n ':>': 925,\n ':?': 926,\n ':•': 927,\n ';': 928,\n ';)': 929,\n ';****': 930,\n ';****/': 931,\n ';****;****;': 932,\n ';,': 933,\n ';.': 934,\n ';;': 935,\n ';•': 936,\n '<': 937,\n '>': 938,\n '>****': 939,\n '>>': 940,\n '>>>': 941,\n '>??': 942,\n '?': 943,\n \"?'\": 944,\n '?)': 945,\n '?).': 946,\n '?****': 947,\n '?,': 948,\n '?.': 949,\n '?:': 950,\n '??': 951,\n '??,': 952,\n '??.': 953,\n '???': 954,\n '????': 955,\n '??????': 956,\n '??????????': 957,\n '????????????': 958,\n '??????????????': 959,\n '?”': 960,\n '[': 961,\n ']': 962,\n '],': 963,\n '],****': 964,\n '].': 965,\n ']/': 966,\n ']:': 967,\n '^': 968,\n '_': 969,\n '__': 970,\n '_____________________': 971,\n '___________________________': 972,\n '________________________________________': 973,\n '______________________________________________________________________________': 974,\n '_a': 975,\n '_experience': 976,\n '_job': 977,\n '`': 978,\n '`,': 979,\n '`.': 980,\n '``': 981,\n 'a': 982,\n 'a1': 983,\n 'a1cae': 984,\n 'a2': 985,\n 'a24': 986,\n 'a24connect': 987,\n 'a3': 988,\n 'a4': 989,\n 'a400m': 990,\n 'a4e': 991,\n 'a4lfw4l': 992,\n 'a4lg': 993,\n 'aa': 994,\n 'aaa': 995,\n 'aaad': 996,\n 'aaappointments': 997,\n 'aab': 998,\n 'aac': 999,\n ...}"
     },
     "execution_count": 25,
     "metadata": {},
     "output_type": "execute_result"
    }
   ],
   "source": [
    "token_to_id = dict(map(reversed,enumerate(tokens)))\n",
    "token_to_id"
   ]
  },
  {
   "cell_type": "code",
   "execution_count": null,
   "metadata": {
    "pycharm": {
     "name": "#%%\n"
    }
   },
   "outputs": [],
   "source": [
    "assert isinstance(token_to_id, dict)\n",
    "assert len(token_to_id) == len(tokens)\n",
    "for tok in tokens:\n",
    "    assert tokens[token_to_id[tok]] == tok\n",
    "\n",
    "print(\"Correct!\")"
   ]
  },
  {
   "cell_type": "markdown",
   "metadata": {
    "pycharm": {
     "name": "#%% md\n"
    }
   },
   "source": [
    "And finally, let's use the vocabulary you've built to map text lines into neural network-digestible matrices."
   ]
  },
  {
   "cell_type": "code",
   "execution_count": null,
   "metadata": {
    "pycharm": {
     "name": "#%%\n"
    }
   },
   "outputs": [],
   "source": [
    "UNK_IX, PAD_IX = map(token_to_id.get, [UNK, PAD])\n",
    "\n",
    "def as_matrix(sequences, max_len=None):\n",
    "    \"\"\" Convert a list of tokens into a matrix with padding \"\"\"\n",
    "    if isinstance(sequences[0], str):\n",
    "        sequences = list(map(str.split, sequences))\n",
    "        \n",
    "    max_len = min(max(map(len, sequences)), max_len or float('inf'))\n",
    "    \n",
    "    matrix = np.full((len(sequences), max_len), np.int32(PAD_IX))\n",
    "    for i,seq in enumerate(sequences):\n",
    "        row_ix = [token_to_id.get(word, UNK_IX) for word in seq[:max_len]]\n",
    "        matrix[i, :len(row_ix)] = row_ix\n",
    "    \n",
    "    return matrix"
   ]
  },
  {
   "cell_type": "code",
   "execution_count": null,
   "metadata": {
    "pycharm": {
     "name": "#%%\n"
    }
   },
   "outputs": [],
   "source": [
    "print(\"Lines:\")\n",
    "print('\\n'.join(data[\"Title\"][::100000].values), end='\\n\\n')\n",
    "print(\"Matrix:\")\n",
    "print(as_matrix(data[\"Title\"][::100000]))"
   ]
  },
  {
   "cell_type": "markdown",
   "metadata": {
    "pycharm": {
     "name": "#%% md\n"
    }
   },
   "source": [
    "Now let's  encode the categirical data we have.\n",
    "\n",
    "As usual, we shall use one-hot encoding for simplicity. Kudos if you implement more advanced encodings: tf-idf, pseudo-time-series, etc."
   ]
  },
  {
   "cell_type": "code",
   "execution_count": null,
   "metadata": {
    "pycharm": {
     "name": "#%%\n"
    }
   },
   "outputs": [],
   "source": [
    "from sklearn.feature_extraction import DictVectorizer\n",
    "\n",
    "# we only consider top-1k most frequent companies to minimize memory usage\n",
    "top_companies, top_counts = zip(*Counter(data['Company']).most_common(1000))\n",
    "recognized_companies = set(top_companies)\n",
    "data[\"Company\"] = data[\"Company\"].apply(lambda comp: comp if comp in recognized_companies else \"Other\")\n",
    "\n",
    "categorical_vectorizer = DictVectorizer(dtype=np.float32, sparse=False)\n",
    "categorical_vectorizer.fit(data[categorical_columns].apply(dict, axis=1))"
   ]
  },
  {
   "cell_type": "markdown",
   "metadata": {
    "pycharm": {
     "name": "#%% md\n"
    }
   },
   "source": [
    "### The deep learning part\n",
    "\n",
    "Once we've learned to tokenize the data, let's design a machine learning experiment.\n",
    "\n",
    "As before, we won't focus too much on validation, opting for a simple train-test split.\n",
    "\n",
    "__To be completely rigorous,__ we've comitted a small crime here: we used the whole data for tokenization and vocabulary building. A more strict way would be to do that part on training set only. You may want to do that and measure the magnitude of changes."
   ]
  },
  {
   "cell_type": "code",
   "execution_count": null,
   "metadata": {
    "pycharm": {
     "name": "#%%\n"
    }
   },
   "outputs": [],
   "source": [
    "from sklearn.model_selection import train_test_split\n",
    "\n",
    "data_train, data_val = train_test_split(data, test_size=0.2, random_state=42)\n",
    "data_train.index = range(len(data_train))\n",
    "data_val.index = range(len(data_val))\n",
    "\n",
    "print(\"Train size = \", len(data_train))\n",
    "print(\"Validation size = \", len(data_val))"
   ]
  },
  {
   "cell_type": "code",
   "execution_count": null,
   "metadata": {
    "pycharm": {
     "name": "#%%\n"
    }
   },
   "outputs": [],
   "source": [
    "import torch\n",
    "\n",
    "def to_tensors(batch, device):\n",
    "    batch_tensors = dict()\n",
    "    for key, arr in batch.items():\n",
    "        if key in [\"FullDescription\", \"Title\"]:\n",
    "            batch_tensors[key] = torch.tensor(arr, device=device, dtype=torch.int64)\n",
    "        else:\n",
    "            batch_tensors[key] = torch.tensor(arr, device=device)\n",
    "    return batch_tensors\n",
    "\n",
    "def make_batch(data, max_len=None, word_dropout=0, device=torch.device('cpu')):\n",
    "    \"\"\"\n",
    "    Creates a keras-friendly dict from the batch data.\n",
    "    :param word_dropout: replaces token index with UNK_IX with this probability\n",
    "    :returns: a dict with {'title' : int64[batch, title_max_len]\n",
    "    \"\"\"\n",
    "    batch = {}\n",
    "    batch[\"Title\"] = as_matrix(data[\"Title\"].values, max_len)\n",
    "    batch[\"FullDescription\"] = as_matrix(data[\"FullDescription\"].values, max_len)\n",
    "    batch['Categorical'] = categorical_vectorizer.transform(data[categorical_columns].apply(dict, axis=1))\n",
    "    \n",
    "    if word_dropout != 0:\n",
    "        batch[\"FullDescription\"] = apply_word_dropout(batch[\"FullDescription\"], 1. - word_dropout)\n",
    "    \n",
    "    if TARGET_COLUMN in data.columns:\n",
    "        batch[target_column] = data[TARGET_COLUMN].values\n",
    "    \n",
    "    return to_tensors(batch, device)\n",
    "\n",
    "def apply_word_dropout(matrix, keep_prop, replace_with=UNK_IX, pad_ix=PAD_IX,):\n",
    "    dropout_mask = np.random.choice(2, np.shape(matrix), p=[keep_prop, 1 - keep_prop])\n",
    "    dropout_mask &= matrix != pad_ix\n",
    "    return np.choose(dropout_mask, [matrix, np.full_like(matrix, replace_with)])"
   ]
  },
  {
   "cell_type": "code",
   "execution_count": null,
   "metadata": {
    "scrolled": true,
    "pycharm": {
     "name": "#%%\n"
    }
   },
   "outputs": [],
   "source": [
    "make_batch(data_train[:3], max_len=10)"
   ]
  },
  {
   "cell_type": "markdown",
   "metadata": {
    "pycharm": {
     "name": "#%% md\n"
    }
   },
   "source": [
    "#### Architecture\n",
    "\n",
    "Our basic model consists of three branches:\n",
    "* Title encoder\n",
    "* Description encoder\n",
    "* Categorical features encoder\n",
    "\n",
    "We will then feed all 3 branches into one common network that predicts salary.\n",
    "\n",
    "![scheme](https://github.com/yandexdataschool/nlp_course/raw/master/resources/w2_conv_arch.png)"
   ]
  },
  {
   "cell_type": "markdown",
   "metadata": {
    "pycharm": {
     "name": "#%% md\n"
    }
   },
   "source": [
    "This clearly doesn't fit into keras' __Sequential__ interface. To build such a network, one will have to use PyTorch."
   ]
  },
  {
   "cell_type": "code",
   "execution_count": null,
   "metadata": {
    "pycharm": {
     "name": "#%%\n"
    }
   },
   "outputs": [],
   "source": [
    "import torch\n",
    "import torch.nn as nn\n",
    "import torch.functional as F"
   ]
  },
  {
   "cell_type": "code",
   "execution_count": null,
   "metadata": {
    "pycharm": {
     "name": "#%%\n"
    }
   },
   "outputs": [],
   "source": [
    "class SalaryPredictor(nn.Module):\n",
    "    def __init__(self, n_tokens=len(tokens), n_cat_features=len(categorical_vectorizer.vocabulary_), hid_size=64):\n",
    "        super().__init__()\n",
    "        #  YOUR CODE HERE\n",
    "        \n",
    "    def forward(self, batch):\n",
    "        # YOUR CODE HERE\n",
    "        \n",
    "        "
   ]
  },
  {
   "cell_type": "code",
   "execution_count": null,
   "metadata": {
    "pycharm": {
     "name": "#%%\n"
    }
   },
   "outputs": [],
   "source": [
    "model = SalaryPredictor()"
   ]
  },
  {
   "cell_type": "code",
   "execution_count": null,
   "metadata": {
    "pycharm": {
     "name": "#%%\n"
    }
   },
   "outputs": [],
   "source": [
    "model = SalaryPredictor()\n",
    "batch = make_batch(data_train[:100])\n",
    "criterion = nn.MSELoss()\n",
    "\n",
    "dummy_pred = model(batch)\n",
    "dummy_loss = criterion(dummy_pred, batch[TARGET_COLUMN])\n",
    "assert dummy_pred.shape == torch.Size([100])\n",
    "assert len(torch.unique(dummy_pred)) > 20, \"model returns suspiciously few unique outputs. Check your initialization\"\n",
    "assert dummy_loss.ndim == 0 and 0. <= dummy_loss <= 250., \"make sure you minimize MSE\""
   ]
  },
  {
   "cell_type": "markdown",
   "metadata": {
    "pycharm": {
     "name": "#%% md\n"
    }
   },
   "source": [
    "#### Training and evaluation\n",
    "\n",
    "As usual, we gonna feed our monster with random minibatches of data. \n",
    "\n",
    "As we train, we want to monitor not only loss function, which is computed in log-space, but also the actual error measured in dollars."
   ]
  },
  {
   "cell_type": "code",
   "execution_count": null,
   "metadata": {
    "pycharm": {
     "name": "#%%\n"
    }
   },
   "outputs": [],
   "source": [
    "def iterate_minibatches(data, batch_size=256, shuffle=True, cycle=False, device=torch.device('cpu'), **kwargs):\n",
    "    \"\"\" iterates minibatches of data in random order \"\"\"\n",
    "    while True:\n",
    "        indices = np.arange(len(data))\n",
    "        if shuffle:\n",
    "            indices = np.random.permutation(indices)\n",
    "\n",
    "        for start in range(0, len(indices), batch_size):\n",
    "            batch = make_batch(data.iloc[indices[start : start + batch_size]], **kwargs)\n",
    "            yield batch\n",
    "        \n",
    "        if not cycle: break"
   ]
  },
  {
   "cell_type": "markdown",
   "metadata": {
    "pycharm": {
     "name": "#%% md\n"
    }
   },
   "source": [
    "### Model training\n",
    "\n",
    "We can now fit our model the usual minibatch way. The interesting part is that we train on an infinite stream of minibatches, produced by `iterate_minibatches` function."
   ]
  },
  {
   "cell_type": "code",
   "execution_count": null,
   "metadata": {
    "pycharm": {
     "name": "#%%\n"
    }
   },
   "outputs": [],
   "source": [
    "import tqdm\n",
    "\n",
    "BATCH_SIZE = 16\n",
    "EPOCHS = 5\n",
    "DEVICE = torch.device('cpu')"
   ]
  },
  {
   "cell_type": "code",
   "execution_count": null,
   "metadata": {
    "pycharm": {
     "name": "#%%\n"
    }
   },
   "outputs": [],
   "source": [
    "def print_metrics(model, data, batch_size=BATCH_SIZE, name=\"\", **kw):\n",
    "    squared_error = abs_error = num_samples = 0.0\n",
    "    model.eval()\n",
    "    with torch.no_grad():\n",
    "        for batch in iterate_minibatches(data, batch_size=batch_size, shuffle=False, **kw):\n",
    "            batch_pred = model(batch)\n",
    "            squared_error += torch.sum(torch.square(batch_pred - batch[TARGET_COLUMN]))\n",
    "            abs_error += torch.sum(torch.abs(batch_pred - batch[TARGET_COLUMN]))\n",
    "            num_samples += len(batch_pred)\n",
    "    mse = squared_error.detach().cpu().numpy() / num_samples\n",
    "    mae = abs_error.detach().cpu().numpy() / num_samples\n",
    "    print(\"%s results:\" % (name or \"\"))\n",
    "    print(\"Mean square error: %.5f\" % mse)\n",
    "    print(\"Mean absolute error: %.5f\" % mae)\n",
    "    return mse, mae\n"
   ]
  },
  {
   "cell_type": "code",
   "execution_count": null,
   "metadata": {
    "pycharm": {
     "name": "#%%\n"
    }
   },
   "outputs": [],
   "source": [
    "model = SalaryPredictor().to(DEVICE)\n",
    "criterion = nn.MSELoss(reduction='sum')\n",
    "optimizer = torch.optim.SGD(model.parameters(), lr=1e-4)\n",
    "\n",
    "for epoch in range(EPOCHS):\n",
    "    print(f\"epoch: {epoch}\")\n",
    "    model.train()\n",
    "    for i, batch in tqdm.tqdm_notebook(enumerate(\n",
    "            iterate_minibatches(data_train, batch_size=BATCH_SIZE, device=DEVICE)),\n",
    "            total=len(data_train) // BATCH_SIZE\n",
    "        ):\n",
    "        pred = model(batch)\n",
    "        loss = criterion(pred, batch[TARGET_COLUMN])\n",
    "        optimizer.zero_grad()\n",
    "        loss.backward()\n",
    "        optimizer.step()\n",
    "        \n",
    "    print_metrics(model, data_val)\n",
    "\n",
    "      "
   ]
  },
  {
   "cell_type": "markdown",
   "metadata": {
    "pycharm": {
     "name": "#%% md\n"
    }
   },
   "source": [
    "### Bonus part: explaining model predictions\n",
    "\n",
    "It's usually a good idea to understand how your model works before you let it make actual decisions. It's simple for linear models: just see which words learned positive or negative weights. However, its much harder for neural networks that learn complex nonlinear dependencies.\n",
    "\n",
    "There are, however, some ways to look inside the black box:\n",
    "* Seeing how model responds to input perturbations\n",
    "* Finding inputs that maximize/minimize activation of some chosen neurons (_read more [on distill.pub](https://distill.pub/2018/building-blocks/)_)\n",
    "* Building local linear approximations to your neural network: [article](https://arxiv.org/abs/1602.04938), [eli5 library](https://github.com/TeamHG-Memex/eli5/tree/master/eli5/formatters)\n",
    "\n",
    "Today we gonna try the first method just because it's the simplest one."
   ]
  },
  {
   "cell_type": "code",
   "execution_count": null,
   "metadata": {
    "pycharm": {
     "name": "#%%\n"
    }
   },
   "outputs": [],
   "source": [
    "def explain(model, sample, col_name='Title'):\n",
    "    \"\"\" Computes the effect each word had on model predictions \"\"\"\n",
    "    sample = dict(sample)\n",
    "    sample_col_tokens = [tokens[token_to_id.get(tok, 0)] for tok in sample[col_name].split()]\n",
    "    data_drop_one_token = pd.DataFrame([sample] * (len(sample_col_tokens) + 1))\n",
    "\n",
    "    for drop_i in range(len(sample_col_tokens)):\n",
    "        data_drop_one_token.loc[drop_i, col_name] = ' '.join(UNK if i == drop_i else tok\n",
    "                                                   for i, tok in enumerate(sample_col_tokens)) \n",
    "\n",
    "    *predictions_drop_one_token, baseline_pred = model.predict(make_batch(data_drop_one_token))[:, 0]\n",
    "    diffs = baseline_pred - predictions_drop_one_token\n",
    "    return list(zip(sample_col_tokens, diffs))"
   ]
  },
  {
   "cell_type": "code",
   "execution_count": null,
   "metadata": {
    "pycharm": {
     "name": "#%%\n"
    }
   },
   "outputs": [],
   "source": [
    "from IPython.display import HTML, display_html\n",
    "\n",
    "\n",
    "def draw_html(tokens_and_weights, cmap=plt.get_cmap(\"bwr\"), display=True,\n",
    "              token_template=\"\"\"<span style=\"background-color: {color_hex}\">{token}</span>\"\"\",\n",
    "              font_style=\"font-size:14px;\"\n",
    "             ):\n",
    "    \n",
    "    def get_color_hex(weight):\n",
    "        rgba = cmap(1. / (1 + np.exp(weight)), bytes=True)\n",
    "        return '#%02X%02X%02X' % rgba[:3]\n",
    "    \n",
    "    tokens_html = [\n",
    "        token_template.format(token=token, color_hex=get_color_hex(weight))\n",
    "        for token, weight in tokens_and_weights\n",
    "    ]\n",
    "    \n",
    "    \n",
    "    raw_html = \"\"\"<p style=\"{}\">{}</p>\"\"\".format(font_style, ' '.join(tokens_html))\n",
    "    if display:\n",
    "        display_html(HTML(raw_html))\n",
    "        \n",
    "    return raw_html\n",
    "    "
   ]
  },
  {
   "cell_type": "code",
   "execution_count": null,
   "metadata": {
    "pycharm": {
     "name": "#%%\n"
    }
   },
   "outputs": [],
   "source": [
    "i = 36605\n",
    "tokens_and_weights = explain(model, data.loc[i], \"Title\")\n",
    "draw_html([(tok, weight * 5) for tok, weight in tokens_and_weights], font_style='font-size:20px;');\n",
    "\n",
    "tokens_and_weights = explain(model, data.loc[i], \"FullDescription\")\n",
    "draw_html([(tok, weight * 10) for tok, weight in tokens_and_weights]);"
   ]
  },
  {
   "cell_type": "code",
   "execution_count": null,
   "metadata": {
    "pycharm": {
     "name": "#%%\n"
    }
   },
   "outputs": [],
   "source": [
    "i = 12077\n",
    "tokens_and_weights = explain(model, data.loc[i], \"Title\")\n",
    "draw_html([(tok, weight * 5) for tok, weight in tokens_and_weights], font_style='font-size:20px;');\n",
    "\n",
    "tokens_and_weights = explain(model, data.loc[i], \"FullDescription\")\n",
    "draw_html([(tok, weight * 10) for tok, weight in tokens_and_weights]);"
   ]
  },
  {
   "cell_type": "code",
   "execution_count": null,
   "metadata": {
    "pycharm": {
     "name": "#%%\n"
    }
   },
   "outputs": [],
   "source": [
    "i = np.random.randint(len(data))\n",
    "print(\"Index:\", i)\n",
    "print(\"Salary (gbp):\", np.expm1(model.predict(make_batch(data.iloc[i: i+1]))[0, 0]))\n",
    "\n",
    "tokens_and_weights = explain(model, data.loc[i], \"Title\")\n",
    "draw_html([(tok, weight * 5) for tok, weight in tokens_and_weights], font_style='font-size:20px;');\n",
    "\n",
    "tokens_and_weights = explain(model, data.loc[i], \"FullDescription\")\n",
    "draw_html([(tok, weight * 10) for tok, weight in tokens_and_weights]);"
   ]
  },
  {
   "cell_type": "markdown",
   "metadata": {
    "pycharm": {
     "name": "#%% md\n"
    }
   },
   "source": [
    "__Terrible start-up idea #1962:__ make a tool that automaticaly rephrases your job description (or CV) to meet salary expectations :)"
   ]
  }
 ],
 "metadata": {
  "kernelspec": {
   "display_name": "Python 3",
   "language": "python",
   "name": "python3"
  },
  "language_info": {
   "codemirror_mode": {
    "name": "ipython",
    "version": 3
   },
   "file_extension": ".py",
   "mimetype": "text/x-python",
   "name": "python",
   "nbconvert_exporter": "python",
   "pygments_lexer": "ipython3",
   "version": "3.8.1"
  }
 },
 "nbformat": 4,
 "nbformat_minor": 2
}